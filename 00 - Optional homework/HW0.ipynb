{
 "cells": [
  {
   "cell_type": "markdown",
   "metadata": {},
   "source": [
    "# 00 - Optional homework\n",
    "\n",
    "For this initial homework we will be training with the [gunshot deaths](http://fivethirtyeight.com/features/gun-deaths/) dataset. Get it [here](https://github.com/fivethirtyeight/guns-data/blob/master/interactive_data.csv). \n",
    "\n",
    "The goal of this optional homework is to use an IPython Notebook to reproduce the results reported in the visualization at the top of the article (e.g., \"nearly two-thirds of gun deaths are suicides\"). It's not necessary to generate visualizations for the results -- numbers should be more than enough to convince yourself that you were able to reproduce the results of that article."
   ]
  },
  {
   "cell_type": "code",
   "execution_count": 36,
   "metadata": {},
   "outputs": [],
   "source": [
    "import pandas as pd\n",
    "import numpy as np"
   ]
  },
  {
   "cell_type": "code",
   "execution_count": 58,
   "metadata": {
    "scrolled": true
   },
   "outputs": [
    {
     "name": "stdout",
     "output_type": "stream",
     "text": [
      "Intent\n",
      "Accident           4368\n",
      "Homicide          93808\n",
      "None selected    268791\n",
      "Suicide          168464\n",
      "Unknown            2149\n",
      "Name: Deaths, dtype: int64\n"
     ]
    }
   ],
   "source": [
    "path_csv = 'interactive_data.csv'\n",
    "data = pd.read_csv(path_csv, header=0, index_col=0)\n",
    "\n",
    "# Use unique and tags\n",
    "diff_cause = data['Intent'].unique()\n",
    "intent_death = pd.Series([ data[data['Intent']==tag]['Deaths'].sum() for tag in r ], index=diff_cause)\n",
    "\n",
    "# Group by categories\n",
    "intent_death = data.groupby('Intent')['Deaths'].sum()\n",
    "\n",
    "print(intent_death)"
   ]
  },
  {
   "cell_type": "code",
   "execution_count": 59,
   "metadata": {},
   "outputs": [
    {
     "name": "stdout",
     "output_type": "stream",
     "text": [
      "Sucide: 0.63, Other 0.37\n"
     ]
    }
   ],
   "source": [
    "# Since None slected is not relevan, we drop it.\n",
    "intent_death = intent_death.drop('None selected')\n",
    "intent_death /= intent_death.sum()\n",
    "print('Sucide: {:2.2f}, Other {:2.2f}'.format(intent_death['Suicide'], 1-intent_death['Suicide']))"
   ]
  }
 ],
 "metadata": {
  "kernelspec": {
   "display_name": "Python [conda env:ada]",
   "language": "python",
   "name": "conda-env-ada-py"
  },
  "language_info": {
   "codemirror_mode": {
    "name": "ipython",
    "version": 3
   },
   "file_extension": ".py",
   "mimetype": "text/x-python",
   "name": "python",
   "nbconvert_exporter": "python",
   "pygments_lexer": "ipython3",
   "version": "3.5.4"
  }
 },
 "nbformat": 4,
 "nbformat_minor": 2
}
