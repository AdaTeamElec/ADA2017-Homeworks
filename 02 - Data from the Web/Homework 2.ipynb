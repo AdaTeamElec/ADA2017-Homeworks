{
 "cells": [
  {
   "cell_type": "code",
   "execution_count": 2,
   "metadata": {},
   "outputs": [
    {
     "name": "stdout",
     "output_type": "stream",
     "text": [
      "Populating the interactive namespace from numpy and matplotlib\n"
     ]
    }
   ],
   "source": [
    "import requests\n",
    "import pandas as pd\n",
    "import numpy as np\n",
    "from bs4 import BeautifulSoup  # Check description below if not already installed\n",
    "import seaborn as sns\n",
    "\n",
    "%pylab inline\n",
    "\n",
    "sns.set_palette('Set2', 8)\n",
    "sns.set_context(\"notebook\")"
   ]
  },
  {
   "cell_type": "markdown",
   "metadata": {},
   "source": [
    "# 0. Description\n",
    "\n",
    "## Background\n",
    "In this homework we will extract interesting information from www.topuniversities.com and www.timeshighereducation.com, two platforms that maintain a global ranking of worldwide universities. This ranking is not offered as a downloadable dataset, so you will have to find a way to scrape the information we need!\n",
    "You are not allowed to download manually the entire ranking -- rather you have to understand how the server loads it in your browser. For this task, Postman with the Interceptor extension can help you greatly. We recommend that you watch this [brief tutorial](https://www.youtube.com/watch?v=jBjXVrS8nXs&list=PLM-7VG-sgbtD8qBnGeQM5nvlpqB_ktaLZ&autoplay=1) to understand quickly how to use it.\n",
    "\n",
    "## Assignment\n",
    "1. Obtain the 200 top-ranking universities in www.topuniversities.com ([ranking 2018](https://www.topuniversities.com/university-rankings/world-university-rankings/2018)). In particular, extract the following fields for each university: `name`, `rank`, `country` and `region`, `number of faculty members` (international and total) and `number of students` (international and total). Some information is not available in the main list and you have to find them in the [details page](https://www.topuniversities.com/universities/ecole-polytechnique-fédérale-de-lausanne-epfl).\n",
    "Store the resulting dataset in a pandas DataFrame and answer the following questions:\n",
    "- Which are the best universities in term of: (a) ratio between faculty members and students, (b) ratio of international students?\n",
    "- Answer the previous question aggregating the data by (c) country and (d) region.\n",
    "\n",
    "Plot your data using bar charts and describe briefly what you observed.\n",
    "\n",
    "2. Obtain the 200 top-ranking universities in www.timeshighereducation.com ([ranking 2018](http://timeshighereducation.com/world-university-rankings/2018/world-ranking)). Repeat the analysis of the previous point and discuss briefly what you observed.\n",
    "\n",
    "3. Merge the two DataFrames created in questions 1 and 2 using university names. Match universities' names as well as you can, and explain your strategy. Keep track of the original position in both rankings.\n",
    "\n",
    "4. Find useful insights in the data by performing an exploratory analysis. Can you find a strong correlation between any pair of variables in the dataset you just created? Example: when a university is strong in its international dimension, can you observe a consistency both for students and faculty members?\n",
    "\n",
    "5. Can you find the best university taking in consideration both rankings? Explain your approach.\n",
    "\n",
    "Hints:\n",
    "- Keep your Notebook clean and don't print the verbose output of the requests if this does not add useful information for the reader.\n",
    "- In case of tie, use the order defined in the webpage.\n",
    "\n",
    "## BeautifulSoup soup\n",
    "\n",
    "BeautifulSoup is used to extract tags and information from webpage. To install the package please use the following command\n",
    "\n",
    "```\n",
    "conda install beautifulsoup4\n",
    "```\n",
    "\n",
    "# 1. topuniversities.com\n",
    "\n",
    "Let's first focus on the first website. If you go to www.topuniversities.com ([ranking 2018](https://www.topuniversities.com/university-rankings/world-university-rankings/2018)) you will see the first 25 top ranked universities. Howerver if you look at the code source (HTML web page) you will not find occurence of MIT ranking informations. Let's now use Console (ctrl-shift-k on Firefox, ctrl-shift-i on Chrome). You can see the web trafic (Network on Firefox and Chrome), i.e. every requests that are sent the porperly display the webpage.\n",
    "\n",
    "\n",
    "We can see that most of them are css files (*.css), javascript files (*.js) or images (*.png). The website will load the images of each university, therfore we can assume that it needs to know what is the ranking to do so.\n",
    "\n",
    "## 1.1 Main ranking information\n",
    "If we look on the requests that append just before we can find a XHR files (XML Http Request) https://www.topuniversities.com/sites/default/files/qs-rankings-data/357051.txt. It contains the univertities names and attributes. If you click on the link you can see that it is a JSON file. The first level is a key named `data`. `data` is a vector and each element if a university with tags displayed below. We can keep `country`, `rank_display`, `score`, `title`, `region`\n"
   ]
  },
  {
   "cell_type": "code",
   "execution_count": null,
   "metadata": {
    "collapsed": true
   },
   "outputs": [],
   "source": [
    "r = requests.get('https://www.topuniversities.com/sites/default/files/qs-rankings-data/357051.txt')\n",
    "print('Tags of JSON 1st level: {}'.format(r.json().keys()))\n",
    "print('Tags of JSON 2nd level: {}'.format(r.json()['data'][0].keys()))"
   ]
  },
  {
   "cell_type": "code",
   "execution_count": null,
   "metadata": {
    "collapsed": true
   },
   "outputs": [],
   "source": [
    "top_uni_df = pd.DataFrame(r.json()['data'], columns=['title', 'country', 'region', 'rank_display', 'score', 'url'])\n",
    "top_uni_df.iloc[25:30]"
   ]
  },
  {
   "cell_type": "markdown",
   "metadata": {},
   "source": [
    "Note that some univertities have same rank. In this case the rank number will be `= X` where `X` is the ranking number. We cannot only cast it to integer we have to remove `=` first. We also complete the url for each university with `url` = `https://www.topuniversities.com` + `url` + `#wurs` according to href link of website"
   ]
  },
  {
   "cell_type": "code",
   "execution_count": null,
   "metadata": {
    "collapsed": true
   },
   "outputs": [],
   "source": [
    "top_uni_df['score'] = pd.to_numeric(top_uni_df['score'], errors='coerce')\n",
    "top_uni_df['rank_display'] = pd.to_numeric(top_uni_df['rank_display'].map(lambda x: x.lstrip('=')), errors='coerce')\n",
    "top_uni_df['url'] = top_uni_df['url'].map(lambda x: 'https://www.topuniversities.com' + x + '#wurs')\n",
    "top_uni_df = top_uni_df.sort_values(by='score', ascending=False).iloc[:200]\n",
    "top_uni_df.head()"
   ]
  },
  {
   "cell_type": "markdown",
   "metadata": {},
   "source": [
    "We perform a sanity check. We can see that there are no NaN values in our dataframe"
   ]
  },
  {
   "cell_type": "code",
   "execution_count": null,
   "metadata": {
    "collapsed": true
   },
   "outputs": [],
   "source": [
    "np.sum(top_uni_df.isnull())"
   ]
  },
  {
   "cell_type": "markdown",
   "metadata": {},
   "source": [
    "## 1.2 Unversities detailed informations\n",
    "\n",
    "We still need to find `number of faculty members` (international and total) and `number of students` (international and total). To do so we will use the `url` field that contains the URL to the page that describe the university. If we look, for example, at the [MIT](https://www.topuniversities.com/universities/massachusetts-institute-technology-mit#wurs) one we can see that there are plots displaying the Number of academic faculty staff aka `number of faculty members` and `number of students`. \n",
    "\n",
    "Looking at the source code allow us to see that thoses values are hard coded in the web page. We can therefore use BS4 to directly get the infos. All values are located inside `<div>` tags and have `class='number'`"
   ]
  },
  {
   "cell_type": "code",
   "execution_count": null,
   "metadata": {
    "collapsed": true
   },
   "outputs": [],
   "source": [
    "from log import log_progress  # Fancy progress display\n",
    "# Will contain the university info as [faculty_total, faculty_international, student_total, student_international]\n",
    "infos = np.ones((len(top_uni_df), 4))*np.nan  \n",
    "for i, url in log_progress(enumerate(top_uni_df['url']), every=1, size=len(top_uni_df)): \n",
    "    try:\n",
    "        # Get request for specific university\n",
    "        r_uni = requests.get(url)\n",
    "        soup = BeautifulSoup(r_uni.text, 'html.parser')\n",
    "        # Parse file to get specific informations about faculty and stuent (according to website html structure)\n",
    "        faculty = soup.find('div', class_='faculty-main')\n",
    "        infos[i, 0:2] = [int(val.text.replace(',', '')) for val in faculty.find_all('div', class_='number')]\n",
    "        infos[i, 2] = int(soup.find('div', class_='students-main').find('div', class_='number').text.replace(',', ''))\n",
    "        infos[i, 3] = int(soup.find('div', class_='int-students-main').find('div', class_='number').text.replace(',', ''))\n",
    "    except Exception as e:\n",
    "        print('Unable to find fields:', url)"
   ]
  },
  {
   "cell_type": "markdown",
   "metadata": {},
   "source": [
    "Once the requests are performed and values loaded we can affect them to their respective fields. Note that (New York University)[https://www.topuniversities.com/universities/new-york-university-nyu#wurs] does not have informatation about student and facultier memebers. Therefore the values will be set to NaN. We also save the results avoid performing crowling at each run."
   ]
  },
  {
   "cell_type": "code",
   "execution_count": null,
   "metadata": {
    "collapsed": true
   },
   "outputs": [],
   "source": [
    "top_uni_df['faculty_tot'] = infos[:, 0]\n",
    "top_uni_df['faculty_int'] = infos[:, 1]\n",
    "top_uni_df['student_tot'] = infos[:, 2]\n",
    "top_uni_df['student_int'] = infos[:, 3]\n",
    "top_uni_df.set_index(['title'], inplace=True)\n",
    "top_uni_df.to_csv('top_uni.csv')  # Backup (just run fetch once)\n",
    "top_uni_df.head()"
   ]
  },
  {
   "cell_type": "markdown",
   "metadata": {},
   "source": [
    "## 1.3 Results \n",
    "\n",
    "We can load our csv file and set `title` as index column. It allows us to check if all entries are unique (should be the case of course)"
   ]
  },
  {
   "cell_type": "code",
<<<<<<< HEAD
   "execution_count": 3,
   "metadata": {},
   "outputs": [
    {
     "name": "stdout",
     "output_type": "stream",
     "text": [
      "Is index unique: True\n"
     ]
    }
   ],
=======
   "execution_count": null,
   "metadata": {
    "collapsed": true
   },
   "outputs": [],
>>>>>>> master
   "source": [
    "top_uni_df = pd.read_csv('top_uni.csv', index_col='title')\n",
    "print('Is index unique: {}'.format(top_uni_df.index.is_unique))"
   ]
  },
  {
   "cell_type": "markdown",
   "metadata": {},
   "source": [
    "### (a) - (b)\n",
    "\n",
    "We dont have to create new fields. All values are already present in our dataframe. We therefore express. (a) ratio between faculty members and students as `faculty_tot`/`student_tot` and (b) ratio of international students as `student_int`/`student_tot`"
   ]
  },
  {
   "cell_type": "code",
   "execution_count": null,
   "metadata": {
    "collapsed": true
   },
   "outputs": [],
   "source": [
    "N_TOP = 8\n",
    "def nice_bar_plot(data, ax, title='', y_axis=''):\n",
    "    ax.set_title(title , fontsize=12, fontweight='bold')\n",
    "    ax.set_ylabel(y_axis)\n",
    "    g = sns.barplot(x=data.index, y=data.values,  ax=ax)\n",
    "    [lab.set_rotation(90) for lab in ax.get_xticklabels()]"
   ]
  },
  {
   "cell_type": "code",
   "execution_count": null,
   "metadata": {
    "collapsed": true
   },
   "outputs": [],
   "source": [
    "fig, axes = plt.subplots(1, 2, figsize=(16,8))\n",
    "# Ratio faculty_tot / student_tot\n",
    "fac_vs_stu = top_uni_df['faculty_tot'].div(top_uni_df['student_tot']).sort_values(ascending=False).iloc[:N_TOP]\n",
    "nice_bar_plot(fac_vs_stu, title='Ratio faculty members vs Students', y_axis='ratio', ax=axes[0])\n",
    "# Ratio student_int / student_tot\n",
    "stu_vs_int = top_uni_df['student_int'].div(top_uni_df['student_tot']).sort_values(ascending=False).iloc[:N_TOP]\n",
    "nice_bar_plot(stu_vs_int, title='Ratio International Students vs Total Students', y_axis='ratio', ax=axes[1])\n",
    "plt.tight_layout()"
   ]
  },
  {
   "cell_type": "markdown",
   "metadata": {},
   "source": [
    "#### (c) `Country`\n",
    "Same logic as before, except we need to group entries by `country`"
   ]
  },
  {
   "cell_type": "code",
   "execution_count": null,
   "metadata": {
    "collapsed": true
   },
   "outputs": [],
   "source": [
    "fig, axes = plt.subplots(1, 2, figsize=(16,6))\n",
    "# Ratio faculty_tot / student_tot (country)\n",
    "fac_vs_stu = top_uni_df.groupby('country')['faculty_tot'].sum().div(top_uni_df.groupby('country')['student_tot'].sum())\\\n",
    "                .sort_values(ascending=False).iloc[:N_TOP]\n",
    "nice_bar_plot(fac_vs_stu, title='Ratio faculty members vs Students (country)', y_axis='ratio', ax=axes[0])\n",
    "# Ratio student_int / student_tot\n",
    "stu_vs_int = top_uni_df.groupby('country')['student_int'].sum().div(top_uni_df.groupby('country')['student_tot'].sum())\\\n",
    "                .sort_values(ascending=False).iloc[:N_TOP]\n",
    "nice_bar_plot(stu_vs_int, title='Ratio International Students vs Total Students (country)', y_axis='ratio', ax=axes[1])\n",
    "plt.tight_layout()"
   ]
  },
  {
   "cell_type": "markdown",
   "metadata": {},
   "source": [
    "#### (d) `Region`\n",
    "\n",
    "Same logic as before, except we need to group entries by `region`"
   ]
  },
  {
   "cell_type": "code",
   "execution_count": null,
   "metadata": {
    "collapsed": true
   },
   "outputs": [],
   "source": [
    "fig, axes = plt.subplots(1, 2, figsize=(16,6))\n",
    "# Ratio faculty_tot / student_tot (country)\n",
    "fac_vs_stu = top_uni_df.groupby('region')['faculty_tot'].sum().div(top_uni_df.groupby('region')['student_tot'].sum())\\\n",
    "                .sort_values(ascending=False).iloc[:N_TOP]\n",
    "nice_bar_plot(fac_vs_stu, title='Ratio faculty members vs Students (region)', y_axis='ratio', ax=axes[0])\n",
    "# Ratio student_int / student_tot\n",
    "stu_vs_int = top_uni_df.groupby('region')['student_int'].sum().div(top_uni_df.groupby('region')['student_tot'].sum())\\\n",
    "                .sort_values(ascending=False).iloc[:N_TOP]\n",
    "nice_bar_plot(stu_vs_int, title='Ratio International Students vs Total Students (region)', y_axis='ratio', ax=axes[1])\n",
    "plt.tight_layout()"
   ]
  },
  {
   "cell_type": "markdown",
   "metadata": {
    "collapsed": true
   },
   "source": [
    "## 2. timeshighereducation.com\n",
    "\n",
    "We can now look at the second website : https://www.timeshighereducation.com. On the ([ranking 2018](https://www.timeshighereducation.com/world-university-rankings/2018/world-ranking#!/page/0/length/25/sort_by/rank/sort_order/asc/cols/stats)) page we can also see the first 25 ranked universities. By inspecting the source code of the webpage you can see that the informations we want to retrieve are not hard coded but are fetch from other links - same as for the first website. \n",
    "\n",
    "### 2.1 Main ranking information\n",
    "\n",
    "We used the same approach as for the top-university website and used the console to see the requests sent by the page when it loads. We could identify a [link](https://www.timeshighereducation.com/sites/default/files/the_data_rankings/world_university_rankings_2018_limit0_369a9045a203e176392b9fb8f8c1cb2a.json) to a JSON file. <br>\n",
    "While inspecting this file, we could find 4 first level key, especially one called `data` containing the tags related to what we are looking for, i.e. `name`, `location`, `rank`, `stats_number_students`. We found also that we could retrieve the student-staff ratio, `stats_student_staff_ratio`, which will be use to compute the number of faculty members later one. There is also the percentage of international student, `stats_pc_intl_students`, that we can use to compute the number of international students. We decided to keep the score, `scores_overall`, from each university as we think it can be useful for the second part of the exercise.\n",
    "\n",
    "We then proceed to store all those data in a dataframe."
   ]
  },
  {
   "cell_type": "code",
   "execution_count": null,
   "metadata": {},
   "outputs": [],
   "source": [
    "URL = 'https://www.timeshighereducation.com/sites/default/files/the_data_rankings/world_university_rankings_2018_limit0_369a9045a203e176392b9fb8f8c1cb2a.json'\n",
    "r = requests.get(URL)\n",
    "print('Tags of JSON 1st level: {}'.format(r.json().keys()))\n",
    "print('Tags of JSON 2nd level: {}'.format(r.json()['data'][0].keys()))"
   ]
  },
  {
   "cell_type": "code",
   "execution_count": null,
   "metadata": {},
   "outputs": [],
   "source": [
    "the_df = pd.DataFrame(r.json()['data'], columns=['name', 'location', 'rank', 'scores_overall', 'stats_number_students', 'stats_pc_intl_students', 'stats_student_staff_ratio'])\n",
    "the_df.head()"
   ]
  },
  {
   "cell_type": "markdown",
   "metadata": {},
   "source": [
    "### 2.2 - Clean the Data\n",
    "\n",
    "We have extracted raw data from the JSON file, now we would like to perform some computation on certain columns to have matching data with the other website. To do so we will convert the column `stats_number_students`,  `stats_pc_intl_students` and `stats_student_staff_ratio` to numerical values, then we will perform the computation to get `student_int`, the number of international students and `faculty_tot`, the number of faculty members. We also get rid of the \"=\" in the `rank` column that meant an equality rank for two or more universities.  "
   ]
  },
  {
   "cell_type": "code",
   "execution_count": null,
   "metadata": {
    "collapsed": true
   },
   "outputs": [],
   "source": [
    "the_df['scores_overall'] = pd.to_numeric(the_df['scores_overall'], errors='coerce')\n",
    "the_df['rank'] = pd.to_numeric(the_df['rank'].map(lambda x: x.lstrip('=')), errors='coerce')\n",
    "the_df['stats_pc_intl_students'] = pd.to_numeric(the_df['stats_pc_intl_students'].map(lambda x: x.rstrip('%')), errors='coerce')\n",
    "the_df['stats_number_students'] = pd.to_numeric(the_df['stats_number_students'].str.replace(',', ''), errors='coerce')\n",
    "the_df['stats_student_staff_ratio'] = pd.to_numeric(the_df['stats_student_staff_ratio'], errors='coerce')\n",
    "# Find number of Intl Student from % and total nber student after cleaning\n",
    "the_df['student_int'] = (the_df['stats_pc_intl_students'] * the_df['stats_number_students'] / 100).round().astype(int)\n",
    "the_df['faculty_tot'] = (the_df['stats_number_students'] / the_df['stats_student_staff_ratio']).round().astype(int)"
   ]
  },
  {
   "cell_type": "markdown",
   "metadata": {},
   "source": [
    "Once we have matching data regarding to the dataframe generated from top-university website, we can drop the columns `stats_pc_intl_students` and `stats_student_staff_ratio` that are no longer required. After that we rename the columns we keep in order that their names match the names from the top-university dataframe to ease the merge."
   ]
  },
  {
   "cell_type": "code",
   "execution_count": null,
   "metadata": {
    "collapsed": true
   },
   "outputs": [],
   "source": [
    "the_df.drop(['stats_pc_intl_students', 'stats_student_staff_ratio'], axis=1, inplace=True)\n",
    "the_df.columns = ['title', 'country', 'rank', 'score', 'student_tot', 'student_int', 'faculty_tot']\n",
    "the_df = the_df.sort_values(by='score', ascending=False).iloc[:200]\n",
    "the_df.set_index(['title'], inplace=True)\n",
    "the_df.head()"
   ]
  },
  {
   "cell_type": "code",
   "execution_count": null,
   "metadata": {
    "collapsed": true
   },
   "outputs": [],
   "source": [
    "np.sum(the_df.isnull())"
   ]
  },
  {
   "cell_type": "code",
   "execution_count": null,
   "metadata": {
    "collapsed": true
   },
   "outputs": [],
   "source": [
    "the_df.to_csv('the.csv')"
   ]
  },
  {
   "cell_type": "markdown",
   "metadata": {},
   "source": [
    "### 2.3 Results"
   ]
  },
  {
   "cell_type": "code",
<<<<<<< HEAD
   "execution_count": 4,
   "metadata": {},
   "outputs": [
    {
     "name": "stdout",
     "output_type": "stream",
     "text": [
      "Is index unique: True\n"
     ]
    }
   ],
=======
   "execution_count": null,
   "metadata": {
    "collapsed": true
   },
   "outputs": [],
>>>>>>> master
   "source": [
    "the_df = pd.read_csv('the.csv', index_col='title')\n",
    "print('Is index unique: {}'.format(the_df.index.is_unique))"
   ]
  },
  {
   "cell_type": "markdown",
   "metadata": {},
   "source": [
    "### (a) - (b)"
   ]
  },
  {
   "cell_type": "code",
   "execution_count": null,
   "metadata": {
    "collapsed": true
   },
   "outputs": [],
   "source": [
    "fig, axes = plt.subplots(1, 2, figsize=(16,8))\n",
    "# Ratio faculty_tot / student_tot\n",
    "fac_vs_stu = the_df['faculty_tot'].div(the_df['student_tot']).sort_values(ascending=False).iloc[:N_TOP]\n",
    "nice_bar_plot(fac_vs_stu, title='Ratio faculty members vs Students', y_axis='ratio', ax=axes[0])\n",
    "# Ratio student_int / student_tot\n",
    "stu_vs_int = the_df['student_int'].div(the_df['student_tot']).sort_values(ascending=False).iloc[:N_TOP]\n",
    "nice_bar_plot(stu_vs_int, title='Ratio International Students vs Total Students', y_axis='ratio', ax=axes[1])\n",
    "plt.tight_layout()"
   ]
  },
  {
   "cell_type": "markdown",
   "metadata": {},
   "source": [
    "### (c) `Country`"
   ]
  },
  {
   "cell_type": "code",
   "execution_count": null,
   "metadata": {
    "collapsed": true
   },
   "outputs": [],
   "source": [
    "fig, axes = plt.subplots(1, 2, figsize=(16,6))\n",
    "# Ratio faculty_tot / student_tot (country)\n",
    "fac_vs_stu = the_df.groupby('country')['faculty_tot'].sum().div(the_df.groupby('country')['student_tot'].sum())\\\n",
    "                .sort_values(ascending=False).iloc[:N_TOP]\n",
    "nice_bar_plot(fac_vs_stu, title='Ratio faculty members vs Students (country)', y_axis='ratio', ax=axes[0])\n",
    "# Ratio student_int / student_tot\n",
    "stu_vs_int = the_df.groupby('country')['student_int'].sum().div(the_df.groupby('country')['student_tot'].sum())\\\n",
    "                .sort_values(ascending=False).iloc[:N_TOP]\n",
    "nice_bar_plot(stu_vs_int, title='Ratio International Students vs Total Students (country)', y_axis='ratio', ax=axes[1])\n",
    "plt.tight_layout()"
   ]
  },
  {
   "cell_type": "markdown",
   "metadata": {},
   "source": [
    "### (d) `Region`"
   ]
  },
  {
   "cell_type": "code",
   "execution_count": null,
   "metadata": {
    "collapsed": true
   },
   "outputs": [],
   "source": [
    "# A traiter --> il n'y a pas de region sur le Times Higher Education"
   ]
  },
  {
   "cell_type": "code",
   "execution_count": null,
   "metadata": {
    "collapsed": true
   },
   "outputs": [],
   "source": [
    "'''fig, axes = plt.subplots(1, 2, figsize=(16,6))\n",
    "# Ratio faculty_tot / student_tot (country)\n",
    "fac_vs_stu = top_uni_df.groupby('region')['faculty_tot'].sum().div(top_uni_df.groupby('region')['student_tot'].sum())\\\n",
    "                .sort_values(ascending=False).iloc[:N_TOP]\n",
    "nice_bar_plot(fac_vs_stu, title='Ratio faculty members vs Students (region)', y_axis='ratio', ax=axes[0])\n",
    "# Ratio student_int / student_tot\n",
    "stu_vs_int = top_uni_df.groupby('region')['student_int'].sum().div(top_uni_df.groupby('region')['student_tot'].sum())\\\n",
    "                .sort_values(ascending=False).iloc[:N_TOP]\n",
    "nice_bar_plot(stu_vs_int, title='Ratio International Students vs Total Students (region)', y_axis='ratio', ax=axes[1])\n",
    "plt.tight_layout()'''"
   ]
  },
  {
   "cell_type": "markdown",
   "metadata": {},
   "source": [
    "# 3. Merge data"
   ]
  },
  {
   "cell_type": "code",
   "execution_count": null,
   "metadata": {
    "collapsed": true
   },
   "outputs": [],
   "source": [
    "from difflib import SequenceMatcher"
   ]
  },
  {
   "cell_type": "code",
   "execution_count": null,
   "metadata": {
    "collapsed": true
   },
   "outputs": [],
   "source": [
    "SequenceMatcher(None, 'aaa bbb', 'aaa').ratio()"
   ]
  },
  {
   "cell_type": "code",
<<<<<<< HEAD
   "execution_count": 6,
   "metadata": {},
   "outputs": [
    {
     "data": {
      "text/html": [
       "<div>\n",
       "<style>\n",
       "    .dataframe thead tr:only-child th {\n",
       "        text-align: right;\n",
       "    }\n",
       "\n",
       "    .dataframe thead th {\n",
       "        text-align: left;\n",
       "    }\n",
       "\n",
       "    .dataframe tbody tr th {\n",
       "        vertical-align: top;\n",
       "    }\n",
       "</style>\n",
       "<table border=\"1\" class=\"dataframe\">\n",
       "  <thead>\n",
       "    <tr style=\"text-align: right;\">\n",
       "      <th></th>\n",
       "      <th>country</th>\n",
       "      <th>rank</th>\n",
       "      <th>score</th>\n",
       "      <th>student_tot</th>\n",
       "      <th>student_int</th>\n",
       "      <th>faculty_tot</th>\n",
       "    </tr>\n",
       "    <tr>\n",
       "      <th>title</th>\n",
       "      <th></th>\n",
       "      <th></th>\n",
       "      <th></th>\n",
       "      <th></th>\n",
       "      <th></th>\n",
       "      <th></th>\n",
       "    </tr>\n",
       "  </thead>\n",
       "  <tbody>\n",
       "    <tr>\n",
       "      <th>University of Oxford</th>\n",
       "      <td>United Kingdom</td>\n",
       "      <td>1.0</td>\n",
       "      <td>94.3</td>\n",
       "      <td>20409</td>\n",
       "      <td>7755</td>\n",
       "      <td>1822</td>\n",
       "    </tr>\n",
       "    <tr>\n",
       "      <th>University of Cambridge</th>\n",
       "      <td>United Kingdom</td>\n",
       "      <td>2.0</td>\n",
       "      <td>93.2</td>\n",
       "      <td>18389</td>\n",
       "      <td>6436</td>\n",
       "      <td>1687</td>\n",
       "    </tr>\n",
       "    <tr>\n",
       "      <th>California Institute of Technology</th>\n",
       "      <td>United States</td>\n",
       "      <td>3.0</td>\n",
       "      <td>93.0</td>\n",
       "      <td>2209</td>\n",
       "      <td>596</td>\n",
       "      <td>340</td>\n",
       "    </tr>\n",
       "    <tr>\n",
       "      <th>Stanford University</th>\n",
       "      <td>United States</td>\n",
       "      <td>3.0</td>\n",
       "      <td>93.0</td>\n",
       "      <td>15845</td>\n",
       "      <td>3486</td>\n",
       "      <td>2113</td>\n",
       "    </tr>\n",
       "    <tr>\n",
       "      <th>Massachusetts Institute of Technology</th>\n",
       "      <td>United States</td>\n",
       "      <td>5.0</td>\n",
       "      <td>92.5</td>\n",
       "      <td>11177</td>\n",
       "      <td>3800</td>\n",
       "      <td>1285</td>\n",
       "    </tr>\n",
       "  </tbody>\n",
       "</table>\n",
       "</div>"
      ],
      "text/plain": [
       "                                              country  rank  score  \\\n",
       "title                                                                \n",
       "University of Oxford                   United Kingdom   1.0   94.3   \n",
       "University of Cambridge                United Kingdom   2.0   93.2   \n",
       "California Institute of Technology      United States   3.0   93.0   \n",
       "Stanford University                     United States   3.0   93.0   \n",
       "Massachusetts Institute of Technology   United States   5.0   92.5   \n",
       "\n",
       "                                       student_tot  student_int  faculty_tot  \n",
       "title                                                                         \n",
       "University of Oxford                         20409         7755         1822  \n",
       "University of Cambridge                      18389         6436         1687  \n",
       "California Institute of Technology            2209          596          340  \n",
       "Stanford University                          15845         3486         2113  \n",
       "Massachusetts Institute of Technology        11177         3800         1285  "
      ]
     },
     "execution_count": 6,
     "metadata": {},
     "output_type": "execute_result"
    }
   ],
   "source": [
    "the_df.head()"
   ]
  },
  {
   "cell_type": "code",
   "execution_count": 7,
   "metadata": {},
   "outputs": [
    {
     "data": {
      "text/html": [
       "<div>\n",
       "<style>\n",
       "    .dataframe thead tr:only-child th {\n",
       "        text-align: right;\n",
       "    }\n",
       "\n",
       "    .dataframe thead th {\n",
       "        text-align: left;\n",
       "    }\n",
       "\n",
       "    .dataframe tbody tr th {\n",
       "        vertical-align: top;\n",
       "    }\n",
       "</style>\n",
       "<table border=\"1\" class=\"dataframe\">\n",
       "  <thead>\n",
       "    <tr style=\"text-align: right;\">\n",
       "      <th></th>\n",
       "      <th>country</th>\n",
       "      <th>region</th>\n",
       "      <th>rank_display</th>\n",
       "      <th>score</th>\n",
       "      <th>url</th>\n",
       "      <th>faculty_tot</th>\n",
       "      <th>faculty_int</th>\n",
       "      <th>student_tot</th>\n",
       "      <th>student_int</th>\n",
       "    </tr>\n",
       "    <tr>\n",
       "      <th>title</th>\n",
       "      <th></th>\n",
       "      <th></th>\n",
       "      <th></th>\n",
       "      <th></th>\n",
       "      <th></th>\n",
       "      <th></th>\n",
       "      <th></th>\n",
       "      <th></th>\n",
       "      <th></th>\n",
       "    </tr>\n",
       "  </thead>\n",
       "  <tbody>\n",
       "    <tr>\n",
       "      <th>Massachusetts Institute of Technology (MIT)</th>\n",
       "      <td>United States</td>\n",
       "      <td>North America</td>\n",
       "      <td>1.0</td>\n",
       "      <td>100.0</td>\n",
       "      <td>https://www.topuniversities.com/universities/m...</td>\n",
       "      <td>2982.0</td>\n",
       "      <td>1679.0</td>\n",
       "      <td>11067.0</td>\n",
       "      <td>3717.0</td>\n",
       "    </tr>\n",
       "    <tr>\n",
       "      <th>Stanford University</th>\n",
       "      <td>United States</td>\n",
       "      <td>North America</td>\n",
       "      <td>2.0</td>\n",
       "      <td>98.7</td>\n",
       "      <td>https://www.topuniversities.com/universities/s...</td>\n",
       "      <td>4285.0</td>\n",
       "      <td>2042.0</td>\n",
       "      <td>15878.0</td>\n",
       "      <td>3611.0</td>\n",
       "    </tr>\n",
       "    <tr>\n",
       "      <th>Harvard University</th>\n",
       "      <td>United States</td>\n",
       "      <td>North America</td>\n",
       "      <td>3.0</td>\n",
       "      <td>98.4</td>\n",
       "      <td>https://www.topuniversities.com/universities/h...</td>\n",
       "      <td>4350.0</td>\n",
       "      <td>1311.0</td>\n",
       "      <td>22429.0</td>\n",
       "      <td>5266.0</td>\n",
       "    </tr>\n",
       "    <tr>\n",
       "      <th>California Institute of Technology (Caltech)</th>\n",
       "      <td>United States</td>\n",
       "      <td>North America</td>\n",
       "      <td>4.0</td>\n",
       "      <td>97.7</td>\n",
       "      <td>https://www.topuniversities.com/universities/c...</td>\n",
       "      <td>953.0</td>\n",
       "      <td>350.0</td>\n",
       "      <td>2255.0</td>\n",
       "      <td>647.0</td>\n",
       "    </tr>\n",
       "    <tr>\n",
       "      <th>University of Cambridge</th>\n",
       "      <td>United Kingdom</td>\n",
       "      <td>Europe</td>\n",
       "      <td>5.0</td>\n",
       "      <td>95.6</td>\n",
       "      <td>https://www.topuniversities.com/universities/u...</td>\n",
       "      <td>5490.0</td>\n",
       "      <td>2278.0</td>\n",
       "      <td>18770.0</td>\n",
       "      <td>6699.0</td>\n",
       "    </tr>\n",
       "  </tbody>\n",
       "</table>\n",
       "</div>"
      ],
      "text/plain": [
       "                                                     country         region  \\\n",
       "title                                                                         \n",
       "Massachusetts Institute of Technology (MIT)    United States  North America   \n",
       "Stanford University                            United States  North America   \n",
       "Harvard University                             United States  North America   \n",
       "California Institute of Technology (Caltech)   United States  North America   \n",
       "University of Cambridge                       United Kingdom         Europe   \n",
       "\n",
       "                                              rank_display  score  \\\n",
       "title                                                               \n",
       "Massachusetts Institute of Technology (MIT)            1.0  100.0   \n",
       "Stanford University                                    2.0   98.7   \n",
       "Harvard University                                     3.0   98.4   \n",
       "California Institute of Technology (Caltech)           4.0   97.7   \n",
       "University of Cambridge                                5.0   95.6   \n",
       "\n",
       "                                                                                            url  \\\n",
       "title                                                                                             \n",
       "Massachusetts Institute of Technology (MIT)   https://www.topuniversities.com/universities/m...   \n",
       "Stanford University                           https://www.topuniversities.com/universities/s...   \n",
       "Harvard University                            https://www.topuniversities.com/universities/h...   \n",
       "California Institute of Technology (Caltech)  https://www.topuniversities.com/universities/c...   \n",
       "University of Cambridge                       https://www.topuniversities.com/universities/u...   \n",
       "\n",
       "                                              faculty_tot  faculty_int  \\\n",
       "title                                                                    \n",
       "Massachusetts Institute of Technology (MIT)        2982.0       1679.0   \n",
       "Stanford University                                4285.0       2042.0   \n",
       "Harvard University                                 4350.0       1311.0   \n",
       "California Institute of Technology (Caltech)        953.0        350.0   \n",
       "University of Cambridge                            5490.0       2278.0   \n",
       "\n",
       "                                              student_tot  student_int  \n",
       "title                                                                   \n",
       "Massachusetts Institute of Technology (MIT)       11067.0       3717.0  \n",
       "Stanford University                               15878.0       3611.0  \n",
       "Harvard University                                22429.0       5266.0  \n",
       "California Institute of Technology (Caltech)       2255.0        647.0  \n",
       "University of Cambridge                           18770.0       6699.0  "
      ]
     },
     "execution_count": 7,
     "metadata": {},
     "output_type": "execute_result"
    }
   ],
   "source": [
    "top_uni_df.head()"
   ]
  },
  {
   "cell_type": "code",
   "execution_count": 11,
   "metadata": {},
   "outputs": [
    {
     "name": "stdout",
     "output_type": "stream",
     "text": [
      "massachusetts institute of technology (mit)\n",
      "stanford university\n",
      "harvard university\n",
      "california institute of technology (caltech)\n",
      "university of cambridge\n",
      "university of oxford\n",
      "ucl (university college london)\n",
      "imperial college london\n",
      "university of chicago\n",
      "eth zurich - swiss federal institute of technology\n",
      "nanyang technological university, singapore (ntu)\n",
      "ecole polytechnique fédérale de lausanne (epfl)\n",
      "princeton university\n",
      "cornell university\n",
      "national university of singapore (nus)\n",
      "yale university\n",
      "johns hopkins university\n",
      "columbia university\n",
      "university of pennsylvania\n",
      "the australian national university\n",
      "duke university\n",
      "university of michigan\n",
      "king's college london\n",
      "the university of edinburgh\n",
      "tsinghua university\n",
      "the university of hong kong\n",
      "university of california, berkeley (ucb)\n",
      "northwestern university\n",
      "the university of tokyo\n",
      "the hong kong university of science and technology\n",
      "university of toronto\n",
      "mcgill university\n",
      "university of california, los angeles (ucla)\n",
      "the university of manchester\n",
      "london school of economics and political science (lse)\n",
      "kyoto university\n",
      "seoul national university\n",
      "university of california, san diego (ucsd)\n",
      "peking university\n",
      "fudan university\n",
      "kaist - korea advanced institute of science & technology\n",
      "the university of melbourne\n",
      "ecole normale supérieure, paris\n",
      "university of bristol\n",
      "the university of new south wales (unsw sydney)\n",
      "the chinese university of hong kong (cuhk)\n",
      "the university of queensland\n",
      "carnegie mellon university\n",
      "city university of hong kong\n",
      "the university of sydney\n",
      "university of british columbia\n",
      "new york university (nyu)\n",
      "brown university\n",
      "delft university of technology\n",
      "university of wisconsin-madison\n",
      "tokyo institute of technology\n",
      "the university of warwick\n",
      "university of amsterdam\n",
      "ecole polytechnique\n",
      "monash university\n",
      "university of washington\n",
      "shanghai jiao tong university\n",
      "osaka university\n",
      "technical university of munich\n",
      "university of glasgow\n",
      "ludwig-maximilians-universität münchen\n",
      "university of texas at austin\n",
      "ruprecht-karls-universität heidelberg\n",
      "university of illinois at urbana-champaign\n",
      "georgia institute of technology\n",
      "ku leuven\n",
      "pohang university of science and technology (postech)\n",
      "university of zurich\n",
      "university of copenhagen\n",
      "universidad de buenos aires (uba)\n",
      "tohoku university\n",
      "national taiwan university (ntu)\n",
      "lund university\n",
      "durham university\n",
      "university of north carolina, chapel hill\n",
      "boston university\n",
      "the university of auckland\n",
      "the university of sheffield\n",
      "the university of nottingham\n",
      "university of birmingham\n",
      "the ohio state university\n",
      "zhejiang university\n",
      "trinity college dublin, the university of dublin\n",
      "rice university\n",
      "university of alberta\n",
      "korea university\n",
      "university of st andrews\n",
      "pennsylvania state university\n",
      "the university of western australia\n",
      "the hong kong polytechnic university\n",
      "lomonosov moscow state university\n",
      "university of science and technology of china\n",
      "kth royal institute of technology\n",
      "university of geneva\n",
      "washington university in st. louis\n",
      "university of leeds\n",
      "university of southampton\n",
      "university of helsinki\n",
      "eindhoven university of technology\n",
      "purdue university\n",
      "yonsei university\n",
      "kit, karlsruhe institute of technology\n",
      "sungkyunkwan university (skku)\n",
      "the university of adelaide\n",
      "utrecht university\n",
      "leiden university\n",
      "uppsala university\n",
      "university of groningen\n",
      "universiti malaya (um)\n",
      "nanjing university\n",
      "nagoya university\n",
      "technical university of denmark\n",
      "university of california, davis\n",
      "aarhus university\n",
      "humboldt-universität zu berlin\n",
      "universidade de são paulo\n",
      "universidad nacional autónoma de méxico  (unam)\n",
      "hokkaido university\n",
      "wageningen university\n",
      "ghent university\n",
      "freie universitaet berlin\n",
      "queen mary university of london\n",
      "kyushu university\n",
      "university of maryland, college park\n",
      "université de montréal\n",
      "université pierre et marie curie (upmc)\n",
      "university of southern california\n",
      "chalmers university of technology\n",
      "university of california, santa barbara (ucsb)\n",
      "lancaster university\n",
      "university of york\n",
      "pontificia universidad católica de chile (uc)\n",
      "cardiff university\n",
      "aalto university\n",
      "mcmaster university\n",
      "rwth aachen university\n",
      "university of oslo\n",
      "university of pittsburgh\n",
      "technische universität berlin (tu berlin)\n",
      "the hebrew university of jerusalem\n",
      "university of lausanne\n",
      "emory university\n",
      "erasmus university rotterdam\n",
      "university of basel\n",
      "michigan state university\n",
      "university of otago\n",
      "university of waterloo\n",
      "université catholique de louvain (ucl)\n",
      "university of vienna\n",
      "hanyang university\n",
      "universitat de barcelona\n",
      "école normale supérieure de lyon\n",
      "the university of exeter\n",
      "university of aberdeen\n",
      "university of bath\n",
      "newcastle university\n",
      "national tsing hua university\n",
      "university of minnesota\n",
      "university of bergen\n",
      "eberhard karls universität tübingen\n",
      "university of california, irvine\n",
      "university of bern\n",
      "university college dublin\n",
      "dartmouth college\n",
      "politecnico di milano\n",
      "albert-ludwigs-universitaet freiburg\n",
      "indian institute of technology delhi (iitd)\n",
      "university of virginia\n",
      "king fahd university of petroleum & minerals\n",
      "university of liverpool\n",
      "university of technology sydney\n",
      "centralesupélec\n",
      "university of florida\n",
      "university of twente\n",
      "indian institute of technology bombay (iitb)\n",
      "university of göttingen\n",
      "vrije universiteit brussel (vub)\n",
      "universidade estadual de campinas (unicamp)\n",
      "university of colorado boulder\n",
      "vienna university of technology\n",
      "university of rochester\n",
      "universidad autónoma de madrid\n",
      "university of reading\n",
      "alma mater studiorum - university of bologna\n",
      "indian institute of science (iisc) bangalore\n",
      "university of cape town\n",
      "scuola normale superiore di pisa\n",
      "scuola superiore sant'anna pisa di studi universitari e di perfezionamento\n",
      "keio university\n",
      "stockholm university\n",
      "universitat autònoma de barcelona\n",
      "texas a&m university\n",
      "instituto tecnológico y de estudios superiores de monterrey\n",
      "maastricht university\n",
      "universidad de chile\n"
     ]
    }
   ],
=======
   "execution_count": null,
   "metadata": {
    "collapsed": true
   },
   "outputs": [],
>>>>>>> master
   "source": [
    "for name in top_uni_df.index:\n",
    "    print(name.lower())"
   ]
  },
  {
   "cell_type": "code",
   "execution_count": null,
   "metadata": {
    "collapsed": true
   },
   "outputs": [],
   "source": []
  }
 ],
 "metadata": {
  "kernelspec": {
   "display_name": "Python 3",
   "language": "python",
   "name": "python3"
  },
  "language_info": {
   "codemirror_mode": {
    "name": "ipython",
    "version": 3
   },
   "file_extension": ".py",
   "mimetype": "text/x-python",
   "name": "python",
   "nbconvert_exporter": "python",
   "pygments_lexer": "ipython3",
   "version": "3.6.2"
  }
 },
 "nbformat": 4,
 "nbformat_minor": 2
}
