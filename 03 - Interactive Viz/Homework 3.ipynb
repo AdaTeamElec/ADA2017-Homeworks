{
 "cells": [
  {
   "cell_type": "code",
   "execution_count": null,
   "metadata": {},
   "outputs": [],
   "source": [
    "import os\n",
    "import pandas as pd\n",
    "import numpy as np\n",
    "import seaborn as sns\n",
    "import json\n",
    "import folium # Check description below if not already installed\n",
    "\n",
    "from datetime import date\n",
    "\n",
    "data_foleder = 'data'\n",
    "json_folder = 'topojson'\n",
    "\n",
    "unemployement_eu = os.path.join(data_foleder, 'eurostat.csv')\n",
    "unemployement_ch = os.path.join(data_foleder, 'unemployement_rate_ch.xlsx')\n",
    "unemployement_sex_ch = os.path.join(data_foleder, 'unemployement_rate_sex_ch.xlsx')\n",
    "unemployement_factor_ch = os.path.join(data_foleder, 'unemployement_rate_factor_ch.xlsx')\n",
    "unemployement_nat_ch = os.path.join(data_foleder, 'unemployement_rate_nat_ch.xlsx')\n",
    "topojson_ch = os.path.join(json_folder, 'ch-cantons.topojson.json')\n",
    "topojson_eu = os.path.join(json_folder, 'europe.topojson.json')"
   ]
  },
  {
   "cell_type": "markdown",
   "metadata": {},
   "source": [
    "# 0. Description \n",
    "\n",
    "## Background\n",
    "In this homework we will be exploring interactive visualization, which is a key ingredient of many successful data visualizations (especially when it comes to infographics).\n",
    "\n",
    "Unemployment rates are major economic metrics and a matter of concern for governments around the world. Though its definition may seem straightforward at first glance (usually defined as the number of unemployed people divided by the active population), it can be tricky to define consistently. For example, one must define what exactly unemployed means : looking for a job ? Having declared their unemployment ? Currently without a job ? Should students or recent graduates be included ? We could also wonder what the active population is : everyone in an age category (e.g. `16-64`) ? Anyone interested by finding a job ? Though these questions may seem subtle, they can have a large impact on the interpretation of the results : `3%` unemployment doesn't mean much if we don't know who is included in this percentage. \n",
    "\n",
    "In this homework you will be dealing with two different datasets from the statistics offices of the European commission ([eurostat](http://ec.europa.eu/eurostat/data/database)) and the Swiss Confederation ([amstat](https://www.amstat.ch)). They provide a variety of datasets with plenty of information on many different statistics and demographics at their respective scales. Unfortunately, as is often the case is data analysis, these websites are not always straightforward to navigate. They may include a lot of obscure categories, not always be translated into your native language, have strange link structures, â€¦ Navigating this complexity is part of a data scientists' job : you will have to use a few tricks to get the right data for this homework.\n",
    "\n",
    "For the visualization part, install [Folium](https://github.com/python-visualization/folium) (*HINT*: it is not available in your standard Anaconda environment, therefore search on the Web how to install it easily!). Folium's `README` comes with very clear examples, and links to their own iPython Notebooks -- make good use of this information. For your own convenience, in this same directory you can already find two `.topojson` files, containing the geo-coordinates of \n",
    "\n",
    "- European countries (*liberal definition of EU*) (`topojson/europe.topojson.json`, [source](https://github.com/leakyMirror/map-of-europe))\n",
    "- Swiss cantons (`topojson/ch-cantons.topojson.json`) \n",
    "\n",
    "These will be used as an overlay on the Folium maps.\n",
    "\n",
    "## Assignment\n",
    "\n",
    "1. Go to the [eurostat](http://ec.europa.eu/eurostat/data/database) website and try to find a dataset that includes the european unemployment rates at a recent date.\n",
    "\n",
    "   Use this data to build a [Choropleth map](https://en.wikipedia.org/wiki/Choropleth_map) which shows the unemployment rate in Europe at a country level. Think about [the colors you use](https://carto.com/academy/courses/intermediate-design/choose-colors-1/), how you decided to [split the intervals into data classes](http://gisgeography.com/choropleth-maps-data-classification/) or which interactions you could add in order to make the visualization intuitive and expressive. Compare Switzerland's unemployment rate to that of the rest of Europe.\n",
    "\n",
    "2. Go to the [amstat](https://www.amstat.ch) website to find a dataset that includes the unemployment rates in Switzerland at a recent date.\n",
    "\n",
    "   > *HINT* Go to the `details` tab to find the raw data you need. If you do not speak French, German or Italian, think of using free translation services to navigate your way through. \n",
    "\n",
    "   Use this data to build another Choropleth map, this time showing the unemployment rate at the level of swiss cantons. Again, try to make the map as expressive as possible, and comment on the trends you observe.\n",
    "\n",
    "   The Swiss Confederation defines the rates you have just plotted as the number of people looking for a job divided by the size of the active population (scaled by 100). This is surely a valid choice, but as we discussed one could argue for a different categorization.\n",
    "\n",
    "   Copy the map you have just created, but this time don't count in your statistics people who already have a job and are looking for a new one. How do your observations change ? You can repeat this with different choices of categories to see how selecting different metrics can lead to different interpretations of the same data.\n",
    "\n",
    "3. Use the [amstat](https://www.amstat.ch) website again to find a dataset that includes the unemployment rates in Switzerland at recent date, this time making a distinction between *Swiss* and *foreign* workers.\n",
    "\n",
    "   The Economic Secretary (SECO) releases [a monthly report](https://www.seco.admin.ch/seco/fr/home/Arbeit/Arbeitslosenversicherung/arbeitslosenzahlen.html) on the state of the employment market. In the latest report (September 2017), it is noted that there is a discrepancy between the unemployment rates for *foreign* (`5.1%`) and *Swiss* (`2.2%`) workers. \n",
    "\n",
    "   Show the difference in unemployment rates between the two categories in each canton on a Choropleth map (*hint* The easy way is to show two separate maps, but can you think of something better ?). Where are the differences most visible ? Why do you think that is ?\n",
    "\n",
    "   Now let's refine the analysis by adding the differences between age groups. As you may have guessed it is nearly impossible to plot so many variables on a map. Make a bar plot, which is a better suited visualization tool for this type of multivariate data.\n",
    "\n",
    "4. *BONUS*: using the map you have just built, and the geographical information contained in it, could you give a *rough estimate* of the difference in unemployment rates between the areas divided by the [RÃ¶stigraben](https://en.wikipedia.org/wiki/R%C3%B6stigraben)?\n",
    "\n",
    "## Folium\n",
    "\n",
    "#### Installation\n",
    "\n",
    "We recommend using the latest version : `0.5.0`.\n",
    "\n",
    "`Folium` is a regular python package, which can be installed through several means :\n",
    "\n",
    "#### 1. Conda\n",
    "```\n",
    "conda install folium\n",
    "```\n",
    "\n",
    "#### 2. pip\n",
    "\n",
    "```\n",
    "pip install -U folium\n",
    "``` \n",
    "\n",
    "By default, the `pip` command is linked to the local `python` distribution on. To use with your notebook, make sure you use the pip bundled with `anaconda`. On mac for example, this is usually : \n",
    "```\n",
    "~/anaconda/bin/pip install -U folium\n",
    "```\n",
    "\n",
    "#### 3. Direct download\n",
    "\n",
    "The package is available [directly from pypi](https://pypi.python.org/pypi/folium)\n",
    "\n",
    "---"
   ]
  },
  {
   "cell_type": "markdown",
   "metadata": {
    "collapsed": true
   },
   "source": [
    "## 1. Eurostat\n",
    "\n",
    "We can find on the Eurostat website many interesting european statistics. For our project we are going to use this specific one: [Employment rates by sex, age and citizenship](http://appsso.eurostat.ec.europa.eu/nui/show.do?dataset=lfsq_ergan&lang=en). It gathers the unemployment rates of every european countries from 2015 first quarter to 2017 second quarter.\n",
    "We choose to download it into the .csv format and then import it into a Panda Dataframe for more data handling."
   ]
  },
  {
   "cell_type": "code",
   "execution_count": null,
   "metadata": {},
   "outputs": [],
   "source": [
    "eurostat = pd.read_csv(unemployement_eu)\n",
    "eurostat.head(10)"
   ]
  },
  {
   "cell_type": "code",
   "execution_count": null,
   "metadata": {},
   "outputs": [],
   "source": [
    "print('Values in TIME: {}'.format(eurostat['TIME'].unique()))\n",
    "print('Values in SEX: {}'.format(eurostat['SEX'].unique()))\n",
    "print('Values in AGE: {}'.format(eurostat['AGE'].unique()))\n",
    "print('Values in CITIZEN: {}'.format(eurostat['CITIZEN'].unique()))\n",
    "print('Values in UNIT: {}'.format(eurostat['UNIT'].unique()))\n",
    "print('Values in Flag and Footnotes: {}'.format(eurostat['Flag and Footnotes'].unique()))"
   ]
  },
  {
   "cell_type": "code",
   "execution_count": null,
   "metadata": {},
   "outputs": [],
   "source": [
    "print('Values in GEO: {}'.format(eurostat['GEO'].unique()))"
   ]
  },
  {
   "cell_type": "code",
   "execution_count": null,
   "metadata": {},
   "outputs": [],
   "source": [
    "def convert_time(time):\n",
    "    quarter = int(time[time.find('Q')+1])\n",
    "    year = int(time[0:4])\n",
    "    return pd.Timestamp(date(year, quarter*3, 1) ) \n",
    "\n",
    "eurostat.drop(['AGE', 'CITIZEN', 'UNIT', 'Flag and Footnotes'], axis=1, inplace=True)\n",
    "eurostat.TIME = eurostat.TIME.apply(convert_time)\n",
    "eurostat = eurostat.loc[eurostat.TIME == eurostat.TIME.max()]"
   ]
  },
  {
   "cell_type": "code",
   "execution_count": null,
   "metadata": {},
   "outputs": [],
   "source": [
    "#Data Processing - Keep only useful column\n",
    "eurostat.TIME.value_counts()"
   ]
  },
  {
   "cell_type": "code",
   "execution_count": null,
   "metadata": {},
   "outputs": [],
   "source": [
    "drop_geo = ['European Union (28 countries)', 'European Union (27 countries)',\n",
    "            'European Union (15 countries)', 'Euro area (19 countries)', \n",
    "            'Euro area (18 countries)', 'Euro area (17 countries)']\n",
    "\n",
    "eurostat = eurostat.loc[[name not in drop_geo for name in eurostat.GEO]]"
   ]
  },
  {
   "cell_type": "code",
   "execution_count": null,
   "metadata": {},
   "outputs": [],
   "source": [
    "eurostat.GEO.unique()"
   ]
  },
  {
   "cell_type": "code",
   "execution_count": null,
   "metadata": {},
   "outputs": [],
   "source": [
    "data_topojson_eu = json.load(open(topojson_eu))\n",
    "geo_eu_countries = []\n",
    "for country in data_topojson_eu['objects']['europe']['geometries']:\n",
    "    geo_eu_countries.append(country['properties']['NAME'])\n",
    "print('Countries JSON EU:\\n{}'.format(geo_eu_countries))"
   ]
  },
  {
   "cell_type": "code",
   "execution_count": null,
   "metadata": {},
   "outputs": [],
   "source": [
    "eurostat.loc[ [country not in geo_eu_countries for country in eurostat.reset_index().GEO], 'GEO' ].unique()"
   ]
  },
  {
   "cell_type": "code",
   "execution_count": null,
   "metadata": {},
   "outputs": [],
   "source": [
    "eurostat.GEO.replace(\n",
    "    {'Germany (until 1990 former territory of the FRG)': 'Germany',\n",
    "     'Former Yugoslav Republic of Macedonia, the': 'The former Yugoslav Republic of Macedonia'}, inplace=True)"
   ]
  },
  {
   "cell_type": "code",
   "execution_count": null,
   "metadata": {},
   "outputs": [],
   "source": [
    "json_id_keep = [country['properties']['NAME'] in eurostat.GEO.values \n",
    "                for country in data_topojson_eu['objects']['europe']['geometries']]\n",
    "\n",
    "data_topojson_eu['objects']['europe']['geometries'] = np.array(data_topojson_eu['objects']['europe']['geometries'])[json_id_keep].tolist()"
   ]
  },
  {
   "cell_type": "code",
   "execution_count": null,
   "metadata": {},
   "outputs": [],
   "source": [
    "eurostat = eurostat.pivot_table(index=['GEO', 'TIME'], columns='SEX', values='Value')\n",
    "eurostat = 100-eurostat\n",
    "eurostat['Females_o_Males'] = eurostat['Females']/eurostat['Males']\n",
    "eurostat.head()"
   ]
  },
  {
   "cell_type": "code",
   "execution_count": null,
   "metadata": {},
   "outputs": [],
   "source": [
    "europe_coordinates = [54.5, 15.3]\n",
    "range_value =  np.linspace(eurostat.Total.min(), eurostat.Total.max(), 6).tolist()\n",
    "europe_map = folium.Map(location = europe_coordinates, zoom_start = 3)\n",
    "europe_map.choropleth(geo_data=data_topojson_eu, data=eurostat.reset_index(),\n",
    "                      columns=['GEO', 'Total'], threshold_scale=range_value,\n",
    "                      key_on='feature.properties.NAME', topojson='objects.europe',\n",
    "                      fill_color='YlGnBu', fill_opacity=0.7, line_opacity=0.2,\n",
    "                      legend_name='Percentage unemployement for Total poulation')\n",
    "europe_map"
   ]
  },
  {
   "cell_type": "code",
   "execution_count": null,
   "metadata": {},
   "outputs": [],
   "source": [
    "europe_map = folium.Map(location = europe_coordinates, zoom_start = 3)\n",
    "range_value =  np.linspace(eurostat.Females_o_Males.min(), eurostat.Females_o_Males.max(), 6).tolist()\n",
    "\n",
    "europe_map.choropleth(geo_data=data_topojson_eu, data=eurostat.reset_index(),\n",
    "                      columns=['GEO', 'Females_o_Males'], threshold_scale=range_value,\n",
    "                      key_on='feature.properties.NAME', topojson='objects.europe',\n",
    "                      fill_color='YlGnBu', fill_opacity=0.7, line_opacity=0.2,\n",
    "                      legend_name='Unemployement ratio Females/Males')\n",
    "europe_map"
   ]
  },
  {
   "cell_type": "markdown",
   "metadata": {},
   "source": [
    "## 2. Switzerland"
   ]
  },
  {
   "cell_type": "code",
   "execution_count": null,
   "metadata": {},
   "outputs": [],
   "source": [
    "ch_stat = pd.read_excel(unemployement_ch, skiprows=4, header=None, usecols=np.array([0,2]))\n",
    "ch_stat_sex = pd.read_excel(unemployement_sex_ch, skiprows=4, header=None, usecols=np.array([0,1,3]))\n",
    "\n",
    "ch_stat.columns = ['canton', 'rate']\n",
    "ch_stat_sex.columns = ['canton', 'sex', 'rate']\n",
    "\n",
    "ch_stat = pd.concat((ch_stat, ch_stat_sex))\n",
    "ch_stat.replace({np.NAN: 'Total', 'Männer': 'Males', 'Frauen': 'Females'}, inplace=True)\n",
    "ch_stat.head()"
   ]
  },
  {
   "cell_type": "code",
   "execution_count": null,
   "metadata": {},
   "outputs": [],
   "source": [
    "data_topojson_ch = json.load(open(topojson_ch))\n",
    "geo_ch_cantons = []\n",
    "\n",
    "for canton in data_topojson_ch['objects']['cantons']['geometries']:\n",
    "    geo_ch_cantons.append(canton['properties']['name'])\n",
    "print('Countries JSON EU:\\n{}'.format(geo_ch_cantons))"
   ]
  },
  {
   "cell_type": "code",
   "execution_count": null,
   "metadata": {},
   "outputs": [],
   "source": [
    "ch_stat.canton.unique()"
   ]
  },
  {
   "cell_type": "code",
   "execution_count": null,
   "metadata": {},
   "outputs": [],
   "source": [
    "ch_stat.loc[ [canton not in geo_ch_cantons for canton in ch_stat.canton], 'canton' ].unique()"
   ]
  },
  {
   "cell_type": "code",
   "execution_count": null,
   "metadata": {},
   "outputs": [],
   "source": [
    "ch_stat['canton_json'] = ch_stat.canton\n",
    "ch_stat['canton_json'].replace(\n",
    "                    {'Bern': 'Bern/Berne', 'Freiburg': 'Fribourg', 'Graubünden': 'Graubünden/Grigioni', \n",
    "                     'Tessin': 'Ticino', 'Waadt': 'Vaud', 'Wallis': 'Valais/Wallis',\n",
    "                     'Neuenburg': 'Neuchâtel', 'Genf': 'Genève'}, inplace=True)\n",
    "ch_stat = ch_stat[ch_stat.canton != 'Gesamt']\n",
    "ch_stat.head()"
   ]
  },
  {
   "cell_type": "code",
   "execution_count": null,
   "metadata": {},
   "outputs": [],
   "source": [
    "ch_stat = ch_stat.pivot_table(index=['canton', 'canton_json'], columns='sex', values='rate')\n",
    "ch_stat.columns = ['females_rate', 'males_rate', 'total_rate']\n",
    "ch_stat['female_o_males'] = ch_stat['females_rate']/ch_stat['males_rate']\n",
    "ch_stat.reset_index(inplace=True)\n",
    "ch_stat.head()"
   ]
  },
  {
   "cell_type": "code",
   "execution_count": null,
   "metadata": {},
   "outputs": [],
   "source": [
    "def plot_ch_choropletch(df, df_cols, legend='', ch_coordinates=[46.8, 8.2]):\n",
    "    range_value =  np.linspace(df[df_cols[1]].min(), df[df_cols[1]].max(), 6).tolist()\n",
    "    map_ = folium.Map(location = ch_coordinates, zoom_start = 8)\n",
    "    map_.choropleth(geo_data=data_topojson_ch, data=df.reset_index(),\n",
    "                      columns=df_cols, threshold_scale=range_value,\n",
    "                      key_on='feature.properties.name', topojson='objects.cantons',\n",
    "                      fill_color='YlGnBu', fill_opacity=0.7, line_opacity=0.2,\n",
    "                      legend_name=legend)\n",
    "    return map_"
   ]
  },
  {
   "cell_type": "code",
   "execution_count": null,
   "metadata": {},
   "outputs": [],
   "source": [
    "ch_map = plot_ch_choropletch(ch_stat, ['canton_json', 'total_rate'], \n",
    "                             legend='Percentage unemployement for Total poulation')\n",
    "ch_map"
   ]
  },
  {
   "cell_type": "code",
   "execution_count": null,
   "metadata": {
    "scrolled": false
   },
   "outputs": [],
   "source": [
    "ch_map = plot_ch_choropletch(ch_stat, ['canton_json', 'female_o_males'], \n",
    "                             legend='Percentage unemployement for Total poulation')\n",
    "ch_map"
   ]
  },
  {
   "cell_type": "markdown",
   "metadata": {},
   "source": [
    "## factors"
   ]
  },
  {
   "cell_type": "code",
   "execution_count": null,
   "metadata": {},
   "outputs": [],
   "source": [
    "ch_stat_fact = pd.read_excel(unemployement_factor_ch, skiprows=4, header=None, \n",
    "                             usecols=np.array([0,3,4,5,6,7]))\n",
    "ch_stat_fact.columns = ['canton', 'unemp_number','unemp_young', \n",
    "                   'unemp_longterm', 'unemp_seeker_number', 'seeker']\n",
    "ch_stat_fact = ch_stat_fact[ch_stat_fact.canton != 'Gesamt']\n",
    "ch_stat_fact.head()"
   ]
  },
  {
   "cell_type": "code",
   "execution_count": null,
   "metadata": {},
   "outputs": [],
   "source": [
    "ch_stat = ch_stat.merge(ch_stat_fact)\n",
    "ch_stat.head()"
   ]
  },
  {
   "cell_type": "code",
   "execution_count": null,
   "metadata": {},
   "outputs": [],
   "source": [
    "ch_stat['canton_active_pop'] =  (100/ch_stat.total_rate) * ch_stat.unemp_number\n",
    "ch_stat['unemp_rate_seeker'] = 100*(ch_stat.unemp_seeker_number/ch_stat['canton_active_pop'])\n",
    "ch_stat['unemp_rate_no_young'] = 100*((ch_stat.unemp_number-ch_stat.unemp_young)/ch_stat['canton_active_pop'])\n",
    "ch_stat['unemp_rate_longterm'] = 100*((ch_stat.unemp_longterm)/ch_stat['canton_active_pop'])\n",
    "ch_stat['unemp_rate_seeker_diff'] = ch_stat.unemp_rate_seeker - ch_stat.total_rate\n",
    "ch_stat['unemp_rate_no_young_diff'] = ch_stat.unemp_rate_no_young - ch_stat.total_rate\n",
    "ch_stat['unemp_rate_longterm_diff'] = ch_stat.unemp_rate_longterm - ch_stat.total_rate\n",
    "ch_stat.head()"
   ]
  },
  {
   "cell_type": "code",
   "execution_count": null,
   "metadata": {},
   "outputs": [],
   "source": [
    "ch_map = plot_ch_choropletch(ch_stat, ['canton_json', 'unemp_rate_seeker_diff'], \n",
    "                             legend='Percentage unemployement for Total poulation')\n",
    "ch_map"
   ]
  },
  {
   "cell_type": "code",
   "execution_count": null,
   "metadata": {},
   "outputs": [],
   "source": [
    "ch_map = plot_ch_choropletch(ch_stat, ['canton_json', 'unemp_rate_no_young_diff'], \n",
    "                             legend='Percentage unemployement for Total poulation')\n",
    "ch_map"
   ]
  },
  {
   "cell_type": "code",
   "execution_count": null,
   "metadata": {},
   "outputs": [],
   "source": [
    "ch_map = plot_ch_choropletch(ch_stat, ['canton_json', 'unemp_rate_longterm'], \n",
    "                             legend='Percentage unemployement for Total poulation')\n",
    "ch_map"
   ]
  },
  {
   "cell_type": "code",
   "execution_count": null,
   "metadata": {},
   "outputs": [],
   "source": [
    "swiss_unemp_seek = 100*ch_stat.unemp_seeker_number.sum()/ch_stat.canton_active_pop.sum()\n",
    "swiss_unemp_no_young = 100*(ch_stat.unemp_seeker_number.sum()-ch_stat.unemp_young.sum())/ch_stat.canton_active_pop.sum()\n",
    "swiss_unemp_longtem = 100*ch_stat.unemp_longterm.sum()/ch_stat.canton_active_pop.sum()\n",
    "\n",
    "print(swiss_unemp_seek, swiss_unemp_no_young, swiss_unemp_longtem)"
   ]
  },
  {
   "cell_type": "code",
   "execution_count": null,
   "metadata": {},
   "outputs": [],
   "source": []
  }
 ],
 "metadata": {
  "kernelspec": {
   "display_name": "Python [default]",
   "language": "python",
   "name": "python3"
  },
  "language_info": {
   "codemirror_mode": {
    "name": "ipython",
    "version": 3
   },
   "file_extension": ".py",
   "mimetype": "text/x-python",
   "name": "python",
   "nbconvert_exporter": "python",
   "pygments_lexer": "ipython3",
   "version": "3.5.4"
  }
 },
 "nbformat": 4,
 "nbformat_minor": 2
}
