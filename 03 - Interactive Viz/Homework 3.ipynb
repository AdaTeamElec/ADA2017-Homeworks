{
 "cells": [
  {
   "cell_type": "markdown",
   "metadata": {},
   "source": [
    "# IF YOU WANT TO SEE THE MAPS IN THE NOTEBOOK, CLICK [HERE](https://nbviewer.jupyter.org/github/AdaTeamElec/ADA2017-Homeworks/blob/master/03%20-%20Interactive%20Viz/Homework%203.ipynb)\n",
    "\n",
    "Importing necessary libraries and adding path to datasets"
   ]
  },
  {
   "cell_type": "code",
   "execution_count": 1,
   "metadata": {},
   "outputs": [
    {
     "name": "stdout",
     "output_type": "stream",
     "text": [
      "Populating the interactive namespace from numpy and matplotlib\n"
     ]
    }
   ],
   "source": [
    "from IPython.core.display import display, HTML\n",
    "import IPython\n",
    "\n",
    "import os\n",
    "import pandas as pd\n",
    "import numpy as np\n",
    "import seaborn as sns\n",
    "import json\n",
    "import matplotlib.pyplot as plt\n",
    "import seaborn as sns\n",
    "import folium \n",
    "from datetime import date\n",
    "\n",
    "%pylab inline\n",
    "sns.set_palette('hls', 2)\n",
    "sns.set_context(\"notebook\")\n",
    "\n",
    "# Folder to data/json files\n",
    "data_folder = 'data'\n",
    "json_folder = 'topojson'\n",
    "# csv/xls files\n",
    "unemployement_eu = os.path.join(data_folder, 'eurostat.csv')\n",
    "unemployement_ch = os.path.join(data_folder, 'unemployement_rate_ch.xlsx')\n",
    "unemployement_sex_ch = os.path.join(data_folder, 'unemployement_rate_sex_ch.xlsx')\n",
    "unemployement_factor_ch = os.path.join(data_folder, 'unemployement_rate_factor_ch.xlsx')\n",
    "unemployement_nat_ch = os.path.join(data_folder, 'unemployement_rate_nat_ch.xlsx')\n",
    "unemployement_age_nat_ch = os.path.join(data_folder, 'unemployement_rate_age_nat_ch.xlsx')\n",
    "# topojson data\n",
    "topojson_ch = os.path.join(json_folder, 'ch-cantons.topojson.json')\n",
    "topojson_eu = os.path.join(json_folder, 'europe.topojson.json')\n",
    "\n",
    "# Per-defiened data for plotting maps\n",
    "eu_infos = {'lat_long': [54.5, 15.3], 'zoom': 3, 'key_on': 'NAME', 'topojson': 'objects.europe'}\n",
    "ch_infos = {'lat_long': [46.8, 8.2], 'zoom': 8, 'key_on': 'name', 'topojson': 'objects.cantons'}\n",
    "\n",
    "# For map previews\n",
    "website = 'https://nbviewer.jupyter.org/'\n",
    "github_repo = 'github/AdaTeamElec/ADA2017-Homeworks/blob/master/03%20-%20Interactive%20Viz/'"
   ]
  },
  {
   "cell_type": "markdown",
   "metadata": {},
   "source": [
    "# 0. Description \n",
    "\n",
    "## Background\n",
    "In this homework we will be exploring interactive visualization, which is a key ingredient of many successful data visualizations (especially when it comes to infographics).\n",
    "\n",
    "Unemployment rates are major economic metrics and a matter of concern for governments around the world. Though its definition may seem straightforward at first glance (usually defined as the number of unemployed people divided by the active population), it can be tricky to define consistently. For example, one must define what exactly unemployed means : looking for a job ? Having declared their unemployment ? Currently without a job ? Should students or recent graduates be included ? We could also wonder what the active population is : everyone in an age category (e.g. `16-64`) ? Anyone interested by finding a job ? Though these questions may seem subtle, they can have a large impact on the interpretation of the results : `3%` unemployment doesn't mean much if we don't know who is included in this percentage. \n",
    "\n",
    "In this homework you will be dealing with two different datasets from the statistics offices of the European commission ([eurostat](http://ec.europa.eu/eurostat/data/database)) and the Swiss Confederation ([amstat](https://www.amstat.ch)). They provide a variety of datasets with plenty of information on many different statistics and demographics at their respective scales. Unfortunately, as is often the case is data analysis, these websites are not always straightforward to navigate. They may include a lot of obscure categories, not always be translated into your native language, have strange link structures, â€¦ Navigating this complexity is part of a data scientists' job : you will have to use a few tricks to get the right data for this homework.\n",
    "\n",
    "For the visualization part, install [Folium](https://github.com/python-visualization/folium) (*HINT*: it is not available in your standard Anaconda environment, therefore search on the Web how to install it easily!). Folium's `README` comes with very clear examples, and links to their own iPython Notebooks -- make good use of this information. For your own convenience, in this same directory you can already find two `.topojson` files, containing the geo-coordinates of \n",
    "\n",
    "- European countries (*liberal definition of EU*) (`topojson/europe.topojson.json`, [source](https://github.com/leakyMirror/map-of-europe))\n",
    "- Swiss cantons (`topojson/ch-cantons.topojson.json`) \n",
    "\n",
    "These will be used as an overlay on the Folium maps.\n",
    "\n",
    "## Assignment\n",
    "\n",
    "1. Go to the [eurostat](http://ec.europa.eu/eurostat/data/database) website and try to find a dataset that includes the european unemployment rates at a recent date.\n",
    "\n",
    "   Use this data to build a [Choropleth map](https://en.wikipedia.org/wiki/Choropleth_map) which shows the unemployment rate in Europe at a country level. Think about [the colors you use](https://carto.com/academy/courses/intermediate-design/choose-colors-1/), how you decided to [split the intervals into data classes](http://gisgeography.com/choropleth-maps-data-classification/) or which interactions you could add in order to make the visualization intuitive and expressive. Compare Switzerland's unemployment rate to that of the rest of Europe.\n",
    "\n",
    "2. Go to the [amstat](https://www.amstat.ch) website to find a dataset that includes the unemployment rates in Switzerland at a recent date.\n",
    "\n",
    "   > *HINT* Go to the `details` tab to find the raw data you need. If you do not speak French, German or Italian, think of using free translation services to navigate your way through. \n",
    "\n",
    "   Use this data to build another Choropleth map, this time showing the unemployment rate at the level of swiss cantons. Again, try to make the map as expressive as possible, and comment on the trends you observe.\n",
    "\n",
    "   The Swiss Confederation defines the rates you have just plotted as the number of people looking for a job divided by the size of the active population (scaled by 100). This is surely a valid choice, but as we discussed one could argue for a different categorization.\n",
    "\n",
    "   Copy the map you have just created, but this time don't count in your statistics people who already have a job and are looking for a new one. How do your observations change ? You can repeat this with different choices of categories to see how selecting different metrics can lead to different interpretations of the same data.\n",
    "\n",
    "3. Use the [amstat](https://www.amstat.ch) website again to find a dataset that includes the unemployment rates in Switzerland at recent date, this time making a distinction between *Swiss* and *foreign* workers.\n",
    "\n",
    "   The Economic Secretary (SECO) releases [a monthly report](https://www.seco.admin.ch/seco/fr/home/Arbeit/Arbeitslosenversicherung/arbeitslosenzahlen.html) on the state of the employment market. In the latest report (September 2017), it is noted that there is a discrepancy between the unemployment rates for *foreign* (`5.1%`) and *Swiss* (`2.2%`) workers. \n",
    "\n",
    "   Show the difference in unemployment rates between the two categories in each canton on a Choropleth map (*hint* The easy way is to show two separate maps, but can you think of something better ?). Where are the differences most visible ? Why do you think that is ?\n",
    "\n",
    "   Now let's refine the analysis by adding the differences between age groups. As you may have guessed it is nearly impossible to plot so many variables on a map. Make a bar plot, which is a better suited visualization tool for this type of multivariate data.\n",
    "\n",
    "4. *BONUS*: using the map you have just built, and the geographical information contained in it, could you give a *rough estimate* of the difference in unemployment rates between the areas divided by the [RÃ¶stigraben](https://en.wikipedia.org/wiki/R%C3%B6stigraben)?\n",
    "\n",
    "## Folium\n",
    "\n",
    "#### Installation\n",
    "\n",
    "We recommend using the latest version : `0.5.0`.\n",
    "\n",
    "`Folium` is a regular python package, which can be installed through several means :\n",
    "\n",
    "#### 1. Conda\n",
    "```\n",
    "conda install folium\n",
    "```\n",
    "\n",
    "#### 2. pip\n",
    "\n",
    "```\n",
    "pip install -U folium\n",
    "``` \n",
    "\n",
    "By default, the `pip` command is linked to the local `python` distribution on. To use with your notebook, make sure you use the pip bundled with `anaconda`. On mac for example, this is usually : \n",
    "```\n",
    "~/anaconda/bin/pip install -U folium\n",
    "```\n",
    "\n",
    "#### 3. Direct download\n",
    "\n",
    "The package is available [directly from pypi](https://pypi.python.org/pypi/folium)\n",
    "\n",
    "---"
   ]
  },
  {
   "cell_type": "markdown",
   "metadata": {},
   "source": [
    "Below we create a custom function to plot a cloropleth map with custom color palette. We create also a function to save the map url to display it afterward."
   ]
  },
  {
   "cell_type": "code",
   "execution_count": 2,
   "metadata": {
    "collapsed": true
   },
   "outputs": [],
   "source": [
    "def plot_choropleth(df, col_val, json_data, legend='', info=ch_infos, colors=['green','yellow','red'], id_scale=[0,0.5,1]):\n",
    "    # Create map and colormap\n",
    "    index_lin = (np.array(id_scale)*(df[col_val[1]].max()-df[col_val[1]].min()) )+ df[col_val[1]].min()\n",
    "    _map = folium.Map(location = info['lat_long'], zoom_start = info['zoom'], tiles='cartodbpositron')\n",
    "    linear = folium.LinearColormap(colors, vmin=df[col_val[1]].min(), vmax=df[col_val[1]].max(), index=index_lin)\n",
    "    linear.to_step(3)\n",
    "    # Define style function that return color as a function of the input value\n",
    "    def style_color(feature):\n",
    "        id_geo = df.reset_index()[col_val[0]] == feature['properties'][info['key_on']]\n",
    "        return {'fillColor': linear(\n",
    "                df.reset_index().loc[id_geo, col_val[1]].values ),\n",
    "                'color' : 'black', 'weight' : 1, 'dashArray' : '5, 5', 'fillOpacity': 0.5}   \n",
    "    # Add color overlay based on json data\n",
    "    folium.TopoJson(json_data,\n",
    "                    object_path = info['topojson'],\n",
    "                    style_function = style_color).add_to(_map)\n",
    "    # Add legend and caption\n",
    "    linear.caption = legend\n",
    "    _map.add_child(linear)\n",
    "    return _map\n",
    "\n",
    "def generate_file(_map, filename):\n",
    "    _map.save(filename)\n",
    "    url = website + github_repo + filename\n",
    "    iframe = '<iframe src=' + url + ' width=900 height=500></iframe>'\n",
    "    return iframe"
   ]
  },
  {
   "cell_type": "markdown",
   "metadata": {
    "collapsed": true
   },
   "source": [
    "# 1. Eurostat\n",
    "\n",
    "We can find on the Eurostat website many interesting european statistics. For our project we are going to use this specific one: [Employment rates by sex, age and citizenship](http://appsso.eurostat.ec.europa.eu/nui/show.do?dataset=lfsq_ergan&lang=en). It gathers the unemployment rates of every European countries in the EU, AELE area and canidates for EU from 2015 first quarter to 2017 second quarter. <br>\n",
    "We choose to download it into the .csv format and then import it into a Panda Dataframe for more data handling."
   ]
  },
  {
   "cell_type": "code",
   "execution_count": 3,
   "metadata": {},
   "outputs": [
    {
     "data": {
      "text/html": [
       "<div>\n",
       "<style>\n",
       "    .dataframe thead tr:only-child th {\n",
       "        text-align: right;\n",
       "    }\n",
       "\n",
       "    .dataframe thead th {\n",
       "        text-align: left;\n",
       "    }\n",
       "\n",
       "    .dataframe tbody tr th {\n",
       "        vertical-align: top;\n",
       "    }\n",
       "</style>\n",
       "<table border=\"1\" class=\"dataframe\">\n",
       "  <thead>\n",
       "    <tr style=\"text-align: right;\">\n",
       "      <th></th>\n",
       "      <th>TIME</th>\n",
       "      <th>GEO</th>\n",
       "      <th>SEX</th>\n",
       "      <th>AGE</th>\n",
       "      <th>CITIZEN</th>\n",
       "      <th>UNIT</th>\n",
       "      <th>Value</th>\n",
       "      <th>Flag and Footnotes</th>\n",
       "    </tr>\n",
       "  </thead>\n",
       "  <tbody>\n",
       "    <tr>\n",
       "      <th>0</th>\n",
       "      <td>2015Q1</td>\n",
       "      <td>European Union (28 countries)</td>\n",
       "      <td>Total</td>\n",
       "      <td>From 15 to 64 years</td>\n",
       "      <td>Total</td>\n",
       "      <td>Percentage</td>\n",
       "      <td>64.7</td>\n",
       "      <td>NaN</td>\n",
       "    </tr>\n",
       "    <tr>\n",
       "      <th>1</th>\n",
       "      <td>2015Q1</td>\n",
       "      <td>European Union (28 countries)</td>\n",
       "      <td>Males</td>\n",
       "      <td>From 15 to 64 years</td>\n",
       "      <td>Total</td>\n",
       "      <td>Percentage</td>\n",
       "      <td>69.8</td>\n",
       "      <td>NaN</td>\n",
       "    </tr>\n",
       "    <tr>\n",
       "      <th>2</th>\n",
       "      <td>2015Q1</td>\n",
       "      <td>European Union (28 countries)</td>\n",
       "      <td>Females</td>\n",
       "      <td>From 15 to 64 years</td>\n",
       "      <td>Total</td>\n",
       "      <td>Percentage</td>\n",
       "      <td>59.7</td>\n",
       "      <td>NaN</td>\n",
       "    </tr>\n",
       "    <tr>\n",
       "      <th>3</th>\n",
       "      <td>2015Q1</td>\n",
       "      <td>European Union (27 countries)</td>\n",
       "      <td>Total</td>\n",
       "      <td>From 15 to 64 years</td>\n",
       "      <td>Total</td>\n",
       "      <td>Percentage</td>\n",
       "      <td>64.8</td>\n",
       "      <td>NaN</td>\n",
       "    </tr>\n",
       "    <tr>\n",
       "      <th>4</th>\n",
       "      <td>2015Q1</td>\n",
       "      <td>European Union (27 countries)</td>\n",
       "      <td>Males</td>\n",
       "      <td>From 15 to 64 years</td>\n",
       "      <td>Total</td>\n",
       "      <td>Percentage</td>\n",
       "      <td>69.9</td>\n",
       "      <td>NaN</td>\n",
       "    </tr>\n",
       "  </tbody>\n",
       "</table>\n",
       "</div>"
      ],
      "text/plain": [
       "     TIME                            GEO      SEX                  AGE  \\\n",
       "0  2015Q1  European Union (28 countries)    Total  From 15 to 64 years   \n",
       "1  2015Q1  European Union (28 countries)    Males  From 15 to 64 years   \n",
       "2  2015Q1  European Union (28 countries)  Females  From 15 to 64 years   \n",
       "3  2015Q1  European Union (27 countries)    Total  From 15 to 64 years   \n",
       "4  2015Q1  European Union (27 countries)    Males  From 15 to 64 years   \n",
       "\n",
       "  CITIZEN        UNIT  Value Flag and Footnotes  \n",
       "0   Total  Percentage   64.7                NaN  \n",
       "1   Total  Percentage   69.8                NaN  \n",
       "2   Total  Percentage   59.7                NaN  \n",
       "3   Total  Percentage   64.8                NaN  \n",
       "4   Total  Percentage   69.9                NaN  "
      ]
     },
     "execution_count": 3,
     "metadata": {},
     "output_type": "execute_result"
    }
   ],
   "source": [
    "eurostat = pd.read_csv(unemployement_eu)\n",
    "eurostat.head(5)"
   ]
  },
  {
   "cell_type": "markdown",
   "metadata": {},
   "source": [
    "Let's explore a little bit our dataset and the format of datas."
   ]
  },
  {
   "cell_type": "code",
   "execution_count": 4,
   "metadata": {},
   "outputs": [
    {
     "name": "stdout",
     "output_type": "stream",
     "text": [
      "Values in TIME: ['2015Q1' '2015Q2' '2015Q3' '2015Q4' '2016Q1' '2016Q2' '2016Q3' '2016Q4'\n",
      " '2017Q1' '2017Q2']\n",
      "Values in SEX: ['Total' 'Males' 'Females']\n",
      "Values in AGE: ['From 15 to 64 years']\n",
      "Values in CITIZEN: ['Total']\n",
      "Values in UNIT: ['Percentage']\n",
      "Values in Value: 28.9 to 91.4\n",
      "Values in Flag and Footnotes: [nan 'b']\n",
      "Values in GEO: ['European Union (28 countries)' 'European Union (27 countries)'\n",
      " 'European Union (15 countries)' 'Euro area (19 countries)'\n",
      " 'Euro area (18 countries)' 'Euro area (17 countries)' 'Belgium' 'Bulgaria'\n",
      " 'Czech Republic' 'Denmark'\n",
      " 'Germany (until 1990 former territory of the FRG)' 'Estonia' 'Ireland'\n",
      " 'Greece' 'Spain' 'France' 'Croatia' 'Italy' 'Cyprus' 'Latvia' 'Lithuania'\n",
      " 'Luxembourg' 'Hungary' 'Malta' 'Netherlands' 'Austria' 'Poland' 'Portugal'\n",
      " 'Romania' 'Slovenia' 'Slovakia' 'Finland' 'Sweden' 'United Kingdom'\n",
      " 'Iceland' 'Norway' 'Switzerland'\n",
      " 'Former Yugoslav Republic of Macedonia, the' 'Turkey']\n"
     ]
    }
   ],
   "source": [
    "print('Values in TIME: {}'.format(eurostat['TIME'].unique()))\n",
    "print('Values in SEX: {}'.format(eurostat['SEX'].unique()))\n",
    "print('Values in AGE: {}'.format(eurostat['AGE'].unique()))\n",
    "print('Values in CITIZEN: {}'.format(eurostat['CITIZEN'].unique()))\n",
    "print('Values in UNIT: {}'.format(eurostat['UNIT'].unique()))\n",
    "print('Values in Value: {} to {}'.format(eurostat['Value'].min(), eurostat['Value'].max()))\n",
    "print('Values in Flag and Footnotes: {}'.format(eurostat['Flag and Footnotes'].unique()))\n",
    "print('Values in GEO: {}'.format(eurostat['GEO'].unique()))"
   ]
  },
  {
   "cell_type": "markdown",
   "metadata": {},
   "source": [
    "We can now look at the range of each fields.\n",
    "* `TIME` is expressed as quarter (year splitted in 4)\n",
    "* `SEX` is not a binary field and is composed of Males, Females and Total fields.\n",
    "* `AGE` is a single range : From 15 to 64 years, so we would discard it (not relevant)\n",
    "* `CITIZEN` is always equal to \"Total\", so not relevant and will be discarded\n",
    "* `UNIT` is just the unit of `Value` column\n",
    "* `Value` is the employement rate for each country. Goes from 28.9 to 91.4 (huge gap!)\n",
    "* `Flag and Footbotes`: is also an non-relevant field and will be discarded\n",
    "* `GEO` is composed of the names of the countries and some overall stats of EU. We can discard the general values since we are only interested in country-wise values. We also note that Gernamy has a really formal name as \"Germany (until 1990 former territory of the FRG)\""
   ]
  },
  {
   "cell_type": "markdown",
   "metadata": {},
   "source": [
    "We can convert `TIME` to actual timestamp. For example 2016Q2 ends in 2016 + 6 months aka, June 2016. Aso we remove non-relevant fields such as `AGE`, `CITIZEN`, `UNIT`, `Flag and Footnotes`. Then we take only the last entries, i.e 2017Q2 as we are interested by the most recent figures."
   ]
  },
  {
   "cell_type": "code",
   "execution_count": 5,
   "metadata": {
    "collapsed": true
   },
   "outputs": [],
   "source": [
    "def convert_time(time):\n",
    "    quarter = int(time[time.find('Q')+1])\n",
    "    year = int(time[0:4])\n",
    "    return pd.Timestamp(date(year, quarter*3, 1)) \n",
    "\n",
    "eurostat.drop(['AGE', 'CITIZEN', 'UNIT', 'Flag and Footnotes'], axis=1, inplace=True)\n",
    "eurostat.TIME = eurostat.TIME.apply(convert_time)\n",
    "eurostat = eurostat.loc[eurostat.TIME == eurostat.TIME.max()]"
   ]
  },
  {
   "cell_type": "markdown",
   "metadata": {},
   "source": [
    "As expected 2017Q2 is the latest entry and correpond to June 2017."
   ]
  },
  {
   "cell_type": "code",
   "execution_count": 6,
   "metadata": {},
   "outputs": [
    {
     "data": {
      "text/plain": [
       "2017-06-01    117\n",
       "Name: TIME, dtype: int64"
      ]
     },
     "execution_count": 6,
     "metadata": {},
     "output_type": "execute_result"
    }
   ],
   "source": [
    "eurostat.TIME.value_counts()"
   ]
  },
  {
   "cell_type": "markdown",
   "metadata": {},
   "source": [
    "We remove as well \"European Total\" fields that do not interest us and are unecessary for plotting."
   ]
  },
  {
   "cell_type": "code",
   "execution_count": 7,
   "metadata": {},
   "outputs": [
    {
     "data": {
      "text/html": [
       "<div>\n",
       "<style>\n",
       "    .dataframe thead tr:only-child th {\n",
       "        text-align: right;\n",
       "    }\n",
       "\n",
       "    .dataframe thead th {\n",
       "        text-align: left;\n",
       "    }\n",
       "\n",
       "    .dataframe tbody tr th {\n",
       "        vertical-align: top;\n",
       "    }\n",
       "</style>\n",
       "<table border=\"1\" class=\"dataframe\">\n",
       "  <thead>\n",
       "    <tr style=\"text-align: right;\">\n",
       "      <th></th>\n",
       "      <th>TIME</th>\n",
       "      <th>GEO</th>\n",
       "      <th>SEX</th>\n",
       "      <th>Value</th>\n",
       "    </tr>\n",
       "  </thead>\n",
       "  <tbody>\n",
       "    <tr>\n",
       "      <th>1071</th>\n",
       "      <td>2017-06-01</td>\n",
       "      <td>Belgium</td>\n",
       "      <td>Total</td>\n",
       "      <td>62.8</td>\n",
       "    </tr>\n",
       "    <tr>\n",
       "      <th>1072</th>\n",
       "      <td>2017-06-01</td>\n",
       "      <td>Belgium</td>\n",
       "      <td>Males</td>\n",
       "      <td>67.1</td>\n",
       "    </tr>\n",
       "    <tr>\n",
       "      <th>1073</th>\n",
       "      <td>2017-06-01</td>\n",
       "      <td>Belgium</td>\n",
       "      <td>Females</td>\n",
       "      <td>58.4</td>\n",
       "    </tr>\n",
       "    <tr>\n",
       "      <th>1074</th>\n",
       "      <td>2017-06-01</td>\n",
       "      <td>Bulgaria</td>\n",
       "      <td>Total</td>\n",
       "      <td>67.2</td>\n",
       "    </tr>\n",
       "    <tr>\n",
       "      <th>1075</th>\n",
       "      <td>2017-06-01</td>\n",
       "      <td>Bulgaria</td>\n",
       "      <td>Males</td>\n",
       "      <td>70.5</td>\n",
       "    </tr>\n",
       "  </tbody>\n",
       "</table>\n",
       "</div>"
      ],
      "text/plain": [
       "           TIME       GEO      SEX  Value\n",
       "1071 2017-06-01   Belgium    Total   62.8\n",
       "1072 2017-06-01   Belgium    Males   67.1\n",
       "1073 2017-06-01   Belgium  Females   58.4\n",
       "1074 2017-06-01  Bulgaria    Total   67.2\n",
       "1075 2017-06-01  Bulgaria    Males   70.5"
      ]
     },
     "execution_count": 7,
     "metadata": {},
     "output_type": "execute_result"
    }
   ],
   "source": [
    "drop_geo = ['European Union (28 countries)', 'European Union (27 countries)',\n",
    "            'European Union (15 countries)', 'Euro area (19 countries)', \n",
    "            'Euro area (18 countries)', 'Euro area (17 countries)']\n",
    "\n",
    "eurostat = eurostat.loc[[name not in drop_geo for name in eurostat.GEO]]\n",
    "eurostat.head()"
   ]
  },
  {
   "cell_type": "markdown",
   "metadata": {},
   "source": [
    "Now that our dataframe is clean we need to be sure that countries are correctly matched with TOPOJSON data. To do so, we will print countries for both (as a visual purpose) and then look for missing matches.\n",
    "\n",
    "We can notice that we do not have data for all countries. For example we have no data for Azerbaijan which makes actually sense since Azerbaijan is not part of European Union, AELE nor is a candidate. "
   ]
  },
  {
   "cell_type": "code",
   "execution_count": 8,
   "metadata": {},
   "outputs": [
    {
     "name": "stdout",
     "output_type": "stream",
     "text": [
      "Countries Eurostat:\n",
      "['Belgium' 'Bulgaria' 'Czech Republic' 'Denmark'\n",
      " 'Germany (until 1990 former territory of the FRG)' 'Estonia' 'Ireland'\n",
      " 'Greece' 'Spain' 'France' 'Croatia' 'Italy' 'Cyprus' 'Latvia' 'Lithuania'\n",
      " 'Luxembourg' 'Hungary' 'Malta' 'Netherlands' 'Austria' 'Poland' 'Portugal'\n",
      " 'Romania' 'Slovenia' 'Slovakia' 'Finland' 'Sweden' 'United Kingdom'\n",
      " 'Iceland' 'Norway' 'Switzerland'\n",
      " 'Former Yugoslav Republic of Macedonia, the' 'Turkey']\n"
     ]
    }
   ],
   "source": [
    "print('Countries Eurostat:\\n{}'.format(eurostat.GEO.unique()))"
   ]
  },
  {
   "cell_type": "code",
   "execution_count": 9,
   "metadata": {},
   "outputs": [
    {
     "name": "stdout",
     "output_type": "stream",
     "text": [
      "Countries JSON EU:\n",
      "['Azerbaijan', 'Albania', 'Armenia', 'Bosnia and Herzegovina', 'Bulgaria', 'Cyprus', 'Denmark', 'Ireland', 'Estonia', 'Austria', 'Czech Republic', 'Finland', 'France', 'Georgia', 'Germany', 'Greece', 'Croatia', 'Hungary', 'Iceland', 'Israel', 'Italy', 'Latvia', 'Belarus', 'Lithuania', 'Slovakia', 'Liechtenstein', 'The former Yugoslav Republic of Macedonia', 'Malta', 'Belgium', 'Faroe Islands', 'Andorra', 'Luxembourg', 'Monaco', 'Montenegro', 'Netherlands', 'Norway', 'Poland', 'Portugal', 'Romania', 'Republic of Moldova', 'Slovenia', 'Spain', 'Sweden', 'Switzerland', 'Turkey', 'United Kingdom', 'Ukraine', 'San Marino', 'Serbia', 'Holy See (Vatican City)', 'Russia']\n"
     ]
    }
   ],
   "source": [
    "data_topojson_eu = json.load(open(topojson_eu))\n",
    "geo_eu_countries = []\n",
    "for country in data_topojson_eu['objects']['europe']['geometries']:\n",
    "    geo_eu_countries.append(country['properties']['NAME'])\n",
    "print('Countries JSON EU:\\n{}'.format(geo_eu_countries))"
   ]
  },
  {
   "cell_type": "code",
   "execution_count": 10,
   "metadata": {},
   "outputs": [
    {
     "data": {
      "text/plain": [
       "array(['Germany (until 1990 former territory of the FRG)',\n",
       "       'Former Yugoslav Republic of Macedonia, the'], dtype=object)"
      ]
     },
     "execution_count": 10,
     "metadata": {},
     "output_type": "execute_result"
    }
   ],
   "source": [
    "eurostat.loc[[country not in geo_eu_countries for country in eurostat.reset_index().GEO], 'GEO' ].unique()"
   ]
  },
  {
   "cell_type": "markdown",
   "metadata": {},
   "source": [
    "We can see that two countries in our data are not located in JSON file. `Germany` is `Germany (until 1990 former territory of the FRG)` and `The former Yugoslav Republic of Macedonia` is `Former Yugoslav Republic of Macedonia, the` in eurostat data.\n",
    "\n",
    "We can directly replace thoses countries' names in our dataset so both data will match."
   ]
  },
  {
   "cell_type": "code",
   "execution_count": 11,
   "metadata": {
    "collapsed": true
   },
   "outputs": [],
   "source": [
    "eurostat.GEO.replace(\n",
    "    {'Germany (until 1990 former territory of the FRG)': 'Germany',\n",
    "     'Former Yugoslav Republic of Macedonia, the': 'The former Yugoslav Republic of Macedonia'}, inplace=True)"
   ]
  },
  {
   "cell_type": "markdown",
   "metadata": {},
   "source": [
    "Note that we can as well discard non-relevant countries in our TOPOJSON to avoid confusion in ploting results. We will therefore only keep countries that are matching in **both** data (eurostat and topojson). "
   ]
  },
  {
   "cell_type": "code",
   "execution_count": 12,
   "metadata": {
    "collapsed": true
   },
   "outputs": [],
   "source": [
    "json_id_keep = [country['properties']['NAME'] in eurostat.GEO.values \n",
    "                for country in data_topojson_eu['objects']['europe']['geometries']]\n",
    "data_topojson_eu['objects']['europe']['geometries'] = np.array(data_topojson_eu['objects']['europe']['geometries'])[json_id_keep].tolist()"
   ]
  },
  {
   "cell_type": "markdown",
   "metadata": {},
   "source": [
    "We can reorganize our dataframe so Males, Females and Total fileds will be presented as unique columns. This will allow us to easily compute differences in quantities. Note that we also change our data to unemployment as $\\text{unemployement} = 100-\\text{employement}$ if both fiels are expressed as a percentage."
   ]
  },
  {
   "cell_type": "code",
   "execution_count": 13,
   "metadata": {},
   "outputs": [
    {
     "data": {
      "text/html": [
       "<div>\n",
       "<style>\n",
       "    .dataframe thead tr:only-child th {\n",
       "        text-align: right;\n",
       "    }\n",
       "\n",
       "    .dataframe thead th {\n",
       "        text-align: left;\n",
       "    }\n",
       "\n",
       "    .dataframe tbody tr th {\n",
       "        vertical-align: top;\n",
       "    }\n",
       "</style>\n",
       "<table border=\"1\" class=\"dataframe\">\n",
       "  <thead>\n",
       "    <tr style=\"text-align: right;\">\n",
       "      <th></th>\n",
       "      <th>SEX</th>\n",
       "      <th>Females</th>\n",
       "      <th>Males</th>\n",
       "      <th>Total</th>\n",
       "      <th>Females_o_Males</th>\n",
       "    </tr>\n",
       "    <tr>\n",
       "      <th>GEO</th>\n",
       "      <th>TIME</th>\n",
       "      <th></th>\n",
       "      <th></th>\n",
       "      <th></th>\n",
       "      <th></th>\n",
       "    </tr>\n",
       "  </thead>\n",
       "  <tbody>\n",
       "    <tr>\n",
       "      <th>Austria</th>\n",
       "      <th>2017-06-01</th>\n",
       "      <td>31.9</td>\n",
       "      <td>23.8</td>\n",
       "      <td>27.8</td>\n",
       "      <td>1.340336</td>\n",
       "    </tr>\n",
       "    <tr>\n",
       "      <th>Belgium</th>\n",
       "      <th>2017-06-01</th>\n",
       "      <td>41.6</td>\n",
       "      <td>32.9</td>\n",
       "      <td>37.2</td>\n",
       "      <td>1.264438</td>\n",
       "    </tr>\n",
       "    <tr>\n",
       "      <th>Bulgaria</th>\n",
       "      <th>2017-06-01</th>\n",
       "      <td>36.1</td>\n",
       "      <td>29.5</td>\n",
       "      <td>32.8</td>\n",
       "      <td>1.223729</td>\n",
       "    </tr>\n",
       "    <tr>\n",
       "      <th>Croatia</th>\n",
       "      <th>2017-06-01</th>\n",
       "      <td>46.3</td>\n",
       "      <td>35.3</td>\n",
       "      <td>40.8</td>\n",
       "      <td>1.311615</td>\n",
       "    </tr>\n",
       "    <tr>\n",
       "      <th>Cyprus</th>\n",
       "      <th>2017-06-01</th>\n",
       "      <td>38.7</td>\n",
       "      <td>29.8</td>\n",
       "      <td>34.4</td>\n",
       "      <td>1.298658</td>\n",
       "    </tr>\n",
       "  </tbody>\n",
       "</table>\n",
       "</div>"
      ],
      "text/plain": [
       "SEX                  Females  Males  Total  Females_o_Males\n",
       "GEO      TIME                                              \n",
       "Austria  2017-06-01     31.9   23.8   27.8         1.340336\n",
       "Belgium  2017-06-01     41.6   32.9   37.2         1.264438\n",
       "Bulgaria 2017-06-01     36.1   29.5   32.8         1.223729\n",
       "Croatia  2017-06-01     46.3   35.3   40.8         1.311615\n",
       "Cyprus   2017-06-01     38.7   29.8   34.4         1.298658"
      ]
     },
     "execution_count": 13,
     "metadata": {},
     "output_type": "execute_result"
    }
   ],
   "source": [
    "eurostat = eurostat.pivot_table(index=['GEO', 'TIME'], columns='SEX', values='Value')\n",
    "eurostat = 100-eurostat\n",
    "eurostat['Females_o_Males'] = eurostat['Females']/eurostat['Males']\n",
    "eurostat.head()"
   ]
  },
  {
   "cell_type": "markdown",
   "metadata": {},
   "source": [
    "## 1.1 Results\n",
    "\n",
    "We plot the map using the method defined above.\n",
    "\n",
    "#### Unemployement rate"
   ]
  },
  {
   "cell_type": "code",
   "execution_count": 14,
   "metadata": {},
   "outputs": [
    {
     "data": {
      "text/html": [
       "<iframe src=https://nbviewer.jupyter.org/github/AdaTeamElec/ADA2017-Homeworks/blob/master/03%20-%20Interactive%20Viz/maps/EU_unemployement_rate.html width=900 height=500></iframe>"
      ],
      "text/plain": [
       "<IPython.core.display.HTML object>"
      ]
     },
     "execution_count": 14,
     "metadata": {},
     "output_type": "execute_result"
    }
   ],
   "source": [
    "europe_map = plot_choropleth(eurostat, ['GEO', 'Total'], data_topojson_eu, \n",
    "                                 legend='EU unemployement per country in %', info=eu_infos)\n",
    "IPython.display.HTML(generate_file(europe_map, 'maps/EU_unemployement_rate.html'))"
   ]
  },
  {
   "cell_type": "markdown",
   "metadata": {},
   "source": [
    "We can observe that Nordic countries have, on average, a lower unemployment rate. Southern countries shows the higher unemployement rate. Note that Finland acts like an outlier since it should be part of Nordic countries but has a high unemployement rate. We investigated and found that according to [Tradingeconomics Finland Unemployement](https://tradingeconomics.com/finland/unemployment-rate) the unemployement is 8.9% for June 2017. Apparentelly there are huge differences in the way they compute unemployement rate compared to the method used by eurostat.\n",
    "\n",
    "If we look more carefully at these data, we can observe that unemployement in EU is computed as `not_working_population`/`active_population` ([Definition here](http://ec.europa.eu/eurostat/statistics-explained/index.php/Glossary:Employment_rate)) which will of course gives huge unemployement values. This is indeed the literal interpetation of the term \"unemployement\" but not representative of the actual country economic situation nor the amount of persons receiving subsidies while looking for a job.\n",
    "\n",
    "#### Ratio difference in Females and Males unemployment"
   ]
  },
  {
   "cell_type": "code",
   "execution_count": 15,
   "metadata": {},
   "outputs": [
    {
     "data": {
      "text/html": [
       "<iframe src=https://nbviewer.jupyter.org/github/AdaTeamElec/ADA2017-Homeworks/blob/master/03%20-%20Interactive%20Viz/maps/EU_unemployement_male_female.html width=900 height=500></iframe>"
      ],
      "text/plain": [
       "<IPython.core.display.HTML object>"
      ]
     },
     "execution_count": 15,
     "metadata": {},
     "output_type": "execute_result"
    }
   ],
   "source": [
    "europe_map = plot_choropleth(eurostat, ['GEO', 'Females_o_Males'], data_topojson_eu, \n",
    "                              legend='EU ratio difference in Female and Males unemployement', info=eu_infos)\n",
    "IPython.display.HTML(generate_file(europe_map, 'maps/EU_unemployement_male_female.html'))"
   ]
  },
  {
   "cell_type": "markdown",
   "metadata": {},
   "source": [
    "We can notice that women have a higher unemployement rate in South-Eastern countries. \n",
    "\n",
    "We can keep in mind the values below, from the eurostat database, to compare them after with Switzerland offical ones."
   ]
  },
  {
   "cell_type": "code",
   "execution_count": 16,
   "metadata": {},
   "outputs": [
    {
     "name": "stdout",
     "output_type": "stream",
     "text": [
      "European unemployment values for Switzerland:\n",
      "\n",
      "SEX                     Total  Males  Females\n",
      "GEO         TIME                             \n",
      "Switzerland 2017-06-01   20.2   15.4     25.2\n"
     ]
    }
   ],
   "source": [
    "print('European unemployment values for Switzerland:\\n\\n{}'.format(\n",
    "    eurostat.loc[('Switzerland', '2017-06-01'), ['Total', 'Males', 'Females']]))"
   ]
  },
  {
   "cell_type": "markdown",
   "metadata": {},
   "source": [
    "---\n",
    "# 2. Switzerland\n",
    "\n",
    "To compare results with EU ones, we chosed to also load data of unemployement for both genders. Our data were taken from [amsat](https://www.amstat.ch/v2/index.jsp?lang=fr) as asked.\n",
    "\n",
    "Both data contain common fields `canton` that will allow us to merge them easily. Note that data gender names are in German. We replace them with english equivalent to make display more coherent."
   ]
  },
  {
   "cell_type": "code",
   "execution_count": 17,
   "metadata": {},
   "outputs": [
    {
     "data": {
      "text/html": [
       "<div>\n",
       "<style>\n",
       "    .dataframe thead tr:only-child th {\n",
       "        text-align: right;\n",
       "    }\n",
       "\n",
       "    .dataframe thead th {\n",
       "        text-align: left;\n",
       "    }\n",
       "\n",
       "    .dataframe tbody tr th {\n",
       "        vertical-align: top;\n",
       "    }\n",
       "</style>\n",
       "<table border=\"1\" class=\"dataframe\">\n",
       "  <thead>\n",
       "    <tr style=\"text-align: right;\">\n",
       "      <th></th>\n",
       "      <th>canton</th>\n",
       "      <th>rate</th>\n",
       "      <th>sex</th>\n",
       "    </tr>\n",
       "  </thead>\n",
       "  <tbody>\n",
       "    <tr>\n",
       "      <th>18</th>\n",
       "      <td>Aargau</td>\n",
       "      <td>2.9</td>\n",
       "      <td>Total</td>\n",
       "    </tr>\n",
       "    <tr>\n",
       "      <th>36</th>\n",
       "      <td>Aargau</td>\n",
       "      <td>2.9</td>\n",
       "      <td>Males</td>\n",
       "    </tr>\n",
       "    <tr>\n",
       "      <th>37</th>\n",
       "      <td>Aargau</td>\n",
       "      <td>3.0</td>\n",
       "      <td>Females</td>\n",
       "    </tr>\n",
       "    <tr>\n",
       "      <th>29</th>\n",
       "      <td>Appenzell Ausserrhoden</td>\n",
       "      <td>1.8</td>\n",
       "      <td>Females</td>\n",
       "    </tr>\n",
       "    <tr>\n",
       "      <th>28</th>\n",
       "      <td>Appenzell Ausserrhoden</td>\n",
       "      <td>1.7</td>\n",
       "      <td>Males</td>\n",
       "    </tr>\n",
       "    <tr>\n",
       "      <th>14</th>\n",
       "      <td>Appenzell Ausserrhoden</td>\n",
       "      <td>1.7</td>\n",
       "      <td>Total</td>\n",
       "    </tr>\n",
       "  </tbody>\n",
       "</table>\n",
       "</div>"
      ],
      "text/plain": [
       "                    canton  rate      sex\n",
       "18                  Aargau   2.9    Total\n",
       "36                  Aargau   2.9    Males\n",
       "37                  Aargau   3.0  Females\n",
       "29  Appenzell Ausserrhoden   1.8  Females\n",
       "28  Appenzell Ausserrhoden   1.7    Males\n",
       "14  Appenzell Ausserrhoden   1.7    Total"
      ]
     },
     "execution_count": 17,
     "metadata": {},
     "output_type": "execute_result"
    }
   ],
   "source": [
    "# We skip the first rows since there are headers and therefore not relevant\n",
    "ch_stat = pd.read_excel(unemployement_ch, skiprows=4, header=None, usecols=np.array([0,2]))\n",
    "ch_stat_sex = pd.read_excel(unemployement_sex_ch, skiprows=4, header=None, usecols=np.array([0,1,3]))\n",
    "\n",
    "ch_stat.columns = ['canton', 'rate']\n",
    "ch_stat_sex.columns = ['canton', 'sex', 'rate']\n",
    "\n",
    "ch_stat = pd.concat((ch_stat, ch_stat_sex))\n",
    "ch_stat.replace({np.NAN: 'Total', 'Männer': 'Males', 'Frauen': 'Females'}, inplace=True)\n",
    "ch_stat.sort_values(by='canton').head(6)"
   ]
  },
  {
   "cell_type": "markdown",
   "metadata": {},
   "source": [
    "Here we are facing the same problem as with EU JSON data. We need to make sure each canton are correctly linked. We can take a look at both cantons' names in TOPOJSON file and in Amstat data."
   ]
  },
  {
   "cell_type": "code",
   "execution_count": 18,
   "metadata": {},
   "outputs": [
    {
     "name": "stdout",
     "output_type": "stream",
     "text": [
      "Countries JSON Switzerland:\n",
      "['Zürich', 'Bern/Berne', 'Luzern', 'Uri', 'Schwyz', 'Obwalden', 'Nidwalden', 'Glarus', 'Zug', 'Fribourg', 'Solothurn', 'Basel-Stadt', 'Basel-Landschaft', 'Schaffhausen', 'Appenzell Ausserrhoden', 'Appenzell Innerrhoden', 'St. Gallen', 'Graubünden/Grigioni', 'Aargau', 'Thurgau', 'Ticino', 'Vaud', 'Valais/Wallis', 'Neuchâtel', 'Genève', 'Jura']\n"
     ]
    }
   ],
   "source": [
    "data_topojson_ch = json.load(open(topojson_ch))\n",
    "geo_ch_cantons = []\n",
    "\n",
    "for canton in data_topojson_ch['objects']['cantons']['geometries']:\n",
    "    geo_ch_cantons.append(canton['properties']['name'])\n",
    "print('Countries JSON Switzerland:\\n{}'.format(geo_ch_cantons))"
   ]
  },
  {
   "cell_type": "code",
   "execution_count": 19,
   "metadata": {},
   "outputs": [
    {
     "name": "stdout",
     "output_type": "stream",
     "text": [
      "Countries Amstat Switzerland :\n",
      "['Zürich' 'Bern' 'Luzern' 'Uri' 'Schwyz' 'Obwalden' 'Nidwalden' 'Glarus'\n",
      " 'Zug' 'Freiburg' 'Solothurn' 'Basel-Stadt' 'Basel-Landschaft'\n",
      " 'Schaffhausen' 'Appenzell Ausserrhoden' 'Appenzell Innerrhoden'\n",
      " 'St. Gallen' 'Graubünden' 'Aargau' 'Thurgau' 'Tessin' 'Waadt' 'Wallis'\n",
      " 'Neuenburg' 'Genf' 'Jura' 'Gesamt']\n"
     ]
    }
   ],
   "source": [
    "print('Countries Amstat Switzerland :\\n{}'.format(ch_stat.canton.unique()))"
   ]
  },
  {
   "cell_type": "markdown",
   "metadata": {},
   "source": [
    "Now let's look at canton that are **not** correctly matched together"
   ]
  },
  {
   "cell_type": "code",
   "execution_count": 20,
   "metadata": {},
   "outputs": [
    {
     "data": {
      "text/plain": [
       "array(['Bern', 'Freiburg', 'Graubünden', 'Tessin', 'Waadt', 'Wallis',\n",
       "       'Neuenburg', 'Genf', 'Gesamt'], dtype=object)"
      ]
     },
     "execution_count": 20,
     "metadata": {},
     "output_type": "execute_result"
    }
   ],
   "source": [
    "ch_stat.loc[ [canton not in geo_ch_cantons for canton in ch_stat.canton], 'canton' ].unique()"
   ]
  },
  {
   "cell_type": "markdown",
   "metadata": {},
   "source": [
    "We can see that cantons in TopoJSON are named according to their local language (e.i. Vaud is french and Basel-Stadt is German). In Amstat data all cantons are in German. It is therfore not possible to quickly match non-German canton together. We used therefore a dictionnary to match them. We create a new column named `canton_json` so we keep track of original names.\n",
    "\n",
    "Note that one line is 'Gesamt' which mean 'Total' in German. We can discard that row as well."
   ]
  },
  {
   "cell_type": "code",
   "execution_count": 21,
   "metadata": {},
   "outputs": [
    {
     "data": {
      "text/html": [
       "<div>\n",
       "<style>\n",
       "    .dataframe thead tr:only-child th {\n",
       "        text-align: right;\n",
       "    }\n",
       "\n",
       "    .dataframe thead th {\n",
       "        text-align: left;\n",
       "    }\n",
       "\n",
       "    .dataframe tbody tr th {\n",
       "        vertical-align: top;\n",
       "    }\n",
       "</style>\n",
       "<table border=\"1\" class=\"dataframe\">\n",
       "  <thead>\n",
       "    <tr style=\"text-align: right;\">\n",
       "      <th></th>\n",
       "      <th>canton</th>\n",
       "      <th>rate</th>\n",
       "      <th>sex</th>\n",
       "      <th>canton_json</th>\n",
       "    </tr>\n",
       "  </thead>\n",
       "  <tbody>\n",
       "    <tr>\n",
       "      <th>0</th>\n",
       "      <td>Zürich</td>\n",
       "      <td>3.3</td>\n",
       "      <td>Total</td>\n",
       "      <td>Zürich</td>\n",
       "    </tr>\n",
       "    <tr>\n",
       "      <th>1</th>\n",
       "      <td>Bern</td>\n",
       "      <td>2.4</td>\n",
       "      <td>Total</td>\n",
       "      <td>Bern/Berne</td>\n",
       "    </tr>\n",
       "    <tr>\n",
       "      <th>2</th>\n",
       "      <td>Luzern</td>\n",
       "      <td>1.7</td>\n",
       "      <td>Total</td>\n",
       "      <td>Luzern</td>\n",
       "    </tr>\n",
       "    <tr>\n",
       "      <th>3</th>\n",
       "      <td>Uri</td>\n",
       "      <td>0.6</td>\n",
       "      <td>Total</td>\n",
       "      <td>Uri</td>\n",
       "    </tr>\n",
       "    <tr>\n",
       "      <th>4</th>\n",
       "      <td>Schwyz</td>\n",
       "      <td>1.7</td>\n",
       "      <td>Total</td>\n",
       "      <td>Schwyz</td>\n",
       "    </tr>\n",
       "  </tbody>\n",
       "</table>\n",
       "</div>"
      ],
      "text/plain": [
       "   canton  rate    sex canton_json\n",
       "0  Zürich   3.3  Total      Zürich\n",
       "1    Bern   2.4  Total  Bern/Berne\n",
       "2  Luzern   1.7  Total      Luzern\n",
       "3     Uri   0.6  Total         Uri\n",
       "4  Schwyz   1.7  Total      Schwyz"
      ]
     },
     "execution_count": 21,
     "metadata": {},
     "output_type": "execute_result"
    }
   ],
   "source": [
    "dict_cantons = {'Bern': 'Bern/Berne', 'Freiburg': 'Fribourg', 'Graubünden': 'Graubünden/Grigioni', \n",
    "                'Tessin': 'Ticino', 'Waadt': 'Vaud', 'Wallis': 'Valais/Wallis', 'Neuenburg': 'Neuchâtel', \n",
    "                'Genf': 'Genève'}\n",
    "ch_stat['canton_json'] = ch_stat.canton\n",
    "ch_stat['canton_json'].replace(dict_cantons, inplace=True)\n",
    "ch_stat = ch_stat[ch_stat.canton != 'Gesamt']\n",
    "ch_stat.head()"
   ]
  },
  {
   "cell_type": "markdown",
   "metadata": {},
   "source": [
    "We can do the same as we did for EU. We will take total, males and females as distinct columns and compute the ratio of unemployement between the two genders."
   ]
  },
  {
   "cell_type": "code",
   "execution_count": 22,
   "metadata": {},
   "outputs": [
    {
     "data": {
      "text/html": [
       "<div>\n",
       "<style>\n",
       "    .dataframe thead tr:only-child th {\n",
       "        text-align: right;\n",
       "    }\n",
       "\n",
       "    .dataframe thead th {\n",
       "        text-align: left;\n",
       "    }\n",
       "\n",
       "    .dataframe tbody tr th {\n",
       "        vertical-align: top;\n",
       "    }\n",
       "</style>\n",
       "<table border=\"1\" class=\"dataframe\">\n",
       "  <thead>\n",
       "    <tr style=\"text-align: right;\">\n",
       "      <th></th>\n",
       "      <th>canton</th>\n",
       "      <th>canton_json</th>\n",
       "      <th>females_rate</th>\n",
       "      <th>males_rate</th>\n",
       "      <th>total_rate</th>\n",
       "      <th>female_o_males</th>\n",
       "    </tr>\n",
       "  </thead>\n",
       "  <tbody>\n",
       "    <tr>\n",
       "      <th>0</th>\n",
       "      <td>Aargau</td>\n",
       "      <td>Aargau</td>\n",
       "      <td>3.0</td>\n",
       "      <td>2.9</td>\n",
       "      <td>2.9</td>\n",
       "      <td>1.034483</td>\n",
       "    </tr>\n",
       "    <tr>\n",
       "      <th>1</th>\n",
       "      <td>Appenzell Ausserrhoden</td>\n",
       "      <td>Appenzell Ausserrhoden</td>\n",
       "      <td>1.8</td>\n",
       "      <td>1.7</td>\n",
       "      <td>1.7</td>\n",
       "      <td>1.058824</td>\n",
       "    </tr>\n",
       "    <tr>\n",
       "      <th>2</th>\n",
       "      <td>Appenzell Innerrhoden</td>\n",
       "      <td>Appenzell Innerrhoden</td>\n",
       "      <td>0.7</td>\n",
       "      <td>0.7</td>\n",
       "      <td>0.7</td>\n",
       "      <td>1.000000</td>\n",
       "    </tr>\n",
       "    <tr>\n",
       "      <th>3</th>\n",
       "      <td>Basel-Landschaft</td>\n",
       "      <td>Basel-Landschaft</td>\n",
       "      <td>2.6</td>\n",
       "      <td>2.9</td>\n",
       "      <td>2.8</td>\n",
       "      <td>0.896552</td>\n",
       "    </tr>\n",
       "    <tr>\n",
       "      <th>4</th>\n",
       "      <td>Basel-Stadt</td>\n",
       "      <td>Basel-Stadt</td>\n",
       "      <td>3.2</td>\n",
       "      <td>3.7</td>\n",
       "      <td>3.5</td>\n",
       "      <td>0.864865</td>\n",
       "    </tr>\n",
       "  </tbody>\n",
       "</table>\n",
       "</div>"
      ],
      "text/plain": [
       "                   canton             canton_json  females_rate  males_rate  \\\n",
       "0                  Aargau                  Aargau           3.0         2.9   \n",
       "1  Appenzell Ausserrhoden  Appenzell Ausserrhoden           1.8         1.7   \n",
       "2   Appenzell Innerrhoden   Appenzell Innerrhoden           0.7         0.7   \n",
       "3        Basel-Landschaft        Basel-Landschaft           2.6         2.9   \n",
       "4             Basel-Stadt             Basel-Stadt           3.2         3.7   \n",
       "\n",
       "   total_rate  female_o_males  \n",
       "0         2.9        1.034483  \n",
       "1         1.7        1.058824  \n",
       "2         0.7        1.000000  \n",
       "3         2.8        0.896552  \n",
       "4         3.5        0.864865  "
      ]
     },
     "execution_count": 22,
     "metadata": {},
     "output_type": "execute_result"
    }
   ],
   "source": [
    "ch_stat = ch_stat.pivot_table(index=['canton', 'canton_json'], columns='sex', values='rate')\n",
    "ch_stat.columns = ['females_rate', 'males_rate', 'total_rate']\n",
    "ch_stat['female_o_males'] = ch_stat['females_rate']/ch_stat['males_rate']\n",
    "ch_stat.reset_index(inplace=True)\n",
    "ch_stat.head()"
   ]
  },
  {
   "cell_type": "markdown",
   "metadata": {},
   "source": [
    "## 2.1 Results - General\n",
    "We can see a trend in our data. The french seaking part of Switzerland (West) have higher unemployement rates. Also inner switzerland (Middle/East) have in average a low level of unemployement."
   ]
  },
  {
   "cell_type": "code",
   "execution_count": 23,
   "metadata": {},
   "outputs": [
    {
     "data": {
      "text/html": [
       "<iframe src=https://nbviewer.jupyter.org/github/AdaTeamElec/ADA2017-Homeworks/blob/master/03%20-%20Interactive%20Viz/maps/CH_unemployement_rate.html width=900 height=500></iframe>"
      ],
      "text/plain": [
       "<IPython.core.display.HTML object>"
      ]
     },
     "execution_count": 23,
     "metadata": {},
     "output_type": "execute_result"
    }
   ],
   "source": [
    "ch_map = plot_choropleth(ch_stat, ['canton_json', 'total_rate'], json_data= data_topojson_ch,\n",
    "                          legend='Swiss unemployement percentage for Total population')\n",
    "IPython.display.HTML(generate_file(ch_map, 'maps/CH_unemployement_rate.html'))"
   ]
  },
  {
   "cell_type": "markdown",
   "metadata": {},
   "source": [
    "We can see that in average both `Males` and `Females` have the same level of unemployement. Except maybe for Uri canton where the ratio goes up to 1.4. Still, compared to the ratio observed in the whole europe, the numbers are  lower than the ones from eurostat."
   ]
  },
  {
   "cell_type": "code",
   "execution_count": 24,
   "metadata": {
    "scrolled": false
   },
   "outputs": [
    {
     "data": {
      "text/html": [
       "<iframe src=https://nbviewer.jupyter.org/github/AdaTeamElec/ADA2017-Homeworks/blob/master/03%20-%20Interactive%20Viz/maps/CH_unemployement_male_female.html width=900 height=500></iframe>"
      ],
      "text/plain": [
       "<IPython.core.display.HTML object>"
      ]
     },
     "execution_count": 24,
     "metadata": {},
     "output_type": "execute_result"
    }
   ],
   "source": [
    "ch_map = plot_choropleth(ch_stat, ['canton_json', 'female_o_males'], json_data= data_topojson_ch,\n",
    "                          legend='Swiss ratio difference in Female and Males unemployement')\n",
    "IPython.display.HTML(generate_file(ch_map, 'maps/CH_unemployement_male_female.html'))"
   ]
  },
  {
   "cell_type": "markdown",
   "metadata": {},
   "source": [
    "## 2.2 Results - Differences in interpretation\n",
    "\n",
    "So we just saw that there is a huge difference in unemployment between the values given by EU (~20%) and Switzerland (Not calculated yet but at most 5.2% according to Geneva canton situation). To understand why there is such a huge difference let's decribe how unemployement is computed in Switzerland ([Source](https://www.seco.admin.ch/seco/fr/home/wirtschaftslage---wirtschaftspolitik/Wirtschaftslage/Arbeitslosenzahlen.html)).\n",
    "\n",
    "1. You are considered as a `job seeker` if you are registred to an ORP (Office régional de placement).\n",
    "2. You are considered as `unemployed` if you are subscribed to an ORP **AND** if you receive subsidies from the canton. \n",
    "3. You are a `job seeker` but **not** `unemployed` if you are registered to an ORP but have no rights to subsidies (e.g. You haven't worked enough or are registred to social aid).\n",
    "4. Switzerland is computing unemploymenet as `unemployed`/`active_population`.\n",
    "\n",
    "Here we will add to our dataframe the actual number of `Job Seekers`, `Unemplyoed`, `Unemployed (Young)`, `Long Term Unemployed` (unemployed for over 1 year)."
   ]
  },
  {
   "cell_type": "code",
   "execution_count": 25,
   "metadata": {},
   "outputs": [
    {
     "data": {
      "text/html": [
       "<div>\n",
       "<style>\n",
       "    .dataframe thead tr:only-child th {\n",
       "        text-align: right;\n",
       "    }\n",
       "\n",
       "    .dataframe thead th {\n",
       "        text-align: left;\n",
       "    }\n",
       "\n",
       "    .dataframe tbody tr th {\n",
       "        vertical-align: top;\n",
       "    }\n",
       "</style>\n",
       "<table border=\"1\" class=\"dataframe\">\n",
       "  <thead>\n",
       "    <tr style=\"text-align: right;\">\n",
       "      <th></th>\n",
       "      <th>canton</th>\n",
       "      <th>unemp_number</th>\n",
       "      <th>unemp_young</th>\n",
       "      <th>unemp_longterm</th>\n",
       "      <th>unemp_seeker_number</th>\n",
       "      <th>seeker</th>\n",
       "    </tr>\n",
       "  </thead>\n",
       "  <tbody>\n",
       "    <tr>\n",
       "      <th>0</th>\n",
       "      <td>Zürich</td>\n",
       "      <td>27225</td>\n",
       "      <td>3420</td>\n",
       "      <td>4753</td>\n",
       "      <td>34156</td>\n",
       "      <td>6931</td>\n",
       "    </tr>\n",
       "    <tr>\n",
       "      <th>1</th>\n",
       "      <td>Bern</td>\n",
       "      <td>13658</td>\n",
       "      <td>2003</td>\n",
       "      <td>2336</td>\n",
       "      <td>18385</td>\n",
       "      <td>4727</td>\n",
       "    </tr>\n",
       "    <tr>\n",
       "      <th>2</th>\n",
       "      <td>Luzern</td>\n",
       "      <td>3885</td>\n",
       "      <td>664</td>\n",
       "      <td>453</td>\n",
       "      <td>6756</td>\n",
       "      <td>2871</td>\n",
       "    </tr>\n",
       "    <tr>\n",
       "      <th>3</th>\n",
       "      <td>Uri</td>\n",
       "      <td>112</td>\n",
       "      <td>15</td>\n",
       "      <td>13</td>\n",
       "      <td>257</td>\n",
       "      <td>145</td>\n",
       "    </tr>\n",
       "    <tr>\n",
       "      <th>4</th>\n",
       "      <td>Schwyz</td>\n",
       "      <td>1455</td>\n",
       "      <td>185</td>\n",
       "      <td>189</td>\n",
       "      <td>2229</td>\n",
       "      <td>774</td>\n",
       "    </tr>\n",
       "  </tbody>\n",
       "</table>\n",
       "</div>"
      ],
      "text/plain": [
       "   canton  unemp_number  unemp_young  unemp_longterm  unemp_seeker_number  \\\n",
       "0  Zürich         27225         3420            4753                34156   \n",
       "1    Bern         13658         2003            2336                18385   \n",
       "2  Luzern          3885          664             453                 6756   \n",
       "3     Uri           112           15              13                  257   \n",
       "4  Schwyz          1455          185             189                 2229   \n",
       "\n",
       "   seeker  \n",
       "0    6931  \n",
       "1    4727  \n",
       "2    2871  \n",
       "3     145  \n",
       "4     774  "
      ]
     },
     "execution_count": 25,
     "metadata": {},
     "output_type": "execute_result"
    }
   ],
   "source": [
    "ch_stat_fact = pd.read_excel(unemployement_factor_ch, skiprows=4, header=None, \n",
    "                             usecols=np.array([0,3,4,5,6,7]))\n",
    "ch_stat_fact.columns = ['canton', 'unemp_number','unemp_young', \n",
    "                   'unemp_longterm', 'unemp_seeker_number', 'seeker']\n",
    "ch_stat_fact = ch_stat_fact[ch_stat_fact.canton != 'Gesamt']\n",
    "ch_stat_fact.head()"
   ]
  },
  {
   "cell_type": "markdown",
   "metadata": {},
   "source": [
    "Since we have the same names for the canton, we can merge these data to our dataframe."
   ]
  },
  {
   "cell_type": "code",
   "execution_count": 26,
   "metadata": {},
   "outputs": [
    {
     "data": {
      "text/html": [
       "<div>\n",
       "<style>\n",
       "    .dataframe thead tr:only-child th {\n",
       "        text-align: right;\n",
       "    }\n",
       "\n",
       "    .dataframe thead th {\n",
       "        text-align: left;\n",
       "    }\n",
       "\n",
       "    .dataframe tbody tr th {\n",
       "        vertical-align: top;\n",
       "    }\n",
       "</style>\n",
       "<table border=\"1\" class=\"dataframe\">\n",
       "  <thead>\n",
       "    <tr style=\"text-align: right;\">\n",
       "      <th></th>\n",
       "      <th>canton</th>\n",
       "      <th>canton_json</th>\n",
       "      <th>females_rate</th>\n",
       "      <th>males_rate</th>\n",
       "      <th>total_rate</th>\n",
       "      <th>female_o_males</th>\n",
       "      <th>unemp_number</th>\n",
       "      <th>unemp_young</th>\n",
       "      <th>unemp_longterm</th>\n",
       "      <th>unemp_seeker_number</th>\n",
       "      <th>seeker</th>\n",
       "    </tr>\n",
       "  </thead>\n",
       "  <tbody>\n",
       "    <tr>\n",
       "      <th>0</th>\n",
       "      <td>Aargau</td>\n",
       "      <td>Aargau</td>\n",
       "      <td>3.0</td>\n",
       "      <td>2.9</td>\n",
       "      <td>2.9</td>\n",
       "      <td>1.034483</td>\n",
       "      <td>10684</td>\n",
       "      <td>1555</td>\n",
       "      <td>1698</td>\n",
       "      <td>15145</td>\n",
       "      <td>4461</td>\n",
       "    </tr>\n",
       "    <tr>\n",
       "      <th>1</th>\n",
       "      <td>Appenzell Ausserrhoden</td>\n",
       "      <td>Appenzell Ausserrhoden</td>\n",
       "      <td>1.8</td>\n",
       "      <td>1.7</td>\n",
       "      <td>1.7</td>\n",
       "      <td>1.058824</td>\n",
       "      <td>523</td>\n",
       "      <td>65</td>\n",
       "      <td>95</td>\n",
       "      <td>866</td>\n",
       "      <td>343</td>\n",
       "    </tr>\n",
       "    <tr>\n",
       "      <th>2</th>\n",
       "      <td>Appenzell Innerrhoden</td>\n",
       "      <td>Appenzell Innerrhoden</td>\n",
       "      <td>0.7</td>\n",
       "      <td>0.7</td>\n",
       "      <td>0.7</td>\n",
       "      <td>1.000000</td>\n",
       "      <td>62</td>\n",
       "      <td>16</td>\n",
       "      <td>9</td>\n",
       "      <td>102</td>\n",
       "      <td>40</td>\n",
       "    </tr>\n",
       "    <tr>\n",
       "      <th>3</th>\n",
       "      <td>Basel-Landschaft</td>\n",
       "      <td>Basel-Landschaft</td>\n",
       "      <td>2.6</td>\n",
       "      <td>2.9</td>\n",
       "      <td>2.8</td>\n",
       "      <td>0.896552</td>\n",
       "      <td>4082</td>\n",
       "      <td>524</td>\n",
       "      <td>651</td>\n",
       "      <td>5540</td>\n",
       "      <td>1458</td>\n",
       "    </tr>\n",
       "    <tr>\n",
       "      <th>4</th>\n",
       "      <td>Basel-Stadt</td>\n",
       "      <td>Basel-Stadt</td>\n",
       "      <td>3.2</td>\n",
       "      <td>3.7</td>\n",
       "      <td>3.5</td>\n",
       "      <td>0.864865</td>\n",
       "      <td>3455</td>\n",
       "      <td>408</td>\n",
       "      <td>606</td>\n",
       "      <td>5168</td>\n",
       "      <td>1713</td>\n",
       "    </tr>\n",
       "  </tbody>\n",
       "</table>\n",
       "</div>"
      ],
      "text/plain": [
       "                   canton             canton_json  females_rate  males_rate  \\\n",
       "0                  Aargau                  Aargau           3.0         2.9   \n",
       "1  Appenzell Ausserrhoden  Appenzell Ausserrhoden           1.8         1.7   \n",
       "2   Appenzell Innerrhoden   Appenzell Innerrhoden           0.7         0.7   \n",
       "3        Basel-Landschaft        Basel-Landschaft           2.6         2.9   \n",
       "4             Basel-Stadt             Basel-Stadt           3.2         3.7   \n",
       "\n",
       "   total_rate  female_o_males  unemp_number  unemp_young  unemp_longterm  \\\n",
       "0         2.9        1.034483         10684         1555            1698   \n",
       "1         1.7        1.058824           523           65              95   \n",
       "2         0.7        1.000000            62           16               9   \n",
       "3         2.8        0.896552          4082          524             651   \n",
       "4         3.5        0.864865          3455          408             606   \n",
       "\n",
       "   unemp_seeker_number  seeker  \n",
       "0                15145    4461  \n",
       "1                  866     343  \n",
       "2                  102      40  \n",
       "3                 5540    1458  \n",
       "4                 5168    1713  "
      ]
     },
     "execution_count": 26,
     "metadata": {},
     "output_type": "execute_result"
    }
   ],
   "source": [
    "ch_stat = ch_stat.merge(ch_stat_fact)\n",
    "ch_stat.head()"
   ]
  },
  {
   "cell_type": "markdown",
   "metadata": {},
   "source": [
    "To be able to compute the new rates we need to know the actual active population. Therefore according to the definition above `Active Population` = (100/`Total Rate`) * `Number of unemployed`. Now that we have the amount of active population we can estimate:\n",
    "\n",
    "* `unemp_rate_seeker` Unemployement rate considering all people that are looking for a job, e.i. all people registred to an ORP.\n",
    "* `unemp_rate_no_young` Unemployement rate but without considering young people (under 25).\n",
    "* `unemp_rate_longterm` Unemployement rate considering only people that are unemployed for more than a year.\n",
    "\n",
    "For display purpose we will plot the differences between these new fields and the official unemployement values. This will give us an estimation of the importance of each factor per canton."
   ]
  },
  {
   "cell_type": "code",
   "execution_count": 27,
   "metadata": {},
   "outputs": [
    {
     "data": {
      "text/html": [
       "<div>\n",
       "<style>\n",
       "    .dataframe thead tr:only-child th {\n",
       "        text-align: right;\n",
       "    }\n",
       "\n",
       "    .dataframe thead th {\n",
       "        text-align: left;\n",
       "    }\n",
       "\n",
       "    .dataframe tbody tr th {\n",
       "        vertical-align: top;\n",
       "    }\n",
       "</style>\n",
       "<table border=\"1\" class=\"dataframe\">\n",
       "  <thead>\n",
       "    <tr style=\"text-align: right;\">\n",
       "      <th></th>\n",
       "      <th>canton</th>\n",
       "      <th>canton_json</th>\n",
       "      <th>females_rate</th>\n",
       "      <th>males_rate</th>\n",
       "      <th>total_rate</th>\n",
       "      <th>female_o_males</th>\n",
       "      <th>unemp_number</th>\n",
       "      <th>unemp_young</th>\n",
       "      <th>unemp_longterm</th>\n",
       "      <th>unemp_seeker_number</th>\n",
       "      <th>seeker</th>\n",
       "      <th>canton_active_pop</th>\n",
       "      <th>unemp_rate_seeker</th>\n",
       "      <th>unemp_rate_no_young</th>\n",
       "      <th>unemp_rate_longterm</th>\n",
       "      <th>unemp_rate_seeker_diff</th>\n",
       "      <th>unemp_rate_no_young_diff</th>\n",
       "      <th>unemp_rate_longterm_diff</th>\n",
       "    </tr>\n",
       "  </thead>\n",
       "  <tbody>\n",
       "    <tr>\n",
       "      <th>0</th>\n",
       "      <td>Aargau</td>\n",
       "      <td>Aargau</td>\n",
       "      <td>3.0</td>\n",
       "      <td>2.9</td>\n",
       "      <td>2.9</td>\n",
       "      <td>1.034483</td>\n",
       "      <td>10684</td>\n",
       "      <td>1555</td>\n",
       "      <td>1698</td>\n",
       "      <td>15145</td>\n",
       "      <td>4461</td>\n",
       "      <td>368413.793103</td>\n",
       "      <td>4.110867</td>\n",
       "      <td>2.477920</td>\n",
       "      <td>0.460895</td>\n",
       "      <td>1.210867</td>\n",
       "      <td>-0.422080</td>\n",
       "      <td>-2.439105</td>\n",
       "    </tr>\n",
       "    <tr>\n",
       "      <th>1</th>\n",
       "      <td>Appenzell Ausserrhoden</td>\n",
       "      <td>Appenzell Ausserrhoden</td>\n",
       "      <td>1.8</td>\n",
       "      <td>1.7</td>\n",
       "      <td>1.7</td>\n",
       "      <td>1.058824</td>\n",
       "      <td>523</td>\n",
       "      <td>65</td>\n",
       "      <td>95</td>\n",
       "      <td>866</td>\n",
       "      <td>343</td>\n",
       "      <td>30764.705882</td>\n",
       "      <td>2.814914</td>\n",
       "      <td>1.488719</td>\n",
       "      <td>0.308795</td>\n",
       "      <td>1.114914</td>\n",
       "      <td>-0.211281</td>\n",
       "      <td>-1.391205</td>\n",
       "    </tr>\n",
       "    <tr>\n",
       "      <th>2</th>\n",
       "      <td>Appenzell Innerrhoden</td>\n",
       "      <td>Appenzell Innerrhoden</td>\n",
       "      <td>0.7</td>\n",
       "      <td>0.7</td>\n",
       "      <td>0.7</td>\n",
       "      <td>1.000000</td>\n",
       "      <td>62</td>\n",
       "      <td>16</td>\n",
       "      <td>9</td>\n",
       "      <td>102</td>\n",
       "      <td>40</td>\n",
       "      <td>8857.142857</td>\n",
       "      <td>1.151613</td>\n",
       "      <td>0.519355</td>\n",
       "      <td>0.101613</td>\n",
       "      <td>0.451613</td>\n",
       "      <td>-0.180645</td>\n",
       "      <td>-0.598387</td>\n",
       "    </tr>\n",
       "    <tr>\n",
       "      <th>3</th>\n",
       "      <td>Basel-Landschaft</td>\n",
       "      <td>Basel-Landschaft</td>\n",
       "      <td>2.6</td>\n",
       "      <td>2.9</td>\n",
       "      <td>2.8</td>\n",
       "      <td>0.896552</td>\n",
       "      <td>4082</td>\n",
       "      <td>524</td>\n",
       "      <td>651</td>\n",
       "      <td>5540</td>\n",
       "      <td>1458</td>\n",
       "      <td>145785.714286</td>\n",
       "      <td>3.800098</td>\n",
       "      <td>2.440568</td>\n",
       "      <td>0.446546</td>\n",
       "      <td>1.000098</td>\n",
       "      <td>-0.359432</td>\n",
       "      <td>-2.353454</td>\n",
       "    </tr>\n",
       "    <tr>\n",
       "      <th>4</th>\n",
       "      <td>Basel-Stadt</td>\n",
       "      <td>Basel-Stadt</td>\n",
       "      <td>3.2</td>\n",
       "      <td>3.7</td>\n",
       "      <td>3.5</td>\n",
       "      <td>0.864865</td>\n",
       "      <td>3455</td>\n",
       "      <td>408</td>\n",
       "      <td>606</td>\n",
       "      <td>5168</td>\n",
       "      <td>1713</td>\n",
       "      <td>98714.285714</td>\n",
       "      <td>5.235311</td>\n",
       "      <td>3.086686</td>\n",
       "      <td>0.613893</td>\n",
       "      <td>1.735311</td>\n",
       "      <td>-0.413314</td>\n",
       "      <td>-2.886107</td>\n",
       "    </tr>\n",
       "  </tbody>\n",
       "</table>\n",
       "</div>"
      ],
      "text/plain": [
       "                   canton             canton_json  females_rate  males_rate  \\\n",
       "0                  Aargau                  Aargau           3.0         2.9   \n",
       "1  Appenzell Ausserrhoden  Appenzell Ausserrhoden           1.8         1.7   \n",
       "2   Appenzell Innerrhoden   Appenzell Innerrhoden           0.7         0.7   \n",
       "3        Basel-Landschaft        Basel-Landschaft           2.6         2.9   \n",
       "4             Basel-Stadt             Basel-Stadt           3.2         3.7   \n",
       "\n",
       "   total_rate  female_o_males  unemp_number  unemp_young  unemp_longterm  \\\n",
       "0         2.9        1.034483         10684         1555            1698   \n",
       "1         1.7        1.058824           523           65              95   \n",
       "2         0.7        1.000000            62           16               9   \n",
       "3         2.8        0.896552          4082          524             651   \n",
       "4         3.5        0.864865          3455          408             606   \n",
       "\n",
       "   unemp_seeker_number  seeker  canton_active_pop  unemp_rate_seeker  \\\n",
       "0                15145    4461      368413.793103           4.110867   \n",
       "1                  866     343       30764.705882           2.814914   \n",
       "2                  102      40        8857.142857           1.151613   \n",
       "3                 5540    1458      145785.714286           3.800098   \n",
       "4                 5168    1713       98714.285714           5.235311   \n",
       "\n",
       "   unemp_rate_no_young  unemp_rate_longterm  unemp_rate_seeker_diff  \\\n",
       "0             2.477920             0.460895                1.210867   \n",
       "1             1.488719             0.308795                1.114914   \n",
       "2             0.519355             0.101613                0.451613   \n",
       "3             2.440568             0.446546                1.000098   \n",
       "4             3.086686             0.613893                1.735311   \n",
       "\n",
       "   unemp_rate_no_young_diff  unemp_rate_longterm_diff  \n",
       "0                 -0.422080                 -2.439105  \n",
       "1                 -0.211281                 -1.391205  \n",
       "2                 -0.180645                 -0.598387  \n",
       "3                 -0.359432                 -2.353454  \n",
       "4                 -0.413314                 -2.886107  "
      ]
     },
     "execution_count": 27,
     "metadata": {},
     "output_type": "execute_result"
    }
   ],
   "source": [
    "# Active population\n",
    "ch_stat['canton_active_pop'] =  (100/ch_stat.total_rate) * ch_stat.unemp_number\n",
    "\n",
    "# New ratio as explained above\n",
    "ch_stat['unemp_rate_seeker'] = 100*(ch_stat.unemp_seeker_number/ch_stat['canton_active_pop'])\n",
    "ch_stat['unemp_rate_no_young'] = 100*((ch_stat.unemp_number-ch_stat.unemp_young)/ch_stat['canton_active_pop'])\n",
    "ch_stat['unemp_rate_longterm'] = 100*((ch_stat.unemp_longterm)/ch_stat['canton_active_pop'])\n",
    "\n",
    "# Differences in between ratio and official data of unemployement (for vizualization purpose)\n",
    "ch_stat['unemp_rate_seeker_diff'] = ch_stat.unemp_rate_seeker - ch_stat.total_rate\n",
    "ch_stat['unemp_rate_no_young_diff'] = ch_stat.unemp_rate_no_young - ch_stat.total_rate\n",
    "ch_stat['unemp_rate_longterm_diff'] = ch_stat.unemp_rate_longterm - ch_stat.total_rate\n",
    "ch_stat.head()"
   ]
  },
  {
   "cell_type": "markdown",
   "metadata": {},
   "source": [
    "### 2.2.1 Job seekers\n",
    "\n",
    "If we take all job seekers we will get higher values for canton that have an larger amount of foreigner workers. This might be due to the fact that some cantons such as Jura, Ticino or Schaffusen have a larger amount of people coming from adjacent countries to work. This might explain the higher percentage of job seeker in those areas."
   ]
  },
  {
   "cell_type": "code",
   "execution_count": 28,
   "metadata": {},
   "outputs": [
    {
     "data": {
      "text/html": [
       "<iframe src=https://nbviewer.jupyter.org/github/AdaTeamElec/ADA2017-Homeworks/blob/master/03%20-%20Interactive%20Viz/maps/CH_unemployement_rate_job_seeker.html width=900 height=500></iframe>"
      ],
      "text/plain": [
       "<IPython.core.display.HTML object>"
      ]
     },
     "execution_count": 28,
     "metadata": {},
     "output_type": "execute_result"
    }
   ],
   "source": [
    "ch_map = plot_choropleth(ch_stat, ['canton_json', 'unemp_rate_seeker_diff'], json_data= data_topojson_ch,\n",
    "                          legend='Percentage unemployement for Total population')\n",
    "IPython.display.HTML(generate_file(ch_map, 'maps/CH_unemployement_rate_job_seeker.html'))"
   ]
  },
  {
   "cell_type": "markdown",
   "metadata": {},
   "source": [
    "### 2.2.2 Without young people\n",
    "\n",
    "Here we see that Neuchatel and Jura have the highest amount of unemployement for young people. This might be linked to the fact that this region of Switzerland is directly linked to the watch industry which is facing an economic crisis since a few years."
   ]
  },
  {
   "cell_type": "code",
   "execution_count": 29,
   "metadata": {},
   "outputs": [
    {
     "data": {
      "text/html": [
       "<iframe src=https://nbviewer.jupyter.org/github/AdaTeamElec/ADA2017-Homeworks/blob/master/03%20-%20Interactive%20Viz/maps/CH_unemployement_rate_no_young.html width=900 height=500></iframe>"
      ],
      "text/plain": [
       "<IPython.core.display.HTML object>"
      ]
     },
     "execution_count": 29,
     "metadata": {},
     "output_type": "execute_result"
    }
   ],
   "source": [
    "ch_map = plot_choropleth(ch_stat, ['canton_json', 'unemp_rate_no_young_diff'], json_data= data_topojson_ch,\n",
    "                          legend='Percentage unemployement for Total population', colors=['red', 'yellow', 'green'])\n",
    "IPython.display.HTML(generate_file(ch_map, 'maps/CH_unemployement_rate_no_young.html'))"
   ]
  },
  {
   "cell_type": "markdown",
   "metadata": {},
   "source": [
    "### 2.2.3 Long term Unemployement\n",
    "\n",
    "Same logic here. Since more people recently lost their job linked to the economic crisis (watchmaking sector) they are less likely to find a new job in this area and therefore more likely to stay longer in an unemployement situation.\n"
   ]
  },
  {
   "cell_type": "code",
   "execution_count": 30,
   "metadata": {},
   "outputs": [
    {
     "data": {
      "text/html": [
       "<iframe src=https://nbviewer.jupyter.org/github/AdaTeamElec/ADA2017-Homeworks/blob/master/03%20-%20Interactive%20Viz/maps/CH_unemployement_rate_longterm.html width=900 height=500></iframe>"
      ],
      "text/plain": [
       "<IPython.core.display.HTML object>"
      ]
     },
     "execution_count": 30,
     "metadata": {},
     "output_type": "execute_result"
    }
   ],
   "source": [
    "ch_map = plot_choropleth(ch_stat, ['canton_json', 'unemp_rate_longterm'], json_data= data_topojson_ch,\n",
    "                          legend='Percentage unemployement for Total population')\n",
    "IPython.display.HTML(generate_file(ch_map, 'maps/CH_unemployement_rate_longterm.html'))"
   ]
  },
  {
   "cell_type": "markdown",
   "metadata": {},
   "source": [
    "### 2.2.4 Overall\n",
    "\n",
    "We can display our results for the whole country for these different types of factors. As we can see, we indeed get the same unemployment rate (3%) as the one published on [Amstat](https://www.amstat.ch/v2/index.jsp?lang=fr) website. We can see that this huge difference with EU values (12%) is only due to different ways of computing the same value."
   ]
  },
  {
   "cell_type": "code",
   "execution_count": 31,
   "metadata": {},
   "outputs": [
    {
     "name": "stdout",
     "output_type": "stream",
     "text": [
      "3.0% : Unempl. rate\n",
      "4.3% : Unempl. rate with Job Seeker\n",
      "2.6% : Unempl. rate without Young people\n",
      "0.49% : Unempl. rate Long Term\n"
     ]
    }
   ],
   "source": [
    "swiss_unemp = 100*ch_stat.unemp_number.sum()/ch_stat.canton_active_pop.sum()\n",
    "swiss_unemp_seek = 100*ch_stat.unemp_seeker_number.sum()/ch_stat.canton_active_pop.sum()\n",
    "swiss_unemp_no_young = 100*(ch_stat.unemp_number.sum()-ch_stat.unemp_young.sum())/ch_stat.canton_active_pop.sum()\n",
    "swiss_unemp_longtem = 100*ch_stat.unemp_longterm.sum()/ch_stat.canton_active_pop.sum()\n",
    "\n",
    "print('{:.2}% : Unempl. rate'.format(swiss_unemp))\n",
    "print('{:.2}% : Unempl. rate with Job Seeker'.format(swiss_unemp_seek))\n",
    "print('{:.2}% : Unempl. rate without Young people'.format(swiss_unemp_no_young))\n",
    "print('{:.2}% : Unempl. rate Long Term'.format(swiss_unemp_longtem))"
   ]
  },
  {
   "cell_type": "markdown",
   "metadata": {},
   "source": [
    "## 2.3 Foreigners and Age classes\n",
    "\n",
    "### 2.3.1 Foreigners and Swiss rate\n",
    "\n",
    "There we will be comparing the unemployment rate for specific sets of population. This section focus on the differences between Swiss and foreigners.\n",
    "\n",
    "We retrieved an other dataset from amstat to have the number we are interested in and perform some data sorting and cleaning to make the new dataset match accordingly to the previous one."
   ]
  },
  {
   "cell_type": "code",
   "execution_count": 32,
   "metadata": {},
   "outputs": [
    {
     "data": {
      "text/html": [
       "<div>\n",
       "<style>\n",
       "    .dataframe thead tr:only-child th {\n",
       "        text-align: right;\n",
       "    }\n",
       "\n",
       "    .dataframe thead th {\n",
       "        text-align: left;\n",
       "    }\n",
       "\n",
       "    .dataframe tbody tr th {\n",
       "        vertical-align: top;\n",
       "    }\n",
       "</style>\n",
       "<table border=\"1\" class=\"dataframe\">\n",
       "  <thead>\n",
       "    <tr style=\"text-align: right;\">\n",
       "      <th></th>\n",
       "      <th>canton</th>\n",
       "      <th>nationality</th>\n",
       "      <th>rate</th>\n",
       "    </tr>\n",
       "  </thead>\n",
       "  <tbody>\n",
       "    <tr>\n",
       "      <th>0</th>\n",
       "      <td>Zürich</td>\n",
       "      <td>Ausländer</td>\n",
       "      <td>5.3</td>\n",
       "    </tr>\n",
       "    <tr>\n",
       "      <th>1</th>\n",
       "      <td>Zürich</td>\n",
       "      <td>Schweizer</td>\n",
       "      <td>2.5</td>\n",
       "    </tr>\n",
       "    <tr>\n",
       "      <th>2</th>\n",
       "      <td>Bern</td>\n",
       "      <td>Ausländer</td>\n",
       "      <td>5.5</td>\n",
       "    </tr>\n",
       "    <tr>\n",
       "      <th>3</th>\n",
       "      <td>Bern</td>\n",
       "      <td>Schweizer</td>\n",
       "      <td>1.8</td>\n",
       "    </tr>\n",
       "    <tr>\n",
       "      <th>4</th>\n",
       "      <td>Luzern</td>\n",
       "      <td>Ausländer</td>\n",
       "      <td>3.9</td>\n",
       "    </tr>\n",
       "  </tbody>\n",
       "</table>\n",
       "</div>"
      ],
      "text/plain": [
       "   canton nationality  rate\n",
       "0  Zürich   Ausländer   5.3\n",
       "1  Zürich   Schweizer   2.5\n",
       "2    Bern   Ausländer   5.5\n",
       "3    Bern   Schweizer   1.8\n",
       "4  Luzern   Ausländer   3.9"
      ]
     },
     "execution_count": 32,
     "metadata": {},
     "output_type": "execute_result"
    }
   ],
   "source": [
    "ch_stat_for = pd.read_excel(unemployement_nat_ch, skiprows=4, header=None, usecols=[0,1,3])\n",
    "ch_stat_for.columns = ['canton', 'nationality', 'rate']\n",
    "ch_stat_for.head()"
   ]
  },
  {
   "cell_type": "code",
   "execution_count": 33,
   "metadata": {},
   "outputs": [
    {
     "name": "stdout",
     "output_type": "stream",
     "text": [
      "Values in Cantons: ['Zürich' 'Bern' 'Luzern' 'Uri' 'Schwyz' 'Obwalden' 'Nidwalden' 'Glarus'\n",
      " 'Zug' 'Freiburg' 'Solothurn' 'Basel-Stadt' 'Basel-Landschaft'\n",
      " 'Schaffhausen' 'Appenzell Ausserrhoden' 'Appenzell Innerrhoden'\n",
      " 'St. Gallen' 'Graubünden' 'Aargau' 'Thurgau' 'Tessin' 'Waadt' 'Wallis'\n",
      " 'Neuenburg' 'Genf' 'Jura' 'Gesamt']\n",
      "\n",
      "Values in Nationality: ['Ausländer' 'Schweizer' nan]\n"
     ]
    }
   ],
   "source": [
    "print('Values in Cantons: {}'.format(ch_stat_for['canton'].unique()))\n",
    "print('\\nValues in Nationality: {}'.format(ch_stat_for['nationality'].unique()))"
   ]
  },
  {
   "cell_type": "code",
   "execution_count": 34,
   "metadata": {},
   "outputs": [
    {
     "data": {
      "text/html": [
       "<div>\n",
       "<style>\n",
       "    .dataframe thead tr:only-child th {\n",
       "        text-align: right;\n",
       "    }\n",
       "\n",
       "    .dataframe thead th {\n",
       "        text-align: left;\n",
       "    }\n",
       "\n",
       "    .dataframe tbody tr th {\n",
       "        vertical-align: top;\n",
       "    }\n",
       "</style>\n",
       "<table border=\"1\" class=\"dataframe\">\n",
       "  <thead>\n",
       "    <tr style=\"text-align: right;\">\n",
       "      <th>nationality</th>\n",
       "      <th>Foreigner</th>\n",
       "      <th>Swiss</th>\n",
       "      <th>canton_json</th>\n",
       "    </tr>\n",
       "    <tr>\n",
       "      <th>canton</th>\n",
       "      <th></th>\n",
       "      <th></th>\n",
       "      <th></th>\n",
       "    </tr>\n",
       "  </thead>\n",
       "  <tbody>\n",
       "    <tr>\n",
       "      <th>Aargau</th>\n",
       "      <td>5.6</td>\n",
       "      <td>2.1</td>\n",
       "      <td>Aargau</td>\n",
       "    </tr>\n",
       "    <tr>\n",
       "      <th>Appenzell Ausserrhoden</th>\n",
       "      <td>3.4</td>\n",
       "      <td>1.4</td>\n",
       "      <td>Appenzell Ausserrhoden</td>\n",
       "    </tr>\n",
       "    <tr>\n",
       "      <th>Appenzell Innerrhoden</th>\n",
       "      <td>2.0</td>\n",
       "      <td>0.5</td>\n",
       "      <td>Appenzell Innerrhoden</td>\n",
       "    </tr>\n",
       "    <tr>\n",
       "      <th>Basel-Landschaft</th>\n",
       "      <td>4.8</td>\n",
       "      <td>2.2</td>\n",
       "      <td>Basel-Landschaft</td>\n",
       "    </tr>\n",
       "    <tr>\n",
       "      <th>Basel-Stadt</th>\n",
       "      <td>4.6</td>\n",
       "      <td>2.8</td>\n",
       "      <td>Basel-Stadt</td>\n",
       "    </tr>\n",
       "  </tbody>\n",
       "</table>\n",
       "</div>"
      ],
      "text/plain": [
       "nationality             Foreigner  Swiss             canton_json\n",
       "canton                                                          \n",
       "Aargau                        5.6    2.1                  Aargau\n",
       "Appenzell Ausserrhoden        3.4    1.4  Appenzell Ausserrhoden\n",
       "Appenzell Innerrhoden         2.0    0.5   Appenzell Innerrhoden\n",
       "Basel-Landschaft              4.8    2.2        Basel-Landschaft\n",
       "Basel-Stadt                   4.6    2.8             Basel-Stadt"
      ]
     },
     "execution_count": 34,
     "metadata": {},
     "output_type": "execute_result"
    }
   ],
   "source": [
    "dict_nat = {'Ausländer': 'Foreigner', 'Schweizer': 'Swiss'}\n",
    "ch_stat_for.dropna(inplace=True)\n",
    "ch_stat_for['nationality'].replace(dict_nat, inplace=True)\n",
    "ch_stat_for = ch_stat_for.pivot(index='canton', columns='nationality', values='rate')\n",
    "ch_stat_for['canton_json'] = ch_stat_for.reset_index().canton.values\n",
    "ch_stat_for['canton_json'].replace(dict_cantons, inplace=True)\n",
    "ch_stat_for.head()"
   ]
  },
  {
   "cell_type": "markdown",
   "metadata": {},
   "source": [
    "Now that we have clean datas, we can compute the map. There we can see that the canton with the biggest difference in foreigner/Swiss unemployed is Jura. Once again, that could be linked to the watch industry being slow in the economical context. Surprinsingly, Geneva, which is know to be a very international canton has the lowest difference in employment between Swiss and foreigners."
   ]
  },
  {
   "cell_type": "code",
   "execution_count": 35,
   "metadata": {},
   "outputs": [
    {
     "data": {
      "text/html": [
       "<iframe src=https://nbviewer.jupyter.org/github/AdaTeamElec/ADA2017-Homeworks/blob/master/03%20-%20Interactive%20Viz/maps/CH_unemployement_rate_foreigner.html width=900 height=500></iframe>"
      ],
      "text/plain": [
       "<IPython.core.display.HTML object>"
      ]
     },
     "execution_count": 35,
     "metadata": {},
     "output_type": "execute_result"
    }
   ],
   "source": [
    "ch_stat_for['swiss_foreigner'] = ch_stat_for.Foreigner - ch_stat_for.Swiss\n",
    "ch_map = plot_choropleth(ch_stat_for, ['canton_json', 'swiss_foreigner'], json_data= data_topojson_ch,\n",
    "                          legend='Difference in employement rate between Foreigner and Swiss', \n",
    "                          colors=['green','yellow', 'orange','red', 'black'], id_scale=[0,0.25,0.5,0.75,1])\n",
    "IPython.display.HTML(generate_file(ch_map, 'maps/CH_unemployement_rate_foreigner.html'))"
   ]
  },
  {
   "cell_type": "markdown",
   "metadata": {},
   "source": [
    "### 2.3.2 Foreigners and Swiss rate - Age\n",
    "\n",
    "We now retrieve data containing information related to the age for Swiss or foreigners, in order to have a better understanding on the previous map.\n",
    "\n",
    "We need to perform some data cleaning as the amstat website is giving us a table with mostly german entries, and we want to have the same format of data as the previous dataframe.\n",
    "\n",
    "German stuff : dict_germ = {'Ausländer': 'Foreigner', 'Schweizer': 'Swiss', 'Gesamt': 'Total'}\n",
    "Tricky .... Berichte auf Monatsbasis () -> Arbeitslosen und Jugendarbeitslosenquote nach verschiedenen Kriterien"
   ]
  },
  {
   "cell_type": "code",
   "execution_count": 36,
   "metadata": {},
   "outputs": [
    {
     "data": {
      "text/html": [
       "<div>\n",
       "<style>\n",
       "    .dataframe thead tr:only-child th {\n",
       "        text-align: right;\n",
       "    }\n",
       "\n",
       "    .dataframe thead th {\n",
       "        text-align: left;\n",
       "    }\n",
       "\n",
       "    .dataframe tbody tr th {\n",
       "        vertical-align: top;\n",
       "    }\n",
       "</style>\n",
       "<table border=\"1\" class=\"dataframe\">\n",
       "  <thead>\n",
       "    <tr style=\"text-align: right;\">\n",
       "      <th></th>\n",
       "      <th>canton</th>\n",
       "      <th>age</th>\n",
       "      <th>nationality</th>\n",
       "      <th>rate</th>\n",
       "    </tr>\n",
       "  </thead>\n",
       "  <tbody>\n",
       "    <tr>\n",
       "      <th>0</th>\n",
       "      <td>Zürich</td>\n",
       "      <td>15-24 Jahre</td>\n",
       "      <td>Ausländer</td>\n",
       "      <td>5.8</td>\n",
       "    </tr>\n",
       "    <tr>\n",
       "      <th>1</th>\n",
       "      <td>Zürich</td>\n",
       "      <td>15-24 Jahre</td>\n",
       "      <td>Schweizer</td>\n",
       "      <td>3.2</td>\n",
       "    </tr>\n",
       "    <tr>\n",
       "      <th>2</th>\n",
       "      <td>Zürich</td>\n",
       "      <td>25-49 Jahre</td>\n",
       "      <td>Ausländer</td>\n",
       "      <td>5.1</td>\n",
       "    </tr>\n",
       "    <tr>\n",
       "      <th>3</th>\n",
       "      <td>Zürich</td>\n",
       "      <td>25-49 Jahre</td>\n",
       "      <td>Schweizer</td>\n",
       "      <td>2.5</td>\n",
       "    </tr>\n",
       "    <tr>\n",
       "      <th>4</th>\n",
       "      <td>Zürich</td>\n",
       "      <td>50 und mehr</td>\n",
       "      <td>Ausländer</td>\n",
       "      <td>5.8</td>\n",
       "    </tr>\n",
       "  </tbody>\n",
       "</table>\n",
       "</div>"
      ],
      "text/plain": [
       "   canton          age nationality  rate\n",
       "0  Zürich  15-24 Jahre   Ausländer   5.8\n",
       "1  Zürich  15-24 Jahre   Schweizer   3.2\n",
       "2  Zürich  25-49 Jahre   Ausländer   5.1\n",
       "3  Zürich  25-49 Jahre   Schweizer   2.5\n",
       "4  Zürich  50 und mehr   Ausländer   5.8"
      ]
     },
     "execution_count": 36,
     "metadata": {},
     "output_type": "execute_result"
    }
   ],
   "source": [
    "ch_stat_comp = pd.read_excel(unemployement_age_nat_ch, skiprows=4, header=None, usecols=[0,2,3,5], na_values='...')\n",
    "ch_stat_comp.columns = ['canton', 'age', 'nationality', 'rate']\n",
    "ch_stat_comp.head()"
   ]
  },
  {
   "cell_type": "markdown",
   "metadata": {},
   "source": [
    "We can now look at the range of each fields.\n",
    "* `canton` is expressed as quarter (year split in 4)\n",
    "* `nationality` is not a binary field and is composed of Males, Females and Total fields.\n",
    "* `age` is a single range : From 15 to 64 years, so we would discard it (not relevant)\n",
    "* `rate` is always equals to \"Total\", so not relevant and will be discarded"
   ]
  },
  {
   "cell_type": "code",
   "execution_count": 37,
   "metadata": {},
   "outputs": [
    {
     "name": "stdout",
     "output_type": "stream",
     "text": [
      "Values in Cantons: ['Zürich' 'Bern' 'Luzern' 'Uri' 'Schwyz' 'Obwalden' 'Nidwalden' 'Glarus'\n",
      " 'Zug' 'Freiburg' 'Solothurn' 'Basel-Stadt' 'Basel-Landschaft'\n",
      " 'Schaffhausen' 'Appenzell Ausserrhoden' 'Appenzell Innerrhoden'\n",
      " 'St. Gallen' 'Graubünden' 'Aargau' 'Thurgau' 'Tessin' 'Waadt' 'Wallis'\n",
      " 'Neuenburg' 'Genf' 'Jura']\n",
      "\n",
      "Values in Nationality: ['Ausländer' 'Schweizer']\n",
      "\n",
      "Values in Age: ['15-24 Jahre' '25-49 Jahre' '50 und mehr']\n"
     ]
    }
   ],
   "source": [
    "print('Values in Cantons: {}'.format(ch_stat_comp['canton'].unique()))\n",
    "print('\\nValues in Nationality: {}'.format(ch_stat_comp['nationality'].unique()))\n",
    "print('\\nValues in Age: {}'.format(ch_stat_comp['age'].unique()))"
   ]
  },
  {
   "cell_type": "code",
   "execution_count": 38,
   "metadata": {},
   "outputs": [
    {
     "data": {
      "text/html": [
       "<div>\n",
       "<style>\n",
       "    .dataframe thead tr:only-child th {\n",
       "        text-align: right;\n",
       "    }\n",
       "\n",
       "    .dataframe thead th {\n",
       "        text-align: left;\n",
       "    }\n",
       "\n",
       "    .dataframe tbody tr th {\n",
       "        vertical-align: top;\n",
       "    }\n",
       "</style>\n",
       "<table border=\"1\" class=\"dataframe\">\n",
       "  <thead>\n",
       "    <tr style=\"text-align: right;\">\n",
       "      <th></th>\n",
       "      <th>canton</th>\n",
       "      <th>age</th>\n",
       "      <th>nationality</th>\n",
       "      <th>rate</th>\n",
       "      <th>canton_json</th>\n",
       "    </tr>\n",
       "  </thead>\n",
       "  <tbody>\n",
       "    <tr>\n",
       "      <th>0</th>\n",
       "      <td>Zürich</td>\n",
       "      <td>15-24 years</td>\n",
       "      <td>Foreigner</td>\n",
       "      <td>5.8</td>\n",
       "      <td>Zürich</td>\n",
       "    </tr>\n",
       "    <tr>\n",
       "      <th>1</th>\n",
       "      <td>Zürich</td>\n",
       "      <td>15-24 years</td>\n",
       "      <td>Swiss</td>\n",
       "      <td>3.2</td>\n",
       "      <td>Zürich</td>\n",
       "    </tr>\n",
       "    <tr>\n",
       "      <th>2</th>\n",
       "      <td>Zürich</td>\n",
       "      <td>25-49 years</td>\n",
       "      <td>Foreigner</td>\n",
       "      <td>5.1</td>\n",
       "      <td>Zürich</td>\n",
       "    </tr>\n",
       "    <tr>\n",
       "      <th>3</th>\n",
       "      <td>Zürich</td>\n",
       "      <td>25-49 years</td>\n",
       "      <td>Swiss</td>\n",
       "      <td>2.5</td>\n",
       "      <td>Zürich</td>\n",
       "    </tr>\n",
       "    <tr>\n",
       "      <th>4</th>\n",
       "      <td>Zürich</td>\n",
       "      <td>50 and more</td>\n",
       "      <td>Foreigner</td>\n",
       "      <td>5.8</td>\n",
       "      <td>Zürich</td>\n",
       "    </tr>\n",
       "  </tbody>\n",
       "</table>\n",
       "</div>"
      ],
      "text/plain": [
       "   canton          age nationality  rate canton_json\n",
       "0  Zürich  15-24 years   Foreigner   5.8      Zürich\n",
       "1  Zürich  15-24 years       Swiss   3.2      Zürich\n",
       "2  Zürich  25-49 years   Foreigner   5.1      Zürich\n",
       "3  Zürich  25-49 years       Swiss   2.5      Zürich\n",
       "4  Zürich  50 and more   Foreigner   5.8      Zürich"
      ]
     },
     "execution_count": 38,
     "metadata": {},
     "output_type": "execute_result"
    }
   ],
   "source": [
    "ch_stat_comp['canton_json'] = ch_stat_comp.canton\n",
    "ch_stat_comp['canton_json'].replace(dict_cantons, inplace=True)\n",
    "ch_stat_comp['nationality'].replace(dict_nat, inplace=True)\n",
    "ch_stat_comp.age = ch_stat_comp.age.apply(lambda x: x.replace('Jahre', 'years').replace('und mehr', 'and more'))\n",
    "ch_stat_comp.head()"
   ]
  },
  {
   "cell_type": "markdown",
   "metadata": {},
   "source": [
    "The data is now clean. To have a better understanding on which age are the most likely to be unemployed, according to whether a person is Swiss or a foreigner, we plot for each age category in each canton the rate of unemployment for Swiss (in green) compared to the one of foreigners (in blue).\n",
    "\n",
    "From the plot, we can see that, for all age categories, foreigner unemployement is higher than Swiss unemployement in every cantons. Jura and Neuchatel are the one with the highest rate of foreigners unemployed, for age categories 25-49 and 49-64, which can correspond to the watch worker that have been laid done lately with the down of the watch industry."
   ]
  },
  {
   "cell_type": "code",
   "execution_count": 39,
   "metadata": {
    "scrolled": false
   },
   "outputs": [
    {
     "data": {
      "text/plain": [
       "<seaborn.axisgrid.FacetGrid at 0x10f9baf28>"
      ]
     },
     "execution_count": 39,
     "metadata": {},
     "output_type": "execute_result"
    },
    {
     "data": {
      "image/png": "[encoded data removed]",
      "text/plain": [
       "<matplotlib.figure.Figure at 0x10f9baef0>"
      ]
     },
     "metadata": {},
     "output_type": "display_data"
    }
   ],
   "source": [
    "sns.set(style=\"whitegrid\")\n",
    "g = sns.factorplot(x=\"canton\", y=\"rate\", hue=\"nationality\", row='age',\n",
    "                   data=ch_stat_comp.sort_values('canton'), size=6, kind=\"bar\", palette=\"muted\", aspect=2.5)\n",
    "g.set_xticklabels(rotation=30)"
   ]
  },
  {
   "cell_type": "markdown",
   "metadata": {},
   "source": [
    "## 2.4 [Röstigraben](https://fr.wikipedia.org/wiki/Röstigraben)\n"
   ]
  },
  {
   "cell_type": "markdown",
   "metadata": {},
   "source": [
    "Here we highlight the cultural differences between \"swiss-romand\", \"swiss-germans\" and \"swiss-italians\" by focusing on the majoritary spoken langage in a canton to compute unemployement rate in those specific region."
   ]
  },
  {
   "cell_type": "code",
   "execution_count": 40,
   "metadata": {
    "collapsed": true
   },
   "outputs": [],
   "source": [
    "ch_stat.set_index('canton', inplace=True)"
   ]
  },
  {
   "cell_type": "code",
   "execution_count": 41,
   "metadata": {},
   "outputs": [
    {
     "data": {
      "text/html": [
       "<div>\n",
       "<style>\n",
       "    .dataframe thead tr:only-child th {\n",
       "        text-align: right;\n",
       "    }\n",
       "\n",
       "    .dataframe thead th {\n",
       "        text-align: left;\n",
       "    }\n",
       "\n",
       "    .dataframe tbody tr th {\n",
       "        vertical-align: top;\n",
       "    }\n",
       "</style>\n",
       "<table border=\"1\" class=\"dataframe\">\n",
       "  <thead>\n",
       "    <tr style=\"text-align: right;\">\n",
       "      <th></th>\n",
       "      <th>unemp_number</th>\n",
       "      <th>canton_active_pop</th>\n",
       "      <th>language</th>\n",
       "    </tr>\n",
       "    <tr>\n",
       "      <th>canton</th>\n",
       "      <th></th>\n",
       "      <th></th>\n",
       "      <th></th>\n",
       "    </tr>\n",
       "  </thead>\n",
       "  <tbody>\n",
       "    <tr>\n",
       "      <th>Aargau</th>\n",
       "      <td>10684</td>\n",
       "      <td>368413.793103</td>\n",
       "      <td>German</td>\n",
       "    </tr>\n",
       "    <tr>\n",
       "      <th>Appenzell Ausserrhoden</th>\n",
       "      <td>523</td>\n",
       "      <td>30764.705882</td>\n",
       "      <td>German</td>\n",
       "    </tr>\n",
       "    <tr>\n",
       "      <th>Appenzell Innerrhoden</th>\n",
       "      <td>62</td>\n",
       "      <td>8857.142857</td>\n",
       "      <td>German</td>\n",
       "    </tr>\n",
       "    <tr>\n",
       "      <th>Basel-Landschaft</th>\n",
       "      <td>4082</td>\n",
       "      <td>145785.714286</td>\n",
       "      <td>German</td>\n",
       "    </tr>\n",
       "    <tr>\n",
       "      <th>Basel-Stadt</th>\n",
       "      <td>3455</td>\n",
       "      <td>98714.285714</td>\n",
       "      <td>German</td>\n",
       "    </tr>\n",
       "  </tbody>\n",
       "</table>\n",
       "</div>"
      ],
      "text/plain": [
       "                        unemp_number  canton_active_pop language\n",
       "canton                                                          \n",
       "Aargau                         10684      368413.793103   German\n",
       "Appenzell Ausserrhoden           523       30764.705882   German\n",
       "Appenzell Innerrhoden             62        8857.142857   German\n",
       "Basel-Landschaft                4082      145785.714286   German\n",
       "Basel-Stadt                     3455       98714.285714   German"
      ]
     },
     "execution_count": 41,
     "metadata": {},
     "output_type": "execute_result"
    }
   ],
   "source": [
    "canton_french =  ['Freiburg', 'Genf', 'Jura', 'Neuenburg', 'Waadt', 'Wallis']\n",
    "canton_italian =  ['Tessin']\n",
    "\n",
    "ch_stat['language'] = 'German'\n",
    "ch_stat.loc[canton_french, 'language'] = 'French'\n",
    "ch_stat.loc[canton_italian, 'language'] = 'Italian'\n",
    "\n",
    "ch_stat[['unemp_number', 'canton_active_pop', 'language']].head()"
   ]
  },
  {
   "cell_type": "code",
   "execution_count": 42,
   "metadata": {},
   "outputs": [
    {
     "name": "stdout",
     "output_type": "stream",
     "text": [
      "German speaking part: 2.56%\n",
      "French speaking part: 4.09%\n",
      "Italian speaking part: 3.10%\n"
     ]
    }
   ],
   "source": [
    "roestigraben = 100*ch_stat.groupby('language').unemp_number.sum()/ch_stat.groupby('language').canton_active_pop.sum()\n",
    "print('German speaking part: {:.2f}%\\nFrench speaking part: {:.2f}%\\nItalian speaking part: {:.2f}%'.format(\n",
    "    roestigraben['German'], roestigraben['French'], roestigraben['Italian']))"
   ]
  },
  {
   "cell_type": "markdown",
   "metadata": {},
   "source": [
    "From the unemployment rate printed above for each speaking region, we can indeed infer that there is a difference of culture based on the langage spoken within a canton. It looks like latin-language speakers are a bit less likely to work than their german-speaking fellow countrymem."
   ]
  }
 ],
 "metadata": {
  "kernelspec": {
   "display_name": "Python [default]",
   "language": "python",
   "name": "python3"
  },
  "language_info": {
   "codemirror_mode": {
    "name": "ipython",
    "version": 3
   },
   "file_extension": ".py",
   "mimetype": "text/x-python",
   "name": "python",
   "nbconvert_exporter": "python",
   "pygments_lexer": "ipython3",
   "version": "3.6.2"
  }
 },
 "nbformat": 4,
 "nbformat_minor": 2
}
