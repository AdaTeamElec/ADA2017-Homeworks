{
 "cells": [
  {
   "cell_type": "code",
   "execution_count": 1,
   "metadata": {},
   "outputs": [],
   "source": [
    "import os\n",
    "import pandas as pd\n",
    "import numpy as np\n",
    "import seaborn as sns\n",
    "import json\n",
    "import folium # Check description below if not already installed\n",
    "\n",
    "from datetime import date"
   ]
  },
  {
   "cell_type": "markdown",
   "metadata": {},
   "source": [
    "# 0. Description \n",
    "\n",
    "## Background\n",
    "In this homework we will be exploring interactive visualization, which is a key ingredient of many successful data visualizations (especially when it comes to infographics).\n",
    "\n",
    "Unemployment rates are major economic metrics and a matter of concern for governments around the world. Though its definition may seem straightforward at first glance (usually defined as the number of unemployed people divided by the active population), it can be tricky to define consistently. For example, one must define what exactly unemployed means : looking for a job ? Having declared their unemployment ? Currently without a job ? Should students or recent graduates be included ? We could also wonder what the active population is : everyone in an age category (e.g. `16-64`) ? Anyone interested by finding a job ? Though these questions may seem subtle, they can have a large impact on the interpretation of the results : `3%` unemployment doesn't mean much if we don't know who is included in this percentage. \n",
    "\n",
    "In this homework you will be dealing with two different datasets from the statistics offices of the European commission ([eurostat](http://ec.europa.eu/eurostat/data/database)) and the Swiss Confederation ([amstat](https://www.amstat.ch)). They provide a variety of datasets with plenty of information on many different statistics and demographics at their respective scales. Unfortunately, as is often the case is data analysis, these websites are not always straightforward to navigate. They may include a lot of obscure categories, not always be translated into your native language, have strange link structures, â€¦ Navigating this complexity is part of a data scientists' job : you will have to use a few tricks to get the right data for this homework.\n",
    "\n",
    "For the visualization part, install [Folium](https://github.com/python-visualization/folium) (*HINT*: it is not available in your standard Anaconda environment, therefore search on the Web how to install it easily!). Folium's `README` comes with very clear examples, and links to their own iPython Notebooks -- make good use of this information. For your own convenience, in this same directory you can already find two `.topojson` files, containing the geo-coordinates of \n",
    "\n",
    "- European countries (*liberal definition of EU*) (`topojson/europe.topojson.json`, [source](https://github.com/leakyMirror/map-of-europe))\n",
    "- Swiss cantons (`topojson/ch-cantons.topojson.json`) \n",
    "\n",
    "These will be used as an overlay on the Folium maps.\n",
    "\n",
    "## Assignment\n",
    "\n",
    "1. Go to the [eurostat](http://ec.europa.eu/eurostat/data/database) website and try to find a dataset that includes the european unemployment rates at a recent date.\n",
    "\n",
    "   Use this data to build a [Choropleth map](https://en.wikipedia.org/wiki/Choropleth_map) which shows the unemployment rate in Europe at a country level. Think about [the colors you use](https://carto.com/academy/courses/intermediate-design/choose-colors-1/), how you decided to [split the intervals into data classes](http://gisgeography.com/choropleth-maps-data-classification/) or which interactions you could add in order to make the visualization intuitive and expressive. Compare Switzerland's unemployment rate to that of the rest of Europe.\n",
    "\n",
    "2. Go to the [amstat](https://www.amstat.ch) website to find a dataset that includes the unemployment rates in Switzerland at a recent date.\n",
    "\n",
    "   > *HINT* Go to the `details` tab to find the raw data you need. If you do not speak French, German or Italian, think of using free translation services to navigate your way through. \n",
    "\n",
    "   Use this data to build another Choropleth map, this time showing the unemployment rate at the level of swiss cantons. Again, try to make the map as expressive as possible, and comment on the trends you observe.\n",
    "\n",
    "   The Swiss Confederation defines the rates you have just plotted as the number of people looking for a job divided by the size of the active population (scaled by 100). This is surely a valid choice, but as we discussed one could argue for a different categorization.\n",
    "\n",
    "   Copy the map you have just created, but this time don't count in your statistics people who already have a job and are looking for a new one. How do your observations change ? You can repeat this with different choices of categories to see how selecting different metrics can lead to different interpretations of the same data.\n",
    "\n",
    "3. Use the [amstat](https://www.amstat.ch) website again to find a dataset that includes the unemployment rates in Switzerland at recent date, this time making a distinction between *Swiss* and *foreign* workers.\n",
    "\n",
    "   The Economic Secretary (SECO) releases [a monthly report](https://www.seco.admin.ch/seco/fr/home/Arbeit/Arbeitslosenversicherung/arbeitslosenzahlen.html) on the state of the employment market. In the latest report (September 2017), it is noted that there is a discrepancy between the unemployment rates for *foreign* (`5.1%`) and *Swiss* (`2.2%`) workers. \n",
    "\n",
    "   Show the difference in unemployment rates between the two categories in each canton on a Choropleth map (*hint* The easy way is to show two separate maps, but can you think of something better ?). Where are the differences most visible ? Why do you think that is ?\n",
    "\n",
    "   Now let's refine the analysis by adding the differences between age groups. As you may have guessed it is nearly impossible to plot so many variables on a map. Make a bar plot, which is a better suited visualization tool for this type of multivariate data.\n",
    "\n",
    "4. *BONUS*: using the map you have just built, and the geographical information contained in it, could you give a *rough estimate* of the difference in unemployment rates between the areas divided by the [RÃ¶stigraben](https://en.wikipedia.org/wiki/R%C3%B6stigraben)?\n",
    "\n",
    "## Folium\n",
    "\n",
    "#### Installation\n",
    "\n",
    "We recommend using the latest version : `0.5.0`.\n",
    "\n",
    "`Folium` is a regular python package, which can be installed through several means :\n",
    "\n",
    "#### 1. Conda\n",
    "```\n",
    "conda install folium\n",
    "```\n",
    "\n",
    "#### 2. pip\n",
    "\n",
    "```\n",
    "pip install -U folium\n",
    "``` \n",
    "\n",
    "By default, the `pip` command is linked to the local `python` distribution on. To use with your notebook, make sure you use the pip bundled with `anaconda`. On mac for example, this is usually : \n",
    "```\n",
    "~/anaconda/bin/pip install -U folium\n",
    "```\n",
    "\n",
    "#### 3. Direct download\n",
    "\n",
    "The package is available [directly from pypi](https://pypi.python.org/pypi/folium)\n",
    "\n",
    "---"
   ]
  },
  {
   "cell_type": "markdown",
   "metadata": {
    "collapsed": true
   },
   "source": [
    "## 1. Eurostat\n",
    "\n",
    "We can find on the Eurostat website many interesting european statistics. For our project we are going to use this specific one: [Employment rates by sex, age and citizenship](http://appsso.eurostat.ec.europa.eu/nui/show.do?dataset=lfsq_ergan&lang=en). It gathers the unemployment rates of every european countries from 2015 first quarter to 2017 second quarter.\n",
    "We choose to download it into the .csv format and then import it into a Panda Dataframe for more data handling."
   ]
  },
  {
   "cell_type": "code",
   "execution_count": 251,
   "metadata": {},
   "outputs": [
    {
     "data": {
      "text/html": [
       "<div>\n",
       "<style>\n",
       "    .dataframe thead tr:only-child th {\n",
       "        text-align: right;\n",
       "    }\n",
       "\n",
       "    .dataframe thead th {\n",
       "        text-align: left;\n",
       "    }\n",
       "\n",
       "    .dataframe tbody tr th {\n",
       "        vertical-align: top;\n",
       "    }\n",
       "</style>\n",
       "<table border=\"1\" class=\"dataframe\">\n",
       "  <thead>\n",
       "    <tr style=\"text-align: right;\">\n",
       "      <th></th>\n",
       "      <th>TIME</th>\n",
       "      <th>GEO</th>\n",
       "      <th>SEX</th>\n",
       "      <th>AGE</th>\n",
       "      <th>CITIZEN</th>\n",
       "      <th>UNIT</th>\n",
       "      <th>Value</th>\n",
       "      <th>Flag and Footnotes</th>\n",
       "    </tr>\n",
       "  </thead>\n",
       "  <tbody>\n",
       "    <tr>\n",
       "      <th>0</th>\n",
       "      <td>2015Q1</td>\n",
       "      <td>European Union (28 countries)</td>\n",
       "      <td>Total</td>\n",
       "      <td>From 15 to 64 years</td>\n",
       "      <td>Total</td>\n",
       "      <td>Percentage</td>\n",
       "      <td>64.7</td>\n",
       "      <td>NaN</td>\n",
       "    </tr>\n",
       "    <tr>\n",
       "      <th>1</th>\n",
       "      <td>2015Q1</td>\n",
       "      <td>European Union (28 countries)</td>\n",
       "      <td>Males</td>\n",
       "      <td>From 15 to 64 years</td>\n",
       "      <td>Total</td>\n",
       "      <td>Percentage</td>\n",
       "      <td>69.8</td>\n",
       "      <td>NaN</td>\n",
       "    </tr>\n",
       "    <tr>\n",
       "      <th>2</th>\n",
       "      <td>2015Q1</td>\n",
       "      <td>European Union (28 countries)</td>\n",
       "      <td>Females</td>\n",
       "      <td>From 15 to 64 years</td>\n",
       "      <td>Total</td>\n",
       "      <td>Percentage</td>\n",
       "      <td>59.7</td>\n",
       "      <td>NaN</td>\n",
       "    </tr>\n",
       "    <tr>\n",
       "      <th>3</th>\n",
       "      <td>2015Q1</td>\n",
       "      <td>European Union (27 countries)</td>\n",
       "      <td>Total</td>\n",
       "      <td>From 15 to 64 years</td>\n",
       "      <td>Total</td>\n",
       "      <td>Percentage</td>\n",
       "      <td>64.8</td>\n",
       "      <td>NaN</td>\n",
       "    </tr>\n",
       "    <tr>\n",
       "      <th>4</th>\n",
       "      <td>2015Q1</td>\n",
       "      <td>European Union (27 countries)</td>\n",
       "      <td>Males</td>\n",
       "      <td>From 15 to 64 years</td>\n",
       "      <td>Total</td>\n",
       "      <td>Percentage</td>\n",
       "      <td>69.9</td>\n",
       "      <td>NaN</td>\n",
       "    </tr>\n",
       "    <tr>\n",
       "      <th>5</th>\n",
       "      <td>2015Q1</td>\n",
       "      <td>European Union (27 countries)</td>\n",
       "      <td>Females</td>\n",
       "      <td>From 15 to 64 years</td>\n",
       "      <td>Total</td>\n",
       "      <td>Percentage</td>\n",
       "      <td>59.8</td>\n",
       "      <td>NaN</td>\n",
       "    </tr>\n",
       "    <tr>\n",
       "      <th>6</th>\n",
       "      <td>2015Q1</td>\n",
       "      <td>European Union (15 countries)</td>\n",
       "      <td>Total</td>\n",
       "      <td>From 15 to 64 years</td>\n",
       "      <td>Total</td>\n",
       "      <td>Percentage</td>\n",
       "      <td>65.4</td>\n",
       "      <td>NaN</td>\n",
       "    </tr>\n",
       "    <tr>\n",
       "      <th>7</th>\n",
       "      <td>2015Q1</td>\n",
       "      <td>European Union (15 countries)</td>\n",
       "      <td>Males</td>\n",
       "      <td>From 15 to 64 years</td>\n",
       "      <td>Total</td>\n",
       "      <td>Percentage</td>\n",
       "      <td>70.3</td>\n",
       "      <td>NaN</td>\n",
       "    </tr>\n",
       "    <tr>\n",
       "      <th>8</th>\n",
       "      <td>2015Q1</td>\n",
       "      <td>European Union (15 countries)</td>\n",
       "      <td>Females</td>\n",
       "      <td>From 15 to 64 years</td>\n",
       "      <td>Total</td>\n",
       "      <td>Percentage</td>\n",
       "      <td>60.6</td>\n",
       "      <td>NaN</td>\n",
       "    </tr>\n",
       "    <tr>\n",
       "      <th>9</th>\n",
       "      <td>2015Q1</td>\n",
       "      <td>Euro area (19 countries)</td>\n",
       "      <td>Total</td>\n",
       "      <td>From 15 to 64 years</td>\n",
       "      <td>Total</td>\n",
       "      <td>Percentage</td>\n",
       "      <td>63.7</td>\n",
       "      <td>NaN</td>\n",
       "    </tr>\n",
       "  </tbody>\n",
       "</table>\n",
       "</div>"
      ],
      "text/plain": [
       "     TIME                            GEO      SEX                  AGE  \\\n",
       "0  2015Q1  European Union (28 countries)    Total  From 15 to 64 years   \n",
       "1  2015Q1  European Union (28 countries)    Males  From 15 to 64 years   \n",
       "2  2015Q1  European Union (28 countries)  Females  From 15 to 64 years   \n",
       "3  2015Q1  European Union (27 countries)    Total  From 15 to 64 years   \n",
       "4  2015Q1  European Union (27 countries)    Males  From 15 to 64 years   \n",
       "5  2015Q1  European Union (27 countries)  Females  From 15 to 64 years   \n",
       "6  2015Q1  European Union (15 countries)    Total  From 15 to 64 years   \n",
       "7  2015Q1  European Union (15 countries)    Males  From 15 to 64 years   \n",
       "8  2015Q1  European Union (15 countries)  Females  From 15 to 64 years   \n",
       "9  2015Q1       Euro area (19 countries)    Total  From 15 to 64 years   \n",
       "\n",
       "  CITIZEN        UNIT  Value Flag and Footnotes  \n",
       "0   Total  Percentage   64.7                NaN  \n",
       "1   Total  Percentage   69.8                NaN  \n",
       "2   Total  Percentage   59.7                NaN  \n",
       "3   Total  Percentage   64.8                NaN  \n",
       "4   Total  Percentage   69.9                NaN  \n",
       "5   Total  Percentage   59.8                NaN  \n",
       "6   Total  Percentage   65.4                NaN  \n",
       "7   Total  Percentage   70.3                NaN  \n",
       "8   Total  Percentage   60.6                NaN  \n",
       "9   Total  Percentage   63.7                NaN  "
      ]
     },
     "execution_count": 251,
     "metadata": {},
     "output_type": "execute_result"
    }
   ],
   "source": [
    "eurostat = pd.read_csv('data/eurostat.csv')\n",
    "eurostat.head(10)"
   ]
  },
  {
   "cell_type": "code",
   "execution_count": 252,
   "metadata": {},
   "outputs": [
    {
     "name": "stdout",
     "output_type": "stream",
     "text": [
      "Values in TIME: ['2015Q1' '2015Q2' '2015Q3' '2015Q4' '2016Q1' '2016Q2' '2016Q3' '2016Q4'\n",
      " '2017Q1' '2017Q2']\n",
      "Values in SEX: ['Total' 'Males' 'Females']\n",
      "Values in AGE: ['From 15 to 64 years']\n",
      "Values in CITIZEN: ['Total']\n",
      "Values in UNIT: ['Percentage']\n",
      "Values in Flag and Footnotes: [nan 'b']\n"
     ]
    }
   ],
   "source": [
    "print('Values in TIME: {}'.format(eurostat['TIME'].unique()))\n",
    "print('Values in SEX: {}'.format(eurostat['SEX'].unique()))\n",
    "print('Values in AGE: {}'.format(eurostat['AGE'].unique()))\n",
    "print('Values in CITIZEN: {}'.format(eurostat['CITIZEN'].unique()))\n",
    "print('Values in UNIT: {}'.format(eurostat['UNIT'].unique()))\n",
    "print('Values in Flag and Footnotes: {}'.format(eurostat['Flag and Footnotes'].unique()))"
   ]
  },
  {
   "cell_type": "code",
   "execution_count": 253,
   "metadata": {},
   "outputs": [
    {
     "name": "stdout",
     "output_type": "stream",
     "text": [
      "Values in GEO: ['European Union (28 countries)' 'European Union (27 countries)'\n",
      " 'European Union (15 countries)' 'Euro area (19 countries)'\n",
      " 'Euro area (18 countries)' 'Euro area (17 countries)' 'Belgium' 'Bulgaria'\n",
      " 'Czech Republic' 'Denmark'\n",
      " 'Germany (until 1990 former territory of the FRG)' 'Estonia' 'Ireland'\n",
      " 'Greece' 'Spain' 'France' 'Croatia' 'Italy' 'Cyprus' 'Latvia' 'Lithuania'\n",
      " 'Luxembourg' 'Hungary' 'Malta' 'Netherlands' 'Austria' 'Poland' 'Portugal'\n",
      " 'Romania' 'Slovenia' 'Slovakia' 'Finland' 'Sweden' 'United Kingdom'\n",
      " 'Iceland' 'Norway' 'Switzerland'\n",
      " 'Former Yugoslav Republic of Macedonia, the' 'Turkey']\n"
     ]
    }
   ],
   "source": [
    "print('Values in GEO: {}'.format(eurostat['GEO'].unique()))"
   ]
  },
  {
   "cell_type": "code",
   "execution_count": 254,
   "metadata": {},
   "outputs": [],
   "source": [
    "def convert_time(time):\n",
    "    quarter = int(time[time.find('Q')+1])\n",
    "    year = int(time[0:4])\n",
    "    return pd.Timestamp(date(year, quarter*3, 1) ) \n",
    "\n",
    "eurostat.drop(['AGE', 'CITIZEN', 'UNIT', 'Flag and Footnotes'], axis=1, inplace=True)\n",
    "eurostat.TIME = eurostat.TIME.apply(convert_time)\n",
    "eurostat = eurostat.loc[eurostat.TIME == eurostat.TIME.max()]"
   ]
  },
  {
   "cell_type": "code",
   "execution_count": 255,
   "metadata": {},
   "outputs": [
    {
     "data": {
      "text/plain": [
       "2017-06-01    117\n",
       "Name: TIME, dtype: int64"
      ]
     },
     "execution_count": 255,
     "metadata": {},
     "output_type": "execute_result"
    }
   ],
   "source": [
    "#Data Processing - Keep only useful column\n",
    "eurostat.TIME.value_counts()"
   ]
  },
  {
   "cell_type": "code",
   "execution_count": 256,
   "metadata": {},
   "outputs": [],
   "source": [
    "drop_geo = ['European Union (28 countries)', 'European Union (27 countries)',\n",
    "            'European Union (15 countries)', 'Euro area (19 countries)', \n",
    "            'Euro area (18 countries)', 'Euro area (17 countries)']\n",
    "\n",
    "eurostat = eurostat.loc[[name not in drop_geo for name in eurostat.GEO]]"
   ]
  },
  {
   "cell_type": "code",
   "execution_count": 257,
   "metadata": {},
   "outputs": [
    {
     "data": {
      "text/plain": [
       "array(['Belgium', 'Bulgaria', 'Czech Republic', 'Denmark',\n",
       "       'Germany (until 1990 former territory of the FRG)', 'Estonia',\n",
       "       'Ireland', 'Greece', 'Spain', 'France', 'Croatia', 'Italy',\n",
       "       'Cyprus', 'Latvia', 'Lithuania', 'Luxembourg', 'Hungary', 'Malta',\n",
       "       'Netherlands', 'Austria', 'Poland', 'Portugal', 'Romania',\n",
       "       'Slovenia', 'Slovakia', 'Finland', 'Sweden', 'United Kingdom',\n",
       "       'Iceland', 'Norway', 'Switzerland',\n",
       "       'Former Yugoslav Republic of Macedonia, the', 'Turkey'], dtype=object)"
      ]
     },
     "execution_count": 257,
     "metadata": {},
     "output_type": "execute_result"
    }
   ],
   "source": [
    "eurostat.GEO.unique()"
   ]
  },
  {
   "cell_type": "code",
   "execution_count": 258,
   "metadata": {},
   "outputs": [
    {
     "name": "stdout",
     "output_type": "stream",
     "text": [
      "Countries: ['Azerbaijan', 'Albania', 'Armenia', 'Bosnia and Herzegovina', 'Bulgaria', 'Cyprus', 'Denmark', 'Ireland', 'Estonia', 'Austria', 'Czech Republic', 'Finland', 'France', 'Georgia', 'Germany', 'Greece', 'Croatia', 'Hungary', 'Iceland', 'Israel', 'Italy', 'Latvia', 'Belarus', 'Lithuania', 'Slovakia', 'Liechtenstein', 'The former Yugoslav Republic of Macedonia', 'Malta', 'Belgium', 'Faroe Islands', 'Andorra', 'Luxembourg', 'Monaco', 'Montenegro', 'Netherlands', 'Norway', 'Poland', 'Portugal', 'Romania', 'Republic of Moldova', 'Slovenia', 'Spain', 'Sweden', 'Switzerland', 'Turkey', 'United Kingdom', 'Ukraine', 'San Marino', 'Serbia', 'Holy See (Vatican City)', 'Russia']\n"
     ]
    }
   ],
   "source": [
    "state_geo_path = 'topojson/europe.topojson.json'\n",
    "geo_json_data = json.load(open(state_geo_path))\n",
    "geo_countries = []\n",
    "for country in geo_json_data['objects']['europe']['geometries']:\n",
    "    geo_countries.append(country['properties']['NAME'])\n",
    "print('Countries: {}'.format(geo_countries))"
   ]
  },
  {
   "cell_type": "code",
   "execution_count": 259,
   "metadata": {},
   "outputs": [
    {
     "data": {
      "text/html": [
       "<div>\n",
       "<style>\n",
       "    .dataframe thead tr:only-child th {\n",
       "        text-align: right;\n",
       "    }\n",
       "\n",
       "    .dataframe thead th {\n",
       "        text-align: left;\n",
       "    }\n",
       "\n",
       "    .dataframe tbody tr th {\n",
       "        vertical-align: top;\n",
       "    }\n",
       "</style>\n",
       "<table border=\"1\" class=\"dataframe\">\n",
       "  <thead>\n",
       "    <tr style=\"text-align: right;\">\n",
       "      <th></th>\n",
       "      <th>TIME</th>\n",
       "      <th>GEO</th>\n",
       "      <th>SEX</th>\n",
       "      <th>Value</th>\n",
       "    </tr>\n",
       "  </thead>\n",
       "  <tbody>\n",
       "    <tr>\n",
       "      <th>1083</th>\n",
       "      <td>2017-06-01</td>\n",
       "      <td>Germany (until 1990 former territory of the FRG)</td>\n",
       "      <td>Total</td>\n",
       "      <td>74.8</td>\n",
       "    </tr>\n",
       "    <tr>\n",
       "      <th>1084</th>\n",
       "      <td>2017-06-01</td>\n",
       "      <td>Germany (until 1990 former territory of the FRG)</td>\n",
       "      <td>Males</td>\n",
       "      <td>78.6</td>\n",
       "    </tr>\n",
       "    <tr>\n",
       "      <th>1085</th>\n",
       "      <td>2017-06-01</td>\n",
       "      <td>Germany (until 1990 former territory of the FRG)</td>\n",
       "      <td>Females</td>\n",
       "      <td>71.0</td>\n",
       "    </tr>\n",
       "    <tr>\n",
       "      <th>1164</th>\n",
       "      <td>2017-06-01</td>\n",
       "      <td>Former Yugoslav Republic of Macedonia, the</td>\n",
       "      <td>Total</td>\n",
       "      <td>50.5</td>\n",
       "    </tr>\n",
       "    <tr>\n",
       "      <th>1165</th>\n",
       "      <td>2017-06-01</td>\n",
       "      <td>Former Yugoslav Republic of Macedonia, the</td>\n",
       "      <td>Males</td>\n",
       "      <td>60.4</td>\n",
       "    </tr>\n",
       "    <tr>\n",
       "      <th>1166</th>\n",
       "      <td>2017-06-01</td>\n",
       "      <td>Former Yugoslav Republic of Macedonia, the</td>\n",
       "      <td>Females</td>\n",
       "      <td>40.3</td>\n",
       "    </tr>\n",
       "  </tbody>\n",
       "</table>\n",
       "</div>"
      ],
      "text/plain": [
       "           TIME                                               GEO      SEX  \\\n",
       "1083 2017-06-01  Germany (until 1990 former territory of the FRG)    Total   \n",
       "1084 2017-06-01  Germany (until 1990 former territory of the FRG)    Males   \n",
       "1085 2017-06-01  Germany (until 1990 former territory of the FRG)  Females   \n",
       "1164 2017-06-01        Former Yugoslav Republic of Macedonia, the    Total   \n",
       "1165 2017-06-01        Former Yugoslav Republic of Macedonia, the    Males   \n",
       "1166 2017-06-01        Former Yugoslav Republic of Macedonia, the  Females   \n",
       "\n",
       "      Value  \n",
       "1083   74.8  \n",
       "1084   78.6  \n",
       "1085   71.0  \n",
       "1164   50.5  \n",
       "1165   60.4  \n",
       "1166   40.3  "
      ]
     },
     "execution_count": 259,
     "metadata": {},
     "output_type": "execute_result"
    }
   ],
   "source": [
    "eurostat.loc[ [country not in geo_countries for country in eurostat.reset_index().GEO] ]"
   ]
  },
  {
   "cell_type": "code",
   "execution_count": 261,
   "metadata": {},
   "outputs": [],
   "source": [
    "eurostat.GEO.replace(\n",
    "    {'Germany (until 1990 former territory of the FRG)': 'Germany',\n",
    "     'Former Yugoslav Republic of Macedonia, the': 'The former Yugoslav Republic of Macedonia'}, inplace=True)"
   ]
  },
  {
   "cell_type": "code",
   "execution_count": 262,
   "metadata": {},
   "outputs": [],
   "source": [
    "json_id_keep = [country['properties']['NAME'] in eurostat.GEO.values \n",
    "                for country in geo_json_data['objects']['europe']['geometries']]\n",
    "\n",
    "geo_json_data['objects']['europe']['geometries'] = np.array(geo_json_data['objects']['europe']['geometries'])[json_id_keep].tolist()"
   ]
  },
  {
   "cell_type": "code",
   "execution_count": 263,
   "metadata": {},
   "outputs": [
    {
     "data": {
      "text/html": [
       "<div>\n",
       "<style>\n",
       "    .dataframe thead tr:only-child th {\n",
       "        text-align: right;\n",
       "    }\n",
       "\n",
       "    .dataframe thead th {\n",
       "        text-align: left;\n",
       "    }\n",
       "\n",
       "    .dataframe tbody tr th {\n",
       "        vertical-align: top;\n",
       "    }\n",
       "</style>\n",
       "<table border=\"1\" class=\"dataframe\">\n",
       "  <thead>\n",
       "    <tr style=\"text-align: right;\">\n",
       "      <th></th>\n",
       "      <th>SEX</th>\n",
       "      <th>Females</th>\n",
       "      <th>Males</th>\n",
       "      <th>Total</th>\n",
       "    </tr>\n",
       "    <tr>\n",
       "      <th>GEO</th>\n",
       "      <th>TIME</th>\n",
       "      <th></th>\n",
       "      <th></th>\n",
       "      <th></th>\n",
       "    </tr>\n",
       "  </thead>\n",
       "  <tbody>\n",
       "    <tr>\n",
       "      <th>Austria</th>\n",
       "      <th>2017-06-01</th>\n",
       "      <td>31.9</td>\n",
       "      <td>23.8</td>\n",
       "      <td>27.8</td>\n",
       "    </tr>\n",
       "    <tr>\n",
       "      <th>Belgium</th>\n",
       "      <th>2017-06-01</th>\n",
       "      <td>41.6</td>\n",
       "      <td>32.9</td>\n",
       "      <td>37.2</td>\n",
       "    </tr>\n",
       "    <tr>\n",
       "      <th>Bulgaria</th>\n",
       "      <th>2017-06-01</th>\n",
       "      <td>36.1</td>\n",
       "      <td>29.5</td>\n",
       "      <td>32.8</td>\n",
       "    </tr>\n",
       "    <tr>\n",
       "      <th>Croatia</th>\n",
       "      <th>2017-06-01</th>\n",
       "      <td>46.3</td>\n",
       "      <td>35.3</td>\n",
       "      <td>40.8</td>\n",
       "    </tr>\n",
       "    <tr>\n",
       "      <th>Cyprus</th>\n",
       "      <th>2017-06-01</th>\n",
       "      <td>38.7</td>\n",
       "      <td>29.8</td>\n",
       "      <td>34.4</td>\n",
       "    </tr>\n",
       "  </tbody>\n",
       "</table>\n",
       "</div>"
      ],
      "text/plain": [
       "SEX                  Females  Males  Total\n",
       "GEO      TIME                             \n",
       "Austria  2017-06-01     31.9   23.8   27.8\n",
       "Belgium  2017-06-01     41.6   32.9   37.2\n",
       "Bulgaria 2017-06-01     36.1   29.5   32.8\n",
       "Croatia  2017-06-01     46.3   35.3   40.8\n",
       "Cyprus   2017-06-01     38.7   29.8   34.4"
      ]
     },
     "execution_count": 263,
     "metadata": {},
     "output_type": "execute_result"
    }
   ],
   "source": [
    "eurostat = eurostat.pivot_table(index=['GEO', 'TIME'], columns='SEX', values='Value')\n",
    "eurostat = 100-eurostat\n",
    "eurostat.head()"
   ]
  },
  {
   "cell_type": "code",
   "execution_count": 276,
   "metadata": {},
   "outputs": [
    {
     "ename": "ValueError",
     "evalue": "Please pass a valid color brewer code to fill_local. See docstring for valid codes.",
     "output_type": "error",
     "traceback": [
      "\u001b[0;31m---------------------------------------------------------------------------\u001b[0m",
      "\u001b[0;31mValueError\u001b[0m                                Traceback (most recent call last)",
      "\u001b[0;32m<ipython-input-276-6383f6b0189d>\u001b[0m in \u001b[0;36m<module>\u001b[0;34m()\u001b[0m\n\u001b[1;32m      7\u001b[0m                       \u001b[0mkey_on\u001b[0m\u001b[0;34m=\u001b[0m\u001b[0;34m'feature.properties.NAME'\u001b[0m\u001b[0;34m,\u001b[0m \u001b[0mtopojson\u001b[0m\u001b[0;34m=\u001b[0m\u001b[0;34m'objects.europe'\u001b[0m\u001b[0;34m,\u001b[0m\u001b[0;34m\u001b[0m\u001b[0m\n\u001b[1;32m      8\u001b[0m                       \u001b[0mfill_color\u001b[0m\u001b[0;34m=\u001b[0m\u001b[0mlinear\u001b[0m\u001b[0;34m,\u001b[0m \u001b[0mfill_opacity\u001b[0m\u001b[0;34m=\u001b[0m\u001b[0;36m0.7\u001b[0m\u001b[0;34m,\u001b[0m \u001b[0mline_opacity\u001b[0m\u001b[0;34m=\u001b[0m\u001b[0;36m0.2\u001b[0m\u001b[0;34m,\u001b[0m\u001b[0;34m\u001b[0m\u001b[0m\n\u001b[0;32m----> 9\u001b[0;31m                       legend_name='Percentage unemployement for Total poulation')\n\u001b[0m\u001b[1;32m     10\u001b[0m \u001b[0meurope_map\u001b[0m\u001b[0;34m\u001b[0m\u001b[0m\n",
      "\u001b[0;32m~/anaconda3/envs/ada/lib/python3.5/site-packages/folium/folium.py\u001b[0m in \u001b[0;36mchoropleth\u001b[0;34m(self, geo_data, data, columns, key_on, threshold_scale, fill_color, fill_opacity, line_color, line_weight, line_opacity, name, legend_name, topojson, reset, smooth_factor, highlight)\u001b[0m\n\u001b[1;32m    244\u001b[0m             \u001b[0;32mraise\u001b[0m \u001b[0mValueError\u001b[0m\u001b[0;34m\u001b[0m\u001b[0m\n\u001b[1;32m    245\u001b[0m         \u001b[0;32mif\u001b[0m \u001b[0mdata\u001b[0m \u001b[0;32mis\u001b[0m \u001b[0;32mnot\u001b[0m \u001b[0;32mNone\u001b[0m \u001b[0;32mand\u001b[0m \u001b[0;32mnot\u001b[0m \u001b[0mcolor_brewer\u001b[0m\u001b[0;34m(\u001b[0m\u001b[0mfill_color\u001b[0m\u001b[0;34m)\u001b[0m\u001b[0;34m:\u001b[0m\u001b[0;34m\u001b[0m\u001b[0m\n\u001b[0;32m--> 246\u001b[0;31m             raise ValueError('Please pass a valid color brewer code to '\n\u001b[0m\u001b[1;32m    247\u001b[0m                              'fill_local. See docstring for valid codes.')\n\u001b[1;32m    248\u001b[0m \u001b[0;34m\u001b[0m\u001b[0m\n",
      "\u001b[0;31mValueError\u001b[0m: Please pass a valid color brewer code to fill_local. See docstring for valid codes."
     ]
    }
   ],
   "source": [
    "europe_boundaries_path = os.path.join('topojson', 'europe.topojson.json')\n",
    "europe_coordinates = [52,24]\n",
    "europe_map = folium.Map(location = europe_coordinates, zoom_start = 3.5)\n",
    "\n",
    "linear = folium.LinearColormap(['green','yellow','red'], vmin=3., vmax=10.)\n",
    "\n",
    "europe_map.choropleth(geo_data=geo_json_data, data=eurostat.reset_index(),\n",
    "                      columns=['GEO', 'Total'],\n",
    "                      key_on='feature.properties.NAME', topojson='objects.europe',\n",
    "                      fill_color=linear, fill_opacity=0.7, line_opacity=0.2,\n",
    "                      legend_name='Percentage unemployement for Total poulation')\n",
    "europe_map"
   ]
  },
  {
   "cell_type": "code",
   "execution_count": null,
   "metadata": {},
   "outputs": [],
   "source": []
  }
 ],
 "metadata": {
  "kernelspec": {
   "display_name": "Python [default]",
   "language": "python",
   "name": "python3"
  },
  "language_info": {
   "codemirror_mode": {
    "name": "ipython",
    "version": 3
   },
   "file_extension": ".py",
   "mimetype": "text/x-python",
   "name": "python",
   "nbconvert_exporter": "python",
   "pygments_lexer": "ipython3",
   "version": "3.5.4"
  }
 },
 "nbformat": 4,
 "nbformat_minor": 2
}
