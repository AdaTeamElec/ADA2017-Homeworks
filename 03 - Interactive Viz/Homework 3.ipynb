{
 "cells": [
  {
   "cell_type": "code",
   "execution_count": 1,
   "metadata": {},
   "outputs": [
    {
     "name": "stdout",
     "output_type": "stream",
     "text": [
      "Populating the interactive namespace from numpy and matplotlib\n"
     ]
    }
   ],
   "source": [
    "import os\n",
    "import pandas as pd\n",
    "import numpy as np\n",
    "import seaborn as sns\n",
    "import json\n",
    "import matplotlib.pyplot as plt\n",
    "import seaborn as sns\n",
    "import folium \n",
    "from datetime import date\n",
    "\n",
    "%pylab inline\n",
    "sns.set_palette('hls', 2)\n",
    "sns.set_context(\"notebook\")\n",
    "\n",
    "# Folder to data/json files\n",
    "data_foleder = 'data'\n",
    "json_folder = 'topojson'\n",
    "# csv/xls files\n",
    "unemployement_eu = os.path.join(data_foleder, 'eurostat.csv')\n",
    "unemployement_ch = os.path.join(data_foleder, 'unemployement_rate_ch.xlsx')\n",
    "unemployement_sex_ch = os.path.join(data_foleder, 'unemployement_rate_sex_ch.xlsx')\n",
    "unemployement_factor_ch = os.path.join(data_foleder, 'unemployement_rate_factor_ch.xlsx')\n",
    "unemployement_nat_ch = os.path.join(data_foleder, 'unemployement_rate_nat_ch.xlsx')\n",
    "unemployement_age_nat_ch = os.path.join(data_foleder, 'unemployement_rate_age_nat_ch.xlsx')\n",
    "# topojson data\n",
    "topojson_ch = os.path.join(json_folder, 'ch-cantons.topojson.json')\n",
    "topojson_eu = os.path.join(json_folder, 'europe.topojson.json')\n",
    "\n",
    "# Per-defiened data for plotting maps\n",
    "eu_infos = {'lat_long': [54.5, 15.3], 'zoom': 3, 'key_on': 'NAME', 'topojson': 'objects.europe'}\n",
    "ch_infos = {'lat_long': [46.8, 8.2], 'zoom': 8, 'key_on': 'name', 'topojson': 'objects.cantons'}"
   ]
  },
  {
   "cell_type": "markdown",
   "metadata": {},
   "source": [
    "# 0. Description \n",
    "\n",
    "## Background\n",
    "In this homework we will be exploring interactive visualization, which is a key ingredient of many successful data visualizations (especially when it comes to infographics).\n",
    "\n",
    "Unemployment rates are major economic metrics and a matter of concern for governments around the world. Though its definition may seem straightforward at first glance (usually defined as the number of unemployed people divided by the active population), it can be tricky to define consistently. For example, one must define what exactly unemployed means : looking for a job ? Having declared their unemployment ? Currently without a job ? Should students or recent graduates be included ? We could also wonder what the active population is : everyone in an age category (e.g. `16-64`) ? Anyone interested by finding a job ? Though these questions may seem subtle, they can have a large impact on the interpretation of the results : `3%` unemployment doesn't mean much if we don't know who is included in this percentage. \n",
    "\n",
    "In this homework you will be dealing with two different datasets from the statistics offices of the European commission ([eurostat](http://ec.europa.eu/eurostat/data/database)) and the Swiss Confederation ([amstat](https://www.amstat.ch)). They provide a variety of datasets with plenty of information on many different statistics and demographics at their respective scales. Unfortunately, as is often the case is data analysis, these websites are not always straightforward to navigate. They may include a lot of obscure categories, not always be translated into your native language, have strange link structures, â€¦ Navigating this complexity is part of a data scientists' job : you will have to use a few tricks to get the right data for this homework.\n",
    "\n",
    "For the visualization part, install [Folium](https://github.com/python-visualization/folium) (*HINT*: it is not available in your standard Anaconda environment, therefore search on the Web how to install it easily!). Folium's `README` comes with very clear examples, and links to their own iPython Notebooks -- make good use of this information. For your own convenience, in this same directory you can already find two `.topojson` files, containing the geo-coordinates of \n",
    "\n",
    "- European countries (*liberal definition of EU*) (`topojson/europe.topojson.json`, [source](https://github.com/leakyMirror/map-of-europe))\n",
    "- Swiss cantons (`topojson/ch-cantons.topojson.json`) \n",
    "\n",
    "These will be used as an overlay on the Folium maps.\n",
    "\n",
    "## Assignment\n",
    "\n",
    "1. Go to the [eurostat](http://ec.europa.eu/eurostat/data/database) website and try to find a dataset that includes the european unemployment rates at a recent date.\n",
    "\n",
    "   Use this data to build a [Choropleth map](https://en.wikipedia.org/wiki/Choropleth_map) which shows the unemployment rate in Europe at a country level. Think about [the colors you use](https://carto.com/academy/courses/intermediate-design/choose-colors-1/), how you decided to [split the intervals into data classes](http://gisgeography.com/choropleth-maps-data-classification/) or which interactions you could add in order to make the visualization intuitive and expressive. Compare Switzerland's unemployment rate to that of the rest of Europe.\n",
    "\n",
    "2. Go to the [amstat](https://www.amstat.ch) website to find a dataset that includes the unemployment rates in Switzerland at a recent date.\n",
    "\n",
    "   > *HINT* Go to the `details` tab to find the raw data you need. If you do not speak French, German or Italian, think of using free translation services to navigate your way through. \n",
    "\n",
    "   Use this data to build another Choropleth map, this time showing the unemployment rate at the level of swiss cantons. Again, try to make the map as expressive as possible, and comment on the trends you observe.\n",
    "\n",
    "   The Swiss Confederation defines the rates you have just plotted as the number of people looking for a job divided by the size of the active population (scaled by 100). This is surely a valid choice, but as we discussed one could argue for a different categorization.\n",
    "\n",
    "   Copy the map you have just created, but this time don't count in your statistics people who already have a job and are looking for a new one. How do your observations change ? You can repeat this with different choices of categories to see how selecting different metrics can lead to different interpretations of the same data.\n",
    "\n",
    "3. Use the [amstat](https://www.amstat.ch) website again to find a dataset that includes the unemployment rates in Switzerland at recent date, this time making a distinction between *Swiss* and *foreign* workers.\n",
    "\n",
    "   The Economic Secretary (SECO) releases [a monthly report](https://www.seco.admin.ch/seco/fr/home/Arbeit/Arbeitslosenversicherung/arbeitslosenzahlen.html) on the state of the employment market. In the latest report (September 2017), it is noted that there is a discrepancy between the unemployment rates for *foreign* (`5.1%`) and *Swiss* (`2.2%`) workers. \n",
    "\n",
    "   Show the difference in unemployment rates between the two categories in each canton on a Choropleth map (*hint* The easy way is to show two separate maps, but can you think of something better ?). Where are the differences most visible ? Why do you think that is ?\n",
    "\n",
    "   Now let's refine the analysis by adding the differences between age groups. As you may have guessed it is nearly impossible to plot so many variables on a map. Make a bar plot, which is a better suited visualization tool for this type of multivariate data.\n",
    "\n",
    "4. *BONUS*: using the map you have just built, and the geographical information contained in it, could you give a *rough estimate* of the difference in unemployment rates between the areas divided by the [RÃ¶stigraben](https://en.wikipedia.org/wiki/R%C3%B6stigraben)?\n",
    "\n",
    "## Folium\n",
    "\n",
    "#### Installation\n",
    "\n",
    "We recommend using the latest version : `0.5.0`.\n",
    "\n",
    "`Folium` is a regular python package, which can be installed through several means :\n",
    "\n",
    "#### 1. Conda\n",
    "```\n",
    "conda install folium\n",
    "```\n",
    "\n",
    "#### 2. pip\n",
    "\n",
    "```\n",
    "pip install -U folium\n",
    "``` \n",
    "\n",
    "By default, the `pip` command is linked to the local `python` distribution on. To use with your notebook, make sure you use the pip bundled with `anaconda`. On mac for example, this is usually : \n",
    "```\n",
    "~/anaconda/bin/pip install -U folium\n",
    "```\n",
    "\n",
    "#### 3. Direct download\n",
    "\n",
    "The package is available [directly from pypi](https://pypi.python.org/pypi/folium)\n",
    "\n",
    "---"
   ]
  },
  {
   "cell_type": "code",
   "execution_count": 2,
   "metadata": {},
   "outputs": [],
   "source": [
    "def plot_choropletch(df, col_val, json_data, legend='', info=ch_infos, colors=['green','yellow','red'], id_scale=[0,0.5,1]):\n",
    "    # Create map and colormap\n",
    "    index_lin = (np.array(id_scale)*(df[col_val[1]].max()-df[col_val[1]].min()) )+ df[col_val[1]].min()\n",
    "    _map = folium.Map(location = info['lat_long'], zoom_start = info['zoom'], tiles='cartodbpositron')\n",
    "    linear = folium.LinearColormap(colors, vmin=df[col_val[1]].min(), vmax=df[col_val[1]].max(), index=index_lin)\n",
    "    linear.to_step(3)\n",
    "    # Define style function that return color as a function of the input value\n",
    "    def style_color(feature):\n",
    "        id_geo = df.reset_index()[col_val[0]] == feature['properties'][info['key_on']]\n",
    "        return {'fillColor': linear(\n",
    "                df.reset_index().loc[id_geo, col_val[1]].values ),\n",
    "                'color' : 'black', 'weight' : 1, 'dashArray' : '5, 5', 'fillOpacity': 0.5}   \n",
    "    # Add color overlay based on json data\n",
    "    folium.TopoJson(json_data,\n",
    "                    object_path = info['topojson'],\n",
    "                    style_function = style_color).add_to(_map)\n",
    "    # Add legend and caption\n",
    "    linear.caption = legend\n",
    "    _map.add_child(linear)\n",
    "    return _map"
   ]
  },
  {
   "cell_type": "markdown",
   "metadata": {
    "collapsed": true
   },
   "source": [
    "# 1. Eurostat\n",
    "\n",
    "We can find on the Eurostat website many interesting european statistics. For our project we are going to use this specific one: [Employment rates by sex, age and citizenship](http://appsso.eurostat.ec.europa.eu/nui/show.do?dataset=lfsq_ergan&lang=en). It gathers the unemployment rates of every european countries from 2015 first quarter to 2017 second quarter.\n",
    "We choose to download it into the .csv format and then import it into a Panda Dataframe for more data handling."
   ]
  },
  {
   "cell_type": "code",
   "execution_count": 3,
   "metadata": {},
   "outputs": [
    {
     "data": {
      "text/html": [
       "<div>\n",
       "<style>\n",
       "    .dataframe thead tr:only-child th {\n",
       "        text-align: right;\n",
       "    }\n",
       "\n",
       "    .dataframe thead th {\n",
       "        text-align: left;\n",
       "    }\n",
       "\n",
       "    .dataframe tbody tr th {\n",
       "        vertical-align: top;\n",
       "    }\n",
       "</style>\n",
       "<table border=\"1\" class=\"dataframe\">\n",
       "  <thead>\n",
       "    <tr style=\"text-align: right;\">\n",
       "      <th></th>\n",
       "      <th>TIME</th>\n",
       "      <th>GEO</th>\n",
       "      <th>SEX</th>\n",
       "      <th>AGE</th>\n",
       "      <th>CITIZEN</th>\n",
       "      <th>UNIT</th>\n",
       "      <th>Value</th>\n",
       "      <th>Flag and Footnotes</th>\n",
       "    </tr>\n",
       "  </thead>\n",
       "  <tbody>\n",
       "    <tr>\n",
       "      <th>0</th>\n",
       "      <td>2015Q1</td>\n",
       "      <td>European Union (28 countries)</td>\n",
       "      <td>Total</td>\n",
       "      <td>From 15 to 64 years</td>\n",
       "      <td>Total</td>\n",
       "      <td>Percentage</td>\n",
       "      <td>64.7</td>\n",
       "      <td>NaN</td>\n",
       "    </tr>\n",
       "    <tr>\n",
       "      <th>1</th>\n",
       "      <td>2015Q1</td>\n",
       "      <td>European Union (28 countries)</td>\n",
       "      <td>Males</td>\n",
       "      <td>From 15 to 64 years</td>\n",
       "      <td>Total</td>\n",
       "      <td>Percentage</td>\n",
       "      <td>69.8</td>\n",
       "      <td>NaN</td>\n",
       "    </tr>\n",
       "    <tr>\n",
       "      <th>2</th>\n",
       "      <td>2015Q1</td>\n",
       "      <td>European Union (28 countries)</td>\n",
       "      <td>Females</td>\n",
       "      <td>From 15 to 64 years</td>\n",
       "      <td>Total</td>\n",
       "      <td>Percentage</td>\n",
       "      <td>59.7</td>\n",
       "      <td>NaN</td>\n",
       "    </tr>\n",
       "    <tr>\n",
       "      <th>3</th>\n",
       "      <td>2015Q1</td>\n",
       "      <td>European Union (27 countries)</td>\n",
       "      <td>Total</td>\n",
       "      <td>From 15 to 64 years</td>\n",
       "      <td>Total</td>\n",
       "      <td>Percentage</td>\n",
       "      <td>64.8</td>\n",
       "      <td>NaN</td>\n",
       "    </tr>\n",
       "    <tr>\n",
       "      <th>4</th>\n",
       "      <td>2015Q1</td>\n",
       "      <td>European Union (27 countries)</td>\n",
       "      <td>Males</td>\n",
       "      <td>From 15 to 64 years</td>\n",
       "      <td>Total</td>\n",
       "      <td>Percentage</td>\n",
       "      <td>69.9</td>\n",
       "      <td>NaN</td>\n",
       "    </tr>\n",
       "  </tbody>\n",
       "</table>\n",
       "</div>"
      ],
      "text/plain": [
       "     TIME                            GEO      SEX                  AGE  \\\n",
       "0  2015Q1  European Union (28 countries)    Total  From 15 to 64 years   \n",
       "1  2015Q1  European Union (28 countries)    Males  From 15 to 64 years   \n",
       "2  2015Q1  European Union (28 countries)  Females  From 15 to 64 years   \n",
       "3  2015Q1  European Union (27 countries)    Total  From 15 to 64 years   \n",
       "4  2015Q1  European Union (27 countries)    Males  From 15 to 64 years   \n",
       "\n",
       "  CITIZEN        UNIT  Value Flag and Footnotes  \n",
       "0   Total  Percentage   64.7                NaN  \n",
       "1   Total  Percentage   69.8                NaN  \n",
       "2   Total  Percentage   59.7                NaN  \n",
       "3   Total  Percentage   64.8                NaN  \n",
       "4   Total  Percentage   69.9                NaN  "
      ]
     },
     "execution_count": 3,
     "metadata": {},
     "output_type": "execute_result"
    }
   ],
   "source": [
    "eurostat = pd.read_csv(unemployement_eu)\n",
    "eurostat.head(5)"
   ]
  },
  {
   "cell_type": "markdown",
   "metadata": {},
   "source": [
    "We can now look at the range of each fields.\n",
    "* `TIME` is expressed as quarter (year split in 4)\n",
    "* `SEX` is not a binary field and is composed of Males, Females and Total fields.\n",
    "* `AGE` is a single range : From 15 to 64 years, so we would discard it (not relevant)\n",
    "* `CITIZEN` is always equals to \"Total\", so not relevant and will be discarded\n",
    "* `UNIT` is just the unit of `Value` column\n",
    "* `Value` is the emplyement rate for each country. Goes from 28.9 to 91.4 (huge gap!).\n",
    "* `Flag and Footbotes`: is also an non-relevant field and will be discarded"
   ]
  },
  {
   "cell_type": "code",
   "execution_count": 4,
   "metadata": {},
   "outputs": [
    {
     "name": "stdout",
     "output_type": "stream",
     "text": [
      "Values in TIME: ['2015Q1' '2015Q2' '2015Q3' '2015Q4' '2016Q1' '2016Q2' '2016Q3' '2016Q4'\n",
      " '2017Q1' '2017Q2']\n",
      "Values in SEX: ['Total' 'Males' 'Females']\n",
      "Values in AGE: ['From 15 to 64 years']\n",
      "Values in CITIZEN: ['Total']\n",
      "Values in UNIT: ['Percentage']\n",
      "Values in Value: 28.9 to 91.4\n",
      "Values in Flag and Footnotes: [nan 'b']\n"
     ]
    }
   ],
   "source": [
    "print('Values in TIME: {}'.format(eurostat['TIME'].unique()))\n",
    "print('Values in SEX: {}'.format(eurostat['SEX'].unique()))\n",
    "print('Values in AGE: {}'.format(eurostat['AGE'].unique()))\n",
    "print('Values in CITIZEN: {}'.format(eurostat['CITIZEN'].unique()))\n",
    "print('Values in UNIT: {}'.format(eurostat['UNIT'].unique()))\n",
    "print('Values in Value: {} to {}'.format(eurostat['Value'].min(), eurostat['Value'].max()))\n",
    "print('Values in Flag and Footnotes: {}'.format(eurostat['Flag and Footnotes'].unique()))"
   ]
  },
  {
   "cell_type": "markdown",
   "metadata": {},
   "source": [
    "* `GEO` is composed of the names of the countries and some overall stats of EU. We can discard the general values since we are only interested in country-wise values. We also note that Gernamy has a really formal name as \"Germany (until 1990 former territory of the FRG)\""
   ]
  },
  {
   "cell_type": "code",
   "execution_count": 5,
   "metadata": {},
   "outputs": [
    {
     "name": "stdout",
     "output_type": "stream",
     "text": [
      "Values in GEO: ['European Union (28 countries)' 'European Union (27 countries)'\n",
      " 'European Union (15 countries)' 'Euro area (19 countries)'\n",
      " 'Euro area (18 countries)' 'Euro area (17 countries)' 'Belgium' 'Bulgaria'\n",
      " 'Czech Republic' 'Denmark'\n",
      " 'Germany (until 1990 former territory of the FRG)' 'Estonia' 'Ireland'\n",
      " 'Greece' 'Spain' 'France' 'Croatia' 'Italy' 'Cyprus' 'Latvia' 'Lithuania'\n",
      " 'Luxembourg' 'Hungary' 'Malta' 'Netherlands' 'Austria' 'Poland' 'Portugal'\n",
      " 'Romania' 'Slovenia' 'Slovakia' 'Finland' 'Sweden' 'United Kingdom'\n",
      " 'Iceland' 'Norway' 'Switzerland'\n",
      " 'Former Yugoslav Republic of Macedonia, the' 'Turkey']\n"
     ]
    }
   ],
   "source": [
    "print('Values in GEO: {}'.format(eurostat['GEO'].unique()))"
   ]
  },
  {
   "cell_type": "markdown",
   "metadata": {},
   "source": [
    "We can convert `TIME` to actual timestamp. For example 2016Q2 ends in 2016 + 6 months aka, June 2016. Aso we remove non-relevant fields such as `AGE`, `CITIZEN`, `UNIT`, `Flag and Footnotes`. The we take only the lastest entries, i.e 2017Q2."
   ]
  },
  {
   "cell_type": "code",
   "execution_count": 6,
   "metadata": {},
   "outputs": [],
   "source": [
    "def convert_time(time):\n",
    "    quarter = int(time[time.find('Q')+1])\n",
    "    year = int(time[0:4])\n",
    "    return pd.Timestamp(date(year, quarter*3, 1) ) \n",
    "\n",
    "eurostat.drop(['AGE', 'CITIZEN', 'UNIT', 'Flag and Footnotes'], axis=1, inplace=True)\n",
    "eurostat.TIME = eurostat.TIME.apply(convert_time)\n",
    "eurostat = eurostat.loc[eurostat.TIME == eurostat.TIME.max()]"
   ]
  },
  {
   "cell_type": "markdown",
   "metadata": {},
   "source": [
    "As expected 2017Q2 is the latest entry and correpond to June 2017."
   ]
  },
  {
   "cell_type": "code",
   "execution_count": 7,
   "metadata": {},
   "outputs": [
    {
     "data": {
      "text/plain": [
       "2017-06-01    117\n",
       "Name: TIME, dtype: int64"
      ]
     },
     "execution_count": 7,
     "metadata": {},
     "output_type": "execute_result"
    }
   ],
   "source": [
    "eurostat.TIME.value_counts()"
   ]
  },
  {
   "cell_type": "markdown",
   "metadata": {},
   "source": [
    "We remove as well European Total fiels fields that we do not need for plotting."
   ]
  },
  {
   "cell_type": "code",
   "execution_count": 8,
   "metadata": {},
   "outputs": [],
   "source": [
    "drop_geo = ['European Union (28 countries)', 'European Union (27 countries)',\n",
    "            'European Union (15 countries)', 'Euro area (19 countries)', \n",
    "            'Euro area (18 countries)', 'Euro area (17 countries)']\n",
    "\n",
    "eurostat = eurostat.loc[[name not in drop_geo for name in eurostat.GEO]]"
   ]
  },
  {
   "cell_type": "markdown",
   "metadata": {},
   "source": [
    "Now that our dataframe is clean we need to be sur that country as correctly matched with TOPOJSON data. To do so We will print country for both (as a visual purpose) and then look for missig matches.\n",
    "\n",
    "We can notice that we do not have data for all countries. For example we have no data for Azerbaijan which makes actually sense since Azerbaijan is not part of EU (according to political point of view). "
   ]
  },
  {
   "cell_type": "code",
   "execution_count": 9,
   "metadata": {},
   "outputs": [
    {
     "name": "stdout",
     "output_type": "stream",
     "text": [
      "Countries Eurostat:\n",
      "['Belgium' 'Bulgaria' 'Czech Republic' 'Denmark'\n",
      " 'Germany (until 1990 former territory of the FRG)' 'Estonia' 'Ireland'\n",
      " 'Greece' 'Spain' 'France' 'Croatia' 'Italy' 'Cyprus' 'Latvia' 'Lithuania'\n",
      " 'Luxembourg' 'Hungary' 'Malta' 'Netherlands' 'Austria' 'Poland' 'Portugal'\n",
      " 'Romania' 'Slovenia' 'Slovakia' 'Finland' 'Sweden' 'United Kingdom'\n",
      " 'Iceland' 'Norway' 'Switzerland'\n",
      " 'Former Yugoslav Republic of Macedonia, the' 'Turkey']\n"
     ]
    }
   ],
   "source": [
    "print('Countries Eurostat:\\n{}'.format(eurostat.GEO.unique()))"
   ]
  },
  {
   "cell_type": "code",
   "execution_count": 10,
   "metadata": {},
   "outputs": [
    {
     "name": "stdout",
     "output_type": "stream",
     "text": [
      "Countries JSON EU:\n",
      "['Azerbaijan', 'Albania', 'Armenia', 'Bosnia and Herzegovina', 'Bulgaria', 'Cyprus', 'Denmark', 'Ireland', 'Estonia', 'Austria', 'Czech Republic', 'Finland', 'France', 'Georgia', 'Germany', 'Greece', 'Croatia', 'Hungary', 'Iceland', 'Israel', 'Italy', 'Latvia', 'Belarus', 'Lithuania', 'Slovakia', 'Liechtenstein', 'The former Yugoslav Republic of Macedonia', 'Malta', 'Belgium', 'Faroe Islands', 'Andorra', 'Luxembourg', 'Monaco', 'Montenegro', 'Netherlands', 'Norway', 'Poland', 'Portugal', 'Romania', 'Republic of Moldova', 'Slovenia', 'Spain', 'Sweden', 'Switzerland', 'Turkey', 'United Kingdom', 'Ukraine', 'San Marino', 'Serbia', 'Holy See (Vatican City)', 'Russia']\n"
     ]
    }
   ],
   "source": [
    "data_topojson_eu = json.load(open(topojson_eu))\n",
    "geo_eu_countries = []\n",
    "for country in data_topojson_eu['objects']['europe']['geometries']:\n",
    "    geo_eu_countries.append(country['properties']['NAME'])\n",
    "print('Countries JSON EU:\\n{}'.format(geo_eu_countries))"
   ]
  },
  {
   "cell_type": "markdown",
   "metadata": {},
   "source": [
    "We can see that two country in our data are not located in JSON file. `Germany` is `Germany (until 1990 former territory of the FRG)` and `The former Yugoslav Republic of Macedonia` is `Former Yugoslav Republic of Macedonia, the` in eurostat data."
   ]
  },
  {
   "cell_type": "code",
   "execution_count": 11,
   "metadata": {},
   "outputs": [
    {
     "data": {
      "text/plain": [
       "array(['Germany (until 1990 former territory of the FRG)',\n",
       "       'Former Yugoslav Republic of Macedonia, the'], dtype=object)"
      ]
     },
     "execution_count": 11,
     "metadata": {},
     "output_type": "execute_result"
    }
   ],
   "source": [
    "eurostat.loc[ [country not in geo_eu_countries for country in eurostat.reset_index().GEO], 'GEO' ].unique()"
   ]
  },
  {
   "cell_type": "markdown",
   "metadata": {},
   "source": [
    "We can directly replace thoses countries name in our dataset so both data will match."
   ]
  },
  {
   "cell_type": "code",
   "execution_count": 12,
   "metadata": {},
   "outputs": [],
   "source": [
    "eurostat.GEO.replace(\n",
    "    {'Germany (until 1990 former territory of the FRG)': 'Germany',\n",
    "     'Former Yugoslav Republic of Macedonia, the': 'The former Yugoslav Republic of Macedonia'}, inplace=True)"
   ]
  },
  {
   "cell_type": "markdown",
   "metadata": {},
   "source": [
    "Note that we need as well to discard countries in our TOPOJSON to avoid confusion in ploting results. We will therefore only keep countries that are matching in **both** data (eurostat and topojson). "
   ]
  },
  {
   "cell_type": "code",
   "execution_count": 13,
   "metadata": {},
   "outputs": [],
   "source": [
    "json_id_keep = [country['properties']['NAME'] in eurostat.GEO.values \n",
    "                for country in data_topojson_eu['objects']['europe']['geometries']]\n",
    "data_topojson_eu['objects']['europe']['geometries'] = np.array(data_topojson_eu['objects']['europe']['geometries'])[json_id_keep].tolist()"
   ]
  },
  {
   "cell_type": "markdown",
   "metadata": {},
   "source": [
    "We can reorganize our dataframe so Males, Females and Total fileds will be presented as unique columns. This will allow us to easily compute differences in quantities. Note that we also change our data to unemployment as $\\text{uemployement} = 100-\\text{employement}$ if both fiels are expressed as a percentage."
   ]
  },
  {
   "cell_type": "code",
   "execution_count": 14,
   "metadata": {},
   "outputs": [
    {
     "data": {
      "text/html": [
       "<div>\n",
       "<style>\n",
       "    .dataframe thead tr:only-child th {\n",
       "        text-align: right;\n",
       "    }\n",
       "\n",
       "    .dataframe thead th {\n",
       "        text-align: left;\n",
       "    }\n",
       "\n",
       "    .dataframe tbody tr th {\n",
       "        vertical-align: top;\n",
       "    }\n",
       "</style>\n",
       "<table border=\"1\" class=\"dataframe\">\n",
       "  <thead>\n",
       "    <tr style=\"text-align: right;\">\n",
       "      <th></th>\n",
       "      <th>SEX</th>\n",
       "      <th>Females</th>\n",
       "      <th>Males</th>\n",
       "      <th>Total</th>\n",
       "      <th>Females_o_Males</th>\n",
       "    </tr>\n",
       "    <tr>\n",
       "      <th>GEO</th>\n",
       "      <th>TIME</th>\n",
       "      <th></th>\n",
       "      <th></th>\n",
       "      <th></th>\n",
       "      <th></th>\n",
       "    </tr>\n",
       "  </thead>\n",
       "  <tbody>\n",
       "    <tr>\n",
       "      <th>Austria</th>\n",
       "      <th>2017-06-01</th>\n",
       "      <td>31.9</td>\n",
       "      <td>23.8</td>\n",
       "      <td>27.8</td>\n",
       "      <td>1.340336</td>\n",
       "    </tr>\n",
       "    <tr>\n",
       "      <th>Belgium</th>\n",
       "      <th>2017-06-01</th>\n",
       "      <td>41.6</td>\n",
       "      <td>32.9</td>\n",
       "      <td>37.2</td>\n",
       "      <td>1.264438</td>\n",
       "    </tr>\n",
       "    <tr>\n",
       "      <th>Bulgaria</th>\n",
       "      <th>2017-06-01</th>\n",
       "      <td>36.1</td>\n",
       "      <td>29.5</td>\n",
       "      <td>32.8</td>\n",
       "      <td>1.223729</td>\n",
       "    </tr>\n",
       "    <tr>\n",
       "      <th>Croatia</th>\n",
       "      <th>2017-06-01</th>\n",
       "      <td>46.3</td>\n",
       "      <td>35.3</td>\n",
       "      <td>40.8</td>\n",
       "      <td>1.311615</td>\n",
       "    </tr>\n",
       "    <tr>\n",
       "      <th>Cyprus</th>\n",
       "      <th>2017-06-01</th>\n",
       "      <td>38.7</td>\n",
       "      <td>29.8</td>\n",
       "      <td>34.4</td>\n",
       "      <td>1.298658</td>\n",
       "    </tr>\n",
       "  </tbody>\n",
       "</table>\n",
       "</div>"
      ],
      "text/plain": [
       "SEX                  Females  Males  Total  Females_o_Males\n",
       "GEO      TIME                                              \n",
       "Austria  2017-06-01     31.9   23.8   27.8         1.340336\n",
       "Belgium  2017-06-01     41.6   32.9   37.2         1.264438\n",
       "Bulgaria 2017-06-01     36.1   29.5   32.8         1.223729\n",
       "Croatia  2017-06-01     46.3   35.3   40.8         1.311615\n",
       "Cyprus   2017-06-01     38.7   29.8   34.4         1.298658"
      ]
     },
     "execution_count": 14,
     "metadata": {},
     "output_type": "execute_result"
    }
   ],
   "source": [
    "eurostat = eurostat.pivot_table(index=['GEO', 'TIME'], columns='SEX', values='Value')\n",
    "eurostat = 100-eurostat\n",
    "eurostat['Females_o_Males'] = eurostat['Females']/eurostat['Males']\n",
    "eurostat.head()"
   ]
  },
  {
   "cell_type": "markdown",
   "metadata": {},
   "source": [
    "## 1.1 Results\n",
    "\n",
    "If we plot now the results we can observe that Nordic countries have, in avergage, a lower unemployment rate. South europe shows the higher unemployement rate. Not that Finland acts like an outlier since it should be part of Nordic countries. Note that according to [Tradingeconomics Finland Unemployement](https://tradingeconomics.com/finland/unemployment-rate) the unemployement is 8.9% for June 2017. Apparentelly there are huge difference in the way they compute unemployement rate.\n",
    "\n",
    "If we look more carefully at thoses data, we can observe that unemployement in EU is computed as `not_working_population`/`active_population` ([Definition here](http://ec.europa.eu/eurostat/statistics-explained/index.php/Glossary:Employment_rate)) which will of course gives huge unemployement values. This is indeed the literal interpetation of the term \"unemployemnet\" but not representative at all of the actual country situation."
   ]
  },
  {
   "cell_type": "code",
   "execution_count": 15,
   "metadata": {},
   "outputs": [],
   "source": [
    "europe_map = plot_choropletch(eurostat, ['GEO', 'Total'], data_topojson_eu, \n",
    "                                 legend='EU unemployement per country in %', info=eu_infos)\n",
    "europe_map.save('maps/EU_unemployement_rate.html')"
   ]
  },
  {
   "cell_type": "markdown",
   "metadata": {},
   "source": [
    "It is funny to see that South-Eastern countries have higher unemployement rate for women. Which is porbabliy linked to cultural reasons since woman are less likely to work and more likely to be housewives."
   ]
  },
  {
   "cell_type": "code",
   "execution_count": 16,
   "metadata": {},
   "outputs": [],
   "source": [
    "europe_map = plot_choropletch(eurostat, ['GEO', 'Females_o_Males'], data_topojson_eu, \n",
    "                              legend='EU ratio difference in Female and Males unemployement', info=eu_infos)\n",
    "europe_map.save('maps/EU_unemployement_male_female.html')"
   ]
  },
  {
   "cell_type": "markdown",
   "metadata": {},
   "source": [
    "We can keep in mind those values to compare them with Switzerland offical ones."
   ]
  },
  {
   "cell_type": "code",
   "execution_count": 17,
   "metadata": {},
   "outputs": [
    {
     "name": "stdout",
     "output_type": "stream",
     "text": [
      "European unemployment values for Swizzerland:\n",
      "\n",
      "SEX                     Total  Males  Females\n",
      "GEO         TIME                             \n",
      "Switzerland 2017-06-01   20.2   15.4     25.2\n"
     ]
    }
   ],
   "source": [
    "print('European unemployment values for Swizzerland:\\n\\n{}'.format(\n",
    "    eurostat.loc[('Switzerland', '2017-06-01'), ['Total', 'Males', 'Females']]))"
   ]
  },
  {
   "cell_type": "markdown",
   "metadata": {},
   "source": [
    "---\n",
    "# 2. Switzerland\n",
    "\n",
    "To compare results with EU ones, we chosed to also load data for unemployement for both gender. Our data were taken form [amsat](https://www.amstat.ch/v2/index.jsp?lang=fr) as asked.\n",
    "\n",
    "Both data contain common fields `canton` that will allows us to merge them easily. Note that data gender names are in German. We replace the with english equivalent to make display more coherent."
   ]
  },
  {
   "cell_type": "code",
   "execution_count": null,
   "metadata": {},
   "outputs": [],
   "source": [
    "ch_stat = pd.read_excel(unemployement_ch, skiprows=4, header=None, usecols=np.array([0,2]))\n",
    "ch_stat_sex = pd.read_excel(unemployement_sex_ch, skiprows=4, header=None, usecols=np.array([0,1,3]))\n",
    "\n",
    "ch_stat.columns = ['canton', 'rate']\n",
    "ch_stat_sex.columns = ['canton', 'sex', 'rate']\n",
    "\n",
    "ch_stat = pd.concat((ch_stat, ch_stat_sex))\n",
    "ch_stat.replace({np.NAN: 'Total', 'Männer': 'Males', 'Frauen': 'Females'}, inplace=True)\n",
    "ch_stat.sort_values(by='canton').head(6)"
   ]
  },
  {
   "cell_type": "markdown",
   "metadata": {},
   "source": [
    "Here we are facing the same problem as EU JSON data. We need to make sure each canton are correctly linked. We can take a look at both canton name in TOPOJSON file and in Amstat data."
   ]
  },
  {
   "cell_type": "code",
   "execution_count": null,
   "metadata": {},
   "outputs": [],
   "source": [
    "data_topojson_ch = json.load(open(topojson_ch))\n",
    "geo_ch_cantons = []\n",
    "\n",
    "for canton in data_topojson_ch['objects']['cantons']['geometries']:\n",
    "    geo_ch_cantons.append(canton['properties']['name'])\n",
    "print('Countries JSON Switzerland:\\n{}'.format(geo_ch_cantons))"
   ]
  },
  {
   "cell_type": "code",
   "execution_count": null,
   "metadata": {},
   "outputs": [],
   "source": [
    "print('Countries Amstat Switzerland :\\n{}'.format(ch_stat.canton.unique()))"
   ]
  },
  {
   "cell_type": "markdown",
   "metadata": {},
   "source": [
    "Now let's look at canton that are **not** correctly matched together"
   ]
  },
  {
   "cell_type": "code",
   "execution_count": null,
   "metadata": {},
   "outputs": [],
   "source": [
    "ch_stat.loc[ [canton not in geo_ch_cantons for canton in ch_stat.canton], 'canton' ].unique()"
   ]
  },
  {
   "cell_type": "markdown",
   "metadata": {},
   "source": [
    "We can see that canton in TopoJSON are named according to their local language (e.i. Vaud is french and Basel-Stadt is German). In Amstat data all canton are in German. It is therfore not possible to quickly match not Gemran canton together. We used therefore a dictionnary to match them. We create a new column named `canton_json` so we keep track of original names.\n",
    "\n",
    "Note that one line is 'Gesamt' which mean 'Total' in German We can discrad that row as well."
   ]
  },
  {
   "cell_type": "code",
   "execution_count": null,
   "metadata": {},
   "outputs": [],
   "source": [
    "dict_cantons = {'Bern': 'Bern/Berne', 'Freiburg': 'Fribourg', 'Graubünden': 'Graubünden/Grigioni', \n",
    "                'Tessin': 'Ticino', 'Waadt': 'Vaud', 'Wallis': 'Valais/Wallis', 'Neuenburg': 'Neuchâtel', \n",
    "                'Genf': 'Genève'}\n",
    "ch_stat['canton_json'] = ch_stat.canton\n",
    "ch_stat['canton_json'].replace(dict_cantons, inplace=True)\n",
    "ch_stat = ch_stat[ch_stat.canton != 'Gesamt']\n",
    "ch_stat.head()"
   ]
  },
  {
   "cell_type": "markdown",
   "metadata": {},
   "source": [
    "We can do the same as we did for EU. We will take total, males and females as distinct columns and compute the ratio of unemployement between the two genters."
   ]
  },
  {
   "cell_type": "code",
   "execution_count": null,
   "metadata": {},
   "outputs": [],
   "source": [
    "ch_stat = ch_stat.pivot_table(index=['canton', 'canton_json'], columns='sex', values='rate')\n",
    "ch_stat.columns = ['females_rate', 'males_rate', 'total_rate']\n",
    "ch_stat['female_o_males'] = ch_stat['females_rate']/ch_stat['males_rate']\n",
    "ch_stat.reset_index(inplace=True)\n",
    "ch_stat.head()"
   ]
  },
  {
   "cell_type": "markdown",
   "metadata": {},
   "source": [
    "## 2.1 Results - General\n",
    "We can see a trend in our data. The french seaking part of Switzerland (West) have higher unemployement rates. Also inner switzerland (Middle/East) have in average a low level of unemployement."
   ]
  },
  {
   "cell_type": "code",
   "execution_count": null,
   "metadata": {},
   "outputs": [],
   "source": [
    "ch_map = plot_choropletch(ch_stat, ['canton_json', 'total_rate'], json_data= data_topojson_ch,\n",
    "                          legend='Swiss unemployement percentage for Total population')\n",
    "ch_map"
   ]
  },
  {
   "cell_type": "markdown",
   "metadata": {},
   "source": [
    "We can see that in average both `Males` and `Females` have the same level of unemployement. Except maybe for Uri where the ratio goes upto 1.4."
   ]
  },
  {
   "cell_type": "code",
   "execution_count": null,
   "metadata": {
    "scrolled": false
   },
   "outputs": [],
   "source": [
    "ch_map = plot_choropletch(ch_stat, ['canton_json', 'female_o_males'], json_data= data_topojson_ch,\n",
    "                          legend='Swiss ratio difference in Female and Males unemployement')\n",
    "ch_map"
   ]
  },
  {
   "cell_type": "markdown",
   "metadata": {},
   "source": [
    "## 2.2 Results - Difference in interpretation\n",
    "\n",
    "So we just saw that there is a huge difference in unemployment between the values given by EU (~20%) and Switzerland (Not calculated yet but at most 5.2% according to Geneve canton situation). To understant why their is such a huge difference let's decribe how unemployement is ccomputed in Switzerland ([Source](https://www.seco.admin.ch/seco/fr/home/wirtschaftslage---wirtschaftspolitik/Wirtschaftslage/Arbeitslosenzahlen.html)).\n",
    "\n",
    "1. You are considered as a `job seeker` if you are registred to an ORP (Office régional de placement).\n",
    "2. You are considered as `unemployed` if you are subscribed to an ORP **AND** if you recieve subsidies from the canton. \n",
    "3. You are a `job seeker` but **not** `unemployed` if you are registered to an ORP but have no rights to subsidies (e.g. You haven't worked enough or are registred to social aid).\n",
    "4. Switzerland is computing unemploymenet as `unemployed`/`active_population`.\n",
    "\n",
    "Here we will add to our dataframe the actual number of `Job Seekers`, `Unemplyoed`, `Unemployed (Young)`, `Long Term Unemployed` (unemployed for > 1 year)."
   ]
  },
  {
   "cell_type": "code",
   "execution_count": null,
   "metadata": {},
   "outputs": [],
   "source": [
    "ch_stat_fact = pd.read_excel(unemployement_factor_ch, skiprows=4, header=None, \n",
    "                             usecols=np.array([0,3,4,5,6,7]))\n",
    "ch_stat_fact.columns = ['canton', 'unemp_number','unemp_young', \n",
    "                   'unemp_longterm', 'unemp_seeker_number', 'seeker']\n",
    "ch_stat_fact = ch_stat_fact[ch_stat_fact.canton != 'Gesamt']\n",
    "ch_stat_fact.head()"
   ]
  },
  {
   "cell_type": "markdown",
   "metadata": {},
   "source": [
    "Since we have the same names for the canton, we can merge those data to our dataframe"
   ]
  },
  {
   "cell_type": "code",
   "execution_count": null,
   "metadata": {},
   "outputs": [],
   "source": [
    "ch_stat = ch_stat.merge(ch_stat_fact)\n",
    "ch_stat.head()"
   ]
  },
  {
   "cell_type": "markdown",
   "metadata": {},
   "source": [
    "To be able to compute the new rates we need to know the actual activae population. Therefore according to the definition above `Active Population` = (100/`Total Rate`) * `Number of unemployed`. Now that we have the amount of active population we can estimate:\n",
    "\n",
    "* `unemp_rate_seeker` Unemployement rate considering all people that are looking for a job, e.i. all people registred to an ORP.\n",
    "* `unemp_rate_no_young` Unemployement rate but without considering young people (under 25).\n",
    "* `unemp_rate_longterm` Unemployement rate considering only people that are unemployed for more than a year.\n",
    "\n",
    "For display purpose we will plot the difference between thoses new fields and the official unemployement value. This will give us an estimate of the importance of each factor per canton."
   ]
  },
  {
   "cell_type": "code",
   "execution_count": null,
   "metadata": {},
   "outputs": [],
   "source": [
    "# Active population\n",
    "ch_stat['canton_active_pop'] =  (100/ch_stat.total_rate) * ch_stat.unemp_number\n",
    "# New ratio as explained\n",
    "ch_stat['unemp_rate_seeker'] = 100*(ch_stat.unemp_seeker_number/ch_stat['canton_active_pop'])\n",
    "ch_stat['unemp_rate_no_young'] = 100*((ch_stat.unemp_number-ch_stat.unemp_young)/ch_stat['canton_active_pop'])\n",
    "ch_stat['unemp_rate_longterm'] = 100*((ch_stat.unemp_longterm)/ch_stat['canton_active_pop'])\n",
    "# Difference in between ratio and official data of unemployement (for vizualization purpose)\n",
    "ch_stat['unemp_rate_seeker_diff'] = ch_stat.unemp_rate_seeker - ch_stat.total_rate\n",
    "ch_stat['unemp_rate_no_young_diff'] = ch_stat.unemp_rate_no_young - ch_stat.total_rate\n",
    "ch_stat['unemp_rate_longterm_diff'] = ch_stat.unemp_rate_longterm - ch_stat.total_rate\n",
    "ch_stat.head()"
   ]
  },
  {
   "cell_type": "markdown",
   "metadata": {},
   "source": [
    "### 2.2.1 Job seekers\n",
    "\n",
    "If we take all job seekers we will get higher values for canton that have an larger amount of foreigner workers. This might be due to the fact that some canton such as Jura, Ticino or Schaffusen have a larger amount of personne coming from EU to work. This will results in an higher percentage of job seeker in those area."
   ]
  },
  {
   "cell_type": "code",
   "execution_count": null,
   "metadata": {},
   "outputs": [],
   "source": [
    "ch_map = plot_choropletch(ch_stat, ['canton_json', 'unemp_rate_seeker_diff'], json_data= data_topojson_ch,\n",
    "                          legend='Percentage unemployement for Total poulation')\n",
    "ch_map"
   ]
  },
  {
   "cell_type": "markdown",
   "metadata": {},
   "source": [
    "### 2.2.2 Without young people\n",
    "\n",
    "Here we see that Neuchatel and Jura have the highest amount of unemployement for young people. This might be link to the fact that this region of Switzerland is directly linked to watchmaking which is facing an economic crisis."
   ]
  },
  {
   "cell_type": "code",
   "execution_count": null,
   "metadata": {},
   "outputs": [],
   "source": [
    "ch_map = plot_choropletch(ch_stat, ['canton_json', 'unemp_rate_no_young_diff'], json_data= data_topojson_ch,\n",
    "                          legend='Percentage unemployement for Total poulation', colors=['red', 'yellow', 'green'])\n",
    "ch_map"
   ]
  },
  {
   "cell_type": "markdown",
   "metadata": {},
   "source": [
    "### 2.2.3 Long term Unemployement\n",
    "\n",
    "Same logic here. Since more people recently lost their job linked to the economic crisis (watchmaking sector) they are less likely to find an new job in this area and therefore more likely to stay longer in an unemplyoement situation.\n"
   ]
  },
  {
   "cell_type": "code",
   "execution_count": null,
   "metadata": {},
   "outputs": [],
   "source": [
    "ch_map = plot_choropletch(ch_stat, ['canton_json', 'unemp_rate_longterm'], json_data= data_topojson_ch,\n",
    "                          legend='Percentage unemployement for Total poulation')\n",
    "ch_map"
   ]
  },
  {
   "cell_type": "markdown",
   "metadata": {},
   "source": [
    "### 2.2.4 Overall\n",
    "\n",
    "We can display our results for the whole country for thoses different type of factors. As we can see we indeed get the same unemployment rate (3%) as the one published on [Amstat](https://www.amstat.ch/v2/index.jsp?lang=fr) website. We can see that this huge difference with EU values (12%) is only due to different ways of computing the same value."
   ]
  },
  {
   "cell_type": "code",
   "execution_count": null,
   "metadata": {},
   "outputs": [],
   "source": [
    "swiss_unemp = 100*ch_stat.unemp_number.sum()/ch_stat.canton_active_pop.sum()\n",
    "swiss_unemp_seek = 100*ch_stat.unemp_seeker_number.sum()/ch_stat.canton_active_pop.sum()\n",
    "swiss_unemp_no_young = 100*(ch_stat.unemp_number.sum()-ch_stat.unemp_young.sum())/ch_stat.canton_active_pop.sum()\n",
    "swiss_unemp_longtem = 100*ch_stat.unemp_longterm.sum()/ch_stat.canton_active_pop.sum()\n",
    "\n",
    "print('{:.2}% : Unempl. rate'.format(swiss_unemp))\n",
    "print('{:.2}% : Unempl. rate with Job Seeker'.format(swiss_unemp_seek))\n",
    "print('{:.2}% : Unempl. rate without Young people'.format(swiss_unemp_no_young))\n",
    "print('{:.2}% : Unempl. rate Long Term'.format(swiss_unemp_longtem))"
   ]
  },
  {
   "cell_type": "markdown",
   "metadata": {},
   "source": [
    "## 2.3 Foreigners and Age classes\n",
    "\n",
    "### 2.3.1 Foreigners and Swiss rate"
   ]
  },
  {
   "cell_type": "code",
   "execution_count": null,
   "metadata": {},
   "outputs": [],
   "source": [
    "ch_stat_for = pd.read_excel(unemployement_nat_ch, skiprows=4, header=None, usecols=[0,1,3])\n",
    "ch_stat_for.columns = ['canton', 'nationality', 'rate']\n",
    "ch_stat_for.head()"
   ]
  },
  {
   "cell_type": "code",
   "execution_count": null,
   "metadata": {},
   "outputs": [],
   "source": [
    "print('Values in Cantons: {}'.format(ch_stat_for['canton'].unique()))\n",
    "print('\\nValues in Nationality: {}'.format(ch_stat_for['nationality'].unique()))"
   ]
  },
  {
   "cell_type": "code",
   "execution_count": null,
   "metadata": {},
   "outputs": [],
   "source": [
    "dict_nat = {'Ausländer': 'Foreigner', 'Schweizer': 'Swiss'}\n",
    "ch_stat_for.dropna(inplace=True)\n",
    "ch_stat_for['nationality'].replace(dict_nat, inplace=True)\n",
    "ch_stat_for = ch_stat_for.pivot(index='canton', columns='nationality', values='rate')\n",
    "ch_stat_for['canton_json'] = ch_stat_for.reset_index().canton.values\n",
    "ch_stat_for['canton_json'].replace(dict_cantons, inplace=True)\n",
    "ch_stat_for.head()"
   ]
  },
  {
   "cell_type": "code",
   "execution_count": null,
   "metadata": {},
   "outputs": [],
   "source": [
    "ch_stat_for['swiss_foreigner'] = ch_stat_for.Foreigner - ch_stat_for.Swiss\n",
    "ch_map = plot_choropletch(ch_stat_for, ['canton_json', 'swiss_foreigner'], json_data= data_topojson_ch,\n",
    "                          legend='Different in employement rate between Foreigner and Swiss', \n",
    "                          colors=['green','yellow', 'orange','red', 'black'], id_scale=[0,0.25,0.5,0.75,1])\n",
    "ch_map"
   ]
  },
  {
   "cell_type": "markdown",
   "metadata": {},
   "source": [
    "### 2.3.2 Foreigners and Swiss rate - Age\n",
    "\n",
    "German stuff : dict_germ = {'Ausländer': 'Foreigner', 'Schweizer': 'Swiss', 'Gesamt': 'Total'}\n",
    "Tricky .... Berichte auf Monatsbasis () -> Arbeitslosen und Jugendarbeitslosenquote nach verschiedenen Kriterien"
   ]
  },
  {
   "cell_type": "code",
   "execution_count": null,
   "metadata": {},
   "outputs": [],
   "source": [
    "ch_stat_comp = pd.read_excel(unemployement_age_nat_ch, skiprows=4, header=None, usecols=[0,2,3,5], na_values='...')\n",
    "ch_stat_comp.columns = ['canton', 'age', 'nationality', 'rate']\n",
    "ch_stat_comp.head()\n"
   ]
  },
  {
   "cell_type": "markdown",
   "metadata": {},
   "source": [
    "We can now look at the range of each fields.\n",
    "* `canton` is expressed as quarter (year split in 4)\n",
    "* `nationality` is not a binary field and is composed of Males, Females and Total fields.\n",
    "* `age` is a single range : From 15 to 64 years, so we would discard it (not relevant)\n",
    "* `rate` is always equals to \"Total\", so not relevant and will be discarded"
   ]
  },
  {
   "cell_type": "code",
   "execution_count": null,
   "metadata": {},
   "outputs": [],
   "source": [
    "print('Values in Cantons: {}'.format(ch_stat_comp['canton'].unique()))\n",
    "print('\\nValues in Nationality: {}'.format(ch_stat_comp['nationality'].unique()))\n",
    "print('\\nValues in Age: {}'.format(ch_stat_comp['age'].unique()))"
   ]
  },
  {
   "cell_type": "code",
   "execution_count": null,
   "metadata": {},
   "outputs": [],
   "source": [
    "ch_stat_comp['canton_json'] = ch_stat_comp.canton\n",
    "ch_stat_comp['canton_json'].replace(dict_cantons, inplace=True)\n",
    "ch_stat_comp['nationality'].replace(dict_nat, inplace=True)\n",
    "ch_stat_comp.age = ch_stat_comp.age.apply(lambda x: x.replace('Jahre', 'years').replace('und mehr', 'and more'))\n",
    "ch_stat_comp.head()"
   ]
  },
  {
   "cell_type": "code",
   "execution_count": null,
   "metadata": {
    "scrolled": false
   },
   "outputs": [],
   "source": [
    "sns.set(style=\"whitegrid\")\n",
    "g = sns.factorplot(x=\"canton\", y=\"rate\", hue=\"nationality\", row='age',\n",
    "                   data=ch_stat_comp.sort_values('canton'), size=6, kind=\"bar\", palette=\"muted\", aspect=2.5)\n",
    "g.set_xticklabels(rotation=30)"
   ]
  },
  {
   "cell_type": "markdown",
   "metadata": {},
   "source": [
    "## 2.4 Röstigraben\n"
   ]
  },
  {
   "cell_type": "code",
   "execution_count": null,
   "metadata": {},
   "outputs": [],
   "source": [
    "ch_stat.set_index('canton', inplace=True)"
   ]
  },
  {
   "cell_type": "code",
   "execution_count": null,
   "metadata": {},
   "outputs": [],
   "source": [
    "canton_french =  ['Freiburg', 'Genf', 'Jura', 'Neuenburg', 'Waadt', 'Wallis']\n",
    "canton_italian =  ['Tessin']\n",
    "\n",
    "ch_stat['language'] = 'German'\n",
    "ch_stat.loc[canton_french, 'language'] = 'French'\n",
    "ch_stat.loc[canton_italian, 'language'] = 'Italian'\n",
    "\n",
    "ch_stat[['unemp_number', 'canton_active_pop', 'language']].head()"
   ]
  },
  {
   "cell_type": "code",
   "execution_count": null,
   "metadata": {},
   "outputs": [],
   "source": [
    "roestigraben = 100*ch_stat.groupby('language').unemp_number.sum()/ch_stat.groupby('language').canton_active_pop.sum()\n",
    "print('German speaking part: {:.2f}%\\nFrench speaking part: {:.2f}%'.format(\n",
    "    roestigraben['German'], roestigraben['French']))"
   ]
  },
  {
   "cell_type": "code",
   "execution_count": null,
   "metadata": {},
   "outputs": [],
   "source": []
  }
 ],
 "metadata": {
  "kernelspec": {
   "display_name": "Python [default]",
   "language": "python",
   "name": "python3"
  },
  "language_info": {
   "codemirror_mode": {
    "name": "ipython",
    "version": 3
   },
   "file_extension": ".py",
   "mimetype": "text/x-python",
   "name": "python",
   "nbconvert_exporter": "python",
   "pygments_lexer": "ipython3",
   "version": "3.5.4"
  }
 },
 "nbformat": 4,
 "nbformat_minor": 2
}
