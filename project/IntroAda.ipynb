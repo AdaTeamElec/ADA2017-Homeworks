{
 "cells": [
  {
   "cell_type": "markdown",
   "metadata": {},
   "source": [
    "# Intro\n",
    "\n",
    "Terrorism is a subject largely covered in the media, and, unfortunately, we became accustomed to its presence worldwide, particularly over the last decade. Nevertheless, the problem we are facing today is not new. The source of certain conflicts dates from multiple decades, some of which are still lasting today. Our goal is to track and vizualize terrorism evolution through the past 50 years based on \"The Global Terrorism Database\". There are many questions we can ask ourselves about terrorism, such as \"Is EU less safe nowadays ?\", \"Did attack mediums & reasons change over the years ?\" or \"Can we discriminate current/future conflictual zones ?\". It would be presumptuous from us to say that we are going to solve major issues, or even predict futur attacks. However, through the exploration of the dataset, and by trying to answer those interrogations, we aim to grasp an overview and a better understanding to the evolution of terrorism.\n",
    "\n",
    "# 1 Data understanding\n",
    "\n",
    "## Field selections using documentation\n",
    "\n",
    "First of all, we need to take a deep look into the details of our dataset to sort out the relevant data we will be using to conduct our observations. The Global Terrorism Dataset contains 135 features and approximately 170'000 entries. In order to select the label we will keep, we used the official [documentation](http://start.umd.edu/gtd/downloads/Codebook.pdf) from the dataset which describes each features precisely. Let's make a quick summary of the labels from the dataset we decided to use for our project.\n",
    "\n",
    "* `eventid` : this is the id of any entry, written as 12 numbers (first 8 digits are the date of event and last 4 digits are a sequential case number for the given day). This will be used as our index too.\n",
    "* `iyear`, `imonth`, `iday` : Year, month and day of the event. In some rare occasion the month or days are unknown.\n",
    "* `country_txt` : id and name of the country where the event took place.\n",
    "* `region_txt` : id and region where the event took place.\n",
    "* `latitude` and `longitude` : Latitude and Longitude values where the event took place.\n",
    "* `doubtterr` : boolean value set as 1 if there is a doubt to whether the incident is an act of terrorism and 0 if there is no doubt of a terrorist attack.\n",
    "* `success` : boolean value set as 1 if the incident was successful or 0 if it was not. As stated in the documentation, \"Success of a terrorist strike is defined according to the tangible effects of the attack. Success is not judged in terms of the larger goals of the perpetrators. For example, a bomb that exploded in a building would be counted as a success even if it did not succeed in bringing the building down or inducing government repression.\" \n",
    "* `suicide` : boolean value set as 1 if the attack perpetrator did not intend to escape from the attack alive, 0 otherwise.\n",
    "* `attacktype1_txt` : This field captures the general method of attack and often reflects the broad class of tactics used. It consists of nine categories, which are defined below :\n",
    "    1. Assassination\n",
    "    2. Armed Assault\n",
    "    3. Bombing/Explosion\n",
    "    4. Hijacking \n",
    "    5. Hostage taking (barricade incident) \n",
    "    6. Hostage taking (kidnapping)\n",
    "    7. Facility/Infrastructure Attack\n",
    "    8. Unarmed Assault\n",
    "    9. Unknown \n",
    "* `targtype1_txt` : The target/victim type field captures the general type of target/victim. When a victim is attacked specifically because of his or her relationship to a particular person, such as a prominent figure, the target type reflects that motive. For example, if a family member of a government official is attacked because of his or her relationship to that individual, the type of target is “government.” This variable consists of the following 22 categories: <br>\n",
    "    1. Business\n",
    "    2. Government (General)\n",
    "    3. Police\n",
    "    4. Military\n",
    "    5. Abortion related\n",
    "    6. Airport & aircraft\n",
    "    7. Government (Diplomatic), differs from the other entry as here are taken into account representation of a gouvernment on a foreign soil (embassy, consulate...)\n",
    "    8. Educational institution\n",
    "    9. Food or water supply\n",
    "    10. Journalist & media\n",
    "    11. Maritime facilities, including ports\n",
    "    12. NGO\n",
    "    13. Other\n",
    "    14. Private citizens & property, include attacks in a public area against private citizens\n",
    "    15. Religious figures/insititutions\n",
    "    16. Telecommunication\n",
    "    17. Terrorists/non-state militias\n",
    "    18. Tourists\n",
    "    19. Transportation (other than aviation)\n",
    "    20. Unknown\n",
    "    21. Utilities, facilities for generation or transmission of energy\n",
    "    22. Violent political parties\n",
    "* `gname` : This field contains the name of the group that carried out the attack. In order to ensure consistency in the usage of group names for the database, the GTD database uses a standardized list of group names that have been established by project staff to serve as a reference for all subsequent entries.  \n",
    "* `gname2` : This field is used to record the name of the second perpetrator when responsibility for the attack is attributed to more than one perpetrator. Conventions follow “Perpetrator Group” field.  \n",
    "* `gname3` : same as for gname2\n",
    "* `nperps` : This field indicates the total number of terrorists participating in the incident. (In the instance of multiple perpetrator groups participating in one case, the total number of perpetrators, across groups, is recorded). There are often discrepancies in information on this value.   \n",
    "* `weaptype1_txt` : This field records the general type of weapon used in the incident. It consists of the following categories: <br>\n",
    "    1. Biological\n",
    "    2. Chemical\n",
    "    3. Radiological\n",
    "    4. Nuclear\n",
    "    5. Firearms\n",
    "    6. Explosive/bonbs/dynamite\n",
    "    7. Fake weapons\n",
    "    8. Incendiary\n",
    "    9. Melee\n",
    "    10. Vehicle\n",
    "    11. Sabotage equipment \n",
    "    12. Other\n",
    "    13. Unknown\n",
    "* `nkill` : This field stores the number of total confirmed fatalities for the incident. The number includes all victims and attackers who died as a direct result of the incident.   \n",
    "* `nkillter`: This field stores the number of confirmed terrorists fatalities.\n",
    "* `nwound` : This field records the number of confirmed non-fatal injuries to both perpetrators and victims. \n",
    "* `nwoundte` : This field records the number of confirmed non-fatal terrorists injuries. \n",
    "\n",
    "\n",
    "We are now reduced to 22 features instead of the original 135 from the dataset. A part from the kept features, we explored some other features such as `weaptype2`, `weapsubtype` or `motive` to see if those would bring added informations thus be relevant to use also. However, we decided to drop them because of a too large amount of NaN or unknown entries. Our choice focused on labels that would allow us to answer the questions asked in the description, as well as labels relevant to get a pertinent visualization of the data.\n",
    "\n",
    "## Data exploration\n",
    "\n",
    "Let's begin the work by importing the libraries and creating a dataframe to explore the data furthermore. As cautious wannabe data scientist, we will explore in detail each field and check the proportion of non categorized or Unknown-labeled entries to make sure each feature we kept countains relevant data. <br>\n",
    "*NOTE : during this section we are only exploring data without drawing any conclusions nor making assumptions regarding the data. This will come further in our analysis*"
   ]
  },
  {
   "cell_type": "code",
   "execution_count": null,
   "metadata": {
    "collapsed": true
   },
   "outputs": [],
   "source": [
    "import pandas as pd\n",
    "import os\n",
    "import numpy as np\n",
    "import datetime\n",
    "\n",
    "%matplotlib inline"
   ]
  },
  {
   "cell_type": "code",
   "execution_count": null,
   "metadata": {
    "collapsed": true
   },
   "outputs": [],
   "source": [
    "data_path = 'data'\n",
    "gtd_path = os.path.join(data_path, 'globalterrorismdb_0617dist.csv')"
   ]
  },
  {
   "cell_type": "code",
   "execution_count": null,
   "metadata": {
    "collapsed": true
   },
   "outputs": [],
   "source": [
    "fields = ['eventid', 'iyear', 'imonth', 'iday', 'country_txt', 'region_txt', \n",
    "          'latitude', 'longitude', 'doubtterr', 'attacktype1_txt',  'success', \n",
    "          'suicide', 'weaptype1_txt', 'targtype1_txt', 'gname', 'gname2', \n",
    "          'gname3', 'nperps', 'nkill', 'nkillter', 'nwound', 'nwoundte']\n",
    "date_fileds = ['iyear', 'imonth', 'iday']\n",
    "\n",
    "df = pd.read_csv(gtd_path, encoding='latin', usecols=fields, index_col='eventid', low_memory=False)"
   ]
  },
  {
   "cell_type": "code",
   "execution_count": null,
   "metadata": {
    "collapsed": false
   },
   "outputs": [],
   "source": [
    "print('Is index unique: {}'.format(df.index.is_unique))"
   ]
  },
  {
   "cell_type": "code",
   "execution_count": null,
   "metadata": {
    "collapsed": false
   },
   "outputs": [],
   "source": [
    "df.dtypes"
   ]
  },
  {
   "cell_type": "markdown",
   "metadata": {},
   "source": [
    "According to the documentation, month or day (or both) can be set to 0 if the exact date of the attack is unknown. We created a function to set the value to of the field to 1 in the case of an unknown date. We then count the proportion of unknown date within the dataset, just to make sure it is not too high."
   ]
  },
  {
   "cell_type": "code",
   "execution_count": null,
   "metadata": {
    "collapsed": true
   },
   "outputs": [],
   "source": [
    "# According to documentation both month and day can be 0 (if unknown), we set them to 0\n",
    "def parse_date(row):\n",
    "    return datetime.date(row.iyear, int(row.imonth) if not np.isnan(row.imonth) else 1, \n",
    "                         int(row.iday) if not np.isnan(row.iday) else 1)"
   ]
  },
  {
   "cell_type": "code",
   "execution_count": null,
   "metadata": {
    "collapsed": false
   },
   "outputs": [],
   "source": [
    "# Count number entries with uncertain date (either month or day)\n",
    "df[date_fileds] = df[date_fileds].replace(0, np.nan)\n",
    "n_uncertain = np.sum(np.sum(df[date_fileds].isnull(), axis=1) != 0 )\n",
    "df['date'] =df.apply(lambda x: parse_date(x), axis=1)\n",
    "print('Uncertain dates: {:.2f}%, ({}/{})'.format(100*n_uncertain/len(df), n_uncertain, len(df)))"
   ]
  },
  {
   "cell_type": "markdown",
   "metadata": {},
   "source": [
    "We check the proportion of entries without geographic coordinates. In the case when the coordinates are unknow, we decided to completely drop the row of data. This is due to the fact that we want to have the location informations in order to represent the data with maps."
   ]
  },
  {
   "cell_type": "code",
   "execution_count": null,
   "metadata": {
    "collapsed": false
   },
   "outputs": [],
   "source": [
    "n_geo = len(df)\n",
    "df.dropna(subset=('latitude', 'longitude'), inplace=True)\n",
    "print('Entries without geographic coordinates droped: {:.2f}%, ({}/{})'.format(\n",
    "    100*(n_geo-len(df))/n_geo, n_geo-len(df), n_geo))"
   ]
  },
  {
   "cell_type": "markdown",
   "metadata": {},
   "source": [
    "We are now checking the amount of attacks that are categorized as unsure terror attacks. We wanted to check this particular feature to make sure that in the dataset there is a large majority of attacks that are hundred percent sure to be terror attack. If it would not have been the case, the whole dataset as well as our study would not have been relevant. <br>\n",
    "There is 15% of attacks for which there is a doubt to categorize them as terror attacks. The entry -9 represent cases for which the value was not available at all when the dataset was constructed. We decided to assign them as if it was sure they were terror attacks."
   ]
  },
  {
   "cell_type": "code",
   "execution_count": null,
   "metadata": {
    "collapsed": false
   },
   "outputs": [],
   "source": [
    "print('Repartition of data in %:\\n{}'.format(100*df.doubtterr.value_counts()/len(df)))\n",
    "df.loc[df.doubtterr < 0, 'doubtterr'] = 0\n",
    "df.doubtterr = df.doubtterr.astype('category')\n",
    "df.doubtterr.cat.categories = ['N_DOUBT', 'DOUBT']\n",
    "print('\\nRepartition of data in %(after cleaning):\\n{}'.format(100*df.doubtterr.value_counts()/len(df)))"
   ]
  },
  {
   "cell_type": "markdown",
   "metadata": {},
   "source": [
    "For the two upcoming fields, data is, as expected, binary and completly categorized."
   ]
  },
  {
   "cell_type": "code",
   "execution_count": null,
   "metadata": {
    "collapsed": false
   },
   "outputs": [],
   "source": [
    "print('Unique values in field: {}'.format(np.unique(df.success)))\n",
    "print('Percentage of sucessful attacks: {:.2f}%'.format(100*df.success.mean()))"
   ]
  },
  {
   "cell_type": "code",
   "execution_count": null,
   "metadata": {
    "collapsed": false
   },
   "outputs": [],
   "source": [
    "print('Unique values in field: {}'.format(np.unique(df.suicide)))\n",
    "print('Percentage of suicide attacks: {:.2f}%'.format(100*df.suicide.mean()))"
   ]
  },
  {
   "cell_type": "markdown",
   "metadata": {},
   "source": [
    "Time to explore if the proportion of attack types and see if there are any NaN values."
   ]
  },
  {
   "cell_type": "code",
   "execution_count": null,
   "metadata": {
    "collapsed": false
   },
   "outputs": [],
   "source": [
    "print('Type of attack and repartition in dataset in %')\n",
    "100*df.attacktype1_txt.value_counts()/len(df)"
   ]
  },
  {
   "cell_type": "markdown",
   "metadata": {},
   "source": [
    "We do the same for the repartion of target types and the repartion of weapon types."
   ]
  },
  {
   "cell_type": "code",
   "execution_count": null,
   "metadata": {
    "collapsed": false
   },
   "outputs": [],
   "source": [
    "print('Type of target and repartition in dataset in %')\n",
    "100*df.targtype1_txt.value_counts()/len(df)"
   ]
  },
  {
   "cell_type": "code",
   "execution_count": null,
   "metadata": {
    "collapsed": false
   },
   "outputs": [],
   "source": [
    "print('Repartition of weapon type in dataset in %')\n",
    "100*df.weaptype1_txt.value_counts()/len(df)"
   ]
  },
  {
   "cell_type": "markdown",
   "metadata": {},
   "source": [
    "We now check the number of unique entries that categorize the name of the group conducting the terror attacks. According to the documentation, a work as been done to standardize the entries within this field by using a specific list of group names established by project staff."
   ]
  },
  {
   "cell_type": "code",
   "execution_count": null,
   "metadata": {
    "collapsed": false
   },
   "outputs": [],
   "source": [
    "n_group = len(pd.unique(df[['gname', 'gname2', 'gname3']].values.ravel('K')))\n",
    "print('Number of unique group name: {}'.format(n_group))"
   ]
  },
  {
   "cell_type": "markdown",
   "metadata": {},
   "source": [
    "We will now explore data with numerical values. First we look at field corresponding to the number of perpretrators of an attack. As expected, it countains a large amount of unknown entries as it is not easy to know how many perpetrators of an attack there was. We decided to keep this row anyway as to explore, if possible, the evolution of terror attack, and the number of perpetrators is a value that could give an insight to know this."
   ]
  },
  {
   "cell_type": "code",
   "execution_count": null,
   "metadata": {
    "collapsed": false
   },
   "outputs": [],
   "source": [
    "df.loc[df.nperps < 0, 'nperps'] = np.nan\n",
    "print('Percentage of entries with unknown # Perpretrators {:.2f}%'.format(100*np.sum(df.nperps.isnull())/len(df)))\n",
    "print('Range of # Perpretrators: {} upto {}'.format(int(df.nperps.min()), int(df.nperps.max())))"
   ]
  },
  {
   "cell_type": "markdown",
   "metadata": {},
   "source": [
    "We look now at the number of victims of terror attacks. As the dataset count the total number of fatalities, perpetrators included, we found it relevant to keep also the number of killed terrorists to conduct our analysis. Same logic applies for the number of wounded."
   ]
  },
  {
   "cell_type": "code",
   "execution_count": null,
   "metadata": {
    "collapsed": false
   },
   "outputs": [],
   "source": [
    "df['nkillnter'] = df.nkill-df.nkillter.fillna(0)\n",
    "df.loc[df.nkillnter < 0, 'nkillnter'] = 0\n",
    "\n",
    "print('Range total # of victims: [{}, {}]'.format(df.nkill.min(), df.nkill.max()))\n",
    "print('Range # of non terrorists victims: [{}, {}]'.format(df.nkillnter.min(), df.nkillnter.max()))\n",
    "print('Range # of terrorists victims: [{}, {}]'.format(df.nkillter.min(), df.nkillter.max()))"
   ]
  },
  {
   "cell_type": "code",
   "execution_count": null,
   "metadata": {
    "collapsed": false
   },
   "outputs": [],
   "source": [
    "df['nwoundnter'] = df.nwound-df.nwoundte.fillna(0)\n",
    "df.loc[df.nwoundnter < 0, 'nwoundnter'] = 0\n",
    "\n",
    "print('Range total # of wounded: [{}, {}]'.format(df.nwound.min(), df.nwound.max()))\n",
    "print('Range # of non terrorists wounded: [{}, {}]'.format(df.nwoundnter.min(), df.nwoundnter.max()))\n",
    "print('Range # of terrorists wounded: [{}, {}]'.format(df.nwoundte.min(), df.nwoundte.max()))"
   ]
  },
  {
   "cell_type": "markdown",
   "metadata": {},
   "source": [
    "---\n",
    "\n",
    "# 2 Data Visualization\n",
    "\n",
    "## 2.1 Attacks frequency around the world over the years\n"
   ]
  },
  {
   "cell_type": "code",
   "execution_count": null,
   "metadata": {
    "collapsed": false
   },
   "outputs": [],
   "source": [
    "import seaborn as sns\n",
    "import matplotlib.pyplot as plt\n",
    "\n",
    "%pylab inline\n",
    "sns.set_context(\"notebook\")"
   ]
  },
  {
   "cell_type": "code",
   "execution_count": null,
   "metadata": {
    "collapsed": false
   },
   "outputs": [],
   "source": [
    "year_span = 1+df.iyear.max()-df.iyear.min()\n",
    "plt.figure(figsize=(16,5))\n",
    "df.date.hist(bins=year_span, label='# Attacks')\n",
    "plt.xlabel('Time'); plt.ylabel('# Attack'); plt.legend()"
   ]
  },
  {
   "cell_type": "code",
   "execution_count": null,
   "metadata": {
    "collapsed": false
   },
   "outputs": [],
   "source": [
    "np.sum(df.iyear == 1993)"
   ]
  },
  {
   "cell_type": "markdown",
   "metadata": {},
   "source": [
    "According to [Codebook](http://start.umd.edu/gtd/downloads/Codebook.pdf) lack of information is the reason of lack in data for year 1993.\n",
    "\n",
    "> In addition, users familiar with the GTD’s Data Collection Methodology are aware that incidents \n",
    "of terrorism from 1993 are not present in the GTD because they were lost prior to START’s \n",
    "compilation of the GTD from multiple data collection efforts."
   ]
  },
  {
   "cell_type": "code",
   "execution_count": null,
   "metadata": {
    "collapsed": true
   },
   "outputs": [],
   "source": [
    "def get_2d_comp(df, x_col, y_col, normalize=False):\n",
    "    df_month_year = df.groupby([x_col, y_col]).size().reset_index(name='frequ')\n",
    "    df_month_year =  df_month_year.pivot(index=y_col, columns=x_col, values='frequ')\n",
    "    if normalize:\n",
    "        df_month_year = df_month_year.div(df_month_year.sum(axis=0), axis=1)\n",
    "    return df_month_year"
   ]
  },
  {
   "cell_type": "code",
   "execution_count": null,
   "metadata": {
    "collapsed": false
   },
   "outputs": [],
   "source": [
    "df_month_year = get_2d_comp(df,'iyear', 'imonth')\n",
    "df_month_year.index = ['January', 'February',  'March', 'April', 'May', 'June', 'July', \n",
    "                       'August', 'September', 'October', 'November', 'December']\n",
    "plt.figure(figsize=(16,4))\n",
    "sns.heatmap(df_month_year)"
   ]
  },
  {
   "cell_type": "code",
   "execution_count": null,
   "metadata": {
    "collapsed": false
   },
   "outputs": [],
   "source": [
    "df_reg_year = get_2d_comp(df,'iyear', 'region_txt', normalize=True)\n",
    "plt.figure(figsize=(14,4))\n",
    "sns.heatmap(df_reg_year.fillna(0))"
   ]
  },
  {
   "cell_type": "code",
   "execution_count": null,
   "metadata": {
    "collapsed": true
   },
   "outputs": [],
   "source": [
    "import folium\n",
    "from folium.plugins import HeatMap, HeatMapWithTime\n",
    "\n",
    "def get_data_longlat(df):\n",
    "    data_year = df[['latitude', 'longitude']].values\n",
    "    return np.concatenate((data_year, np.ones((len(data_year), 1))), axis=1)\n",
    "\n",
    "def get_heatmap_time(df, coord=[30., 5.], zoom=2):\n",
    "    data_all = []\n",
    "    year_label = []\n",
    "    for year, d in df.groupby('iyear'):\n",
    "        data_all.append(get_data_longlat(d).tolist())\n",
    "        year_label.append('Year: {}'.format(year))\n",
    "    m = folium.Map(coord, tiles='stamentoner', zoom_start=zoom)\n",
    "    HeatMapWithTime(data_all, index=year_label, radius=10, max_opacity=1).add_to(m)\n",
    "    return m\n",
    "    \n",
    "def get_heatmap(df, coord=[30., 5.], zoom=2, min_opacity=0.5, blur=5):\n",
    "    data = get_data_longlat(df) \n",
    "    m = folium.Map(coord, tiles='stamentoner', zoom_start=zoom)\n",
    "    HeatMap(data.tolist(), radius=5, min_opacity=min_opacity, blur=blur).add_to(m)\n",
    "    return m\n",
    "    \n",
    "rand_seed = 0\n",
    "np.random.seed(rand_seed)"
   ]
  },
  {
   "cell_type": "code",
   "execution_count": null,
   "metadata": {
    "collapsed": true
   },
   "outputs": [],
   "source": [
    "n = 50000\n",
    "id_sub = np.random.permutation(len(df))[:n]\n",
    "df_sub = df.iloc[id_sub]"
   ]
  },
  {
   "cell_type": "code",
   "execution_count": null,
   "metadata": {
    "collapsed": false
   },
   "outputs": [],
   "source": [
    "m = get_heatmap(df_sub, coord=[30., 5.])\n",
    "m"
   ]
  },
  {
   "cell_type": "code",
   "execution_count": null,
   "metadata": {
    "collapsed": false
   },
   "outputs": [],
   "source": [
    "m = get_heatmap_time(df_sub, coord=[30., 5.])\n",
    "m"
   ]
  },
  {
   "cell_type": "markdown",
   "metadata": {},
   "source": [
    "# 3. Events that marked the world"
   ]
  },
  {
   "cell_type": "code",
   "execution_count": null,
   "metadata": {
    "collapsed": false
   },
   "outputs": [],
   "source": [
    "thresh = 0.8*df_reg_year.max(axis=1)\n",
    "thresh[thresh < 0.20] = 0.2\n",
    "thresh = df_reg_year.subtract(thresh, axis=0) >= 0\n",
    "\n",
    "plt.figure(figsize=(14,4))\n",
    "sns.heatmap(thresh)"
   ]
  },
  {
   "cell_type": "markdown",
   "metadata": {},
   "source": [
    "## 3.1 North America Bombings (1970)\n",
    "http://time.com/4501670/bombings-of-america-burrough/"
   ]
  },
  {
   "cell_type": "code",
   "execution_count": null,
   "metadata": {
    "collapsed": false
   },
   "outputs": [],
   "source": [
    "df_NA_1970 = df.loc[df.region_txt=='North America']\n",
    "df_NA_1970 = df_NA_1970.loc[np.logical_and(df_NA_1970.iyear >= 1970, df_NA_1970.iyear <= 1970)]\n",
    "\n",
    "m = get_heatmap(df_NA_1970, coord=[35., -95.], zoom=4, min_opacity=0.9, blur=5)\n",
    "m"
   ]
  },
  {
   "cell_type": "markdown",
   "metadata": {},
   "source": [
    "## 3.2 Nothern Irland Religion conflict (1972-1973)"
   ]
  },
  {
   "cell_type": "code",
   "execution_count": null,
   "metadata": {
    "collapsed": false
   },
   "outputs": [],
   "source": [
    "df_EU_1972 = df.loc[df.region_txt=='Western Europe']\n",
    "df_EU_1972 = df_EU_1972.loc[np.logical_and(df_EU_1972.iyear >= 1972, df_EU_1972.iyear <= 1973)]\n",
    "\n",
    "m = get_heatmap(df_EU_1972, coord=[50., -5.], zoom=5, min_opacity=0.5, blur=1)\n",
    "m"
   ]
  },
  {
   "cell_type": "markdown",
   "metadata": {},
   "source": [
    "## 3.3 Nothern Irland and Basque Country (1975-1977)"
   ]
  },
  {
   "cell_type": "code",
   "execution_count": null,
   "metadata": {
    "collapsed": false
   },
   "outputs": [],
   "source": [
    "df_EU_1975 = df.loc[df.region_txt=='Western Europe']\n",
    "df_EU_1975 = df_EU_1975.loc[np.logical_and(df_EU_1975.iyear >= 1975, df_EU_1975.iyear <= 1977)]\n",
    "\n",
    "m = get_heatmap(df_EU_1975, coord=[50., -5.], zoom=5, min_opacity=0.5, blur=1)\n",
    "m"
   ]
  },
  {
   "cell_type": "markdown",
   "metadata": {},
   "source": [
    "## 3.4 Salvadoran Civil War (1981-1983)"
   ]
  },
  {
   "cell_type": "code",
   "execution_count": null,
   "metadata": {
    "collapsed": false
   },
   "outputs": [],
   "source": [
    "df_CA_1981 = df.loc[df.region_txt=='Central America & Caribbean']\n",
    "df_CA_1981 = df_CA_1981.loc[np.logical_and(df_CA_1981.iyear >= 1981, df_CA_1981.iyear <= 1983)]\n",
    "\n",
    "m = get_heatmap(df_CA_1981, coord=[15., -85.], zoom=5)\n",
    "m"
   ]
  },
  {
   "cell_type": "markdown",
   "metadata": {},
   "source": [
    "## 3.5 South America Conflicts (1984-1987)\n",
    "\n",
    "1. Comlumbia (Farc, ELN) (https://en.wikipedia.org/wiki/Terrorism_in_Colombia)\n",
    "1. Internal conflict in Peru (https://en.wikipedia.org/wiki/Internal_conflict_in_Peru)"
   ]
  },
  {
   "cell_type": "code",
   "execution_count": null,
   "metadata": {
    "collapsed": false
   },
   "outputs": [],
   "source": [
    "df_SA_1984 = df.loc[df.region_txt=='South America']\n",
    "df_SA_1984 = df_SA_1984.loc[np.logical_and(df_SA_1984.iyear >= 1984, df_SA_1984.iyear <= 1987)]\n",
    "\n",
    "m = get_heatmap(df_SA_1984, coord=[-20., -60.], zoom=3, min_opacity=0.3, blur=1)\n",
    "m"
   ]
  },
  {
   "cell_type": "markdown",
   "metadata": {},
   "source": [
    "## 3.6 Middle East (2003-2007)\n",
    "\n",
    "1. Algeria \n",
    "2. Isreal and palestine\n",
    "3. Iraq"
   ]
  },
  {
   "cell_type": "code",
   "execution_count": null,
   "metadata": {
    "collapsed": false
   },
   "outputs": [],
   "source": [
    "df_ME_2003 = df.loc[df.region_txt=='Middle East & North Africa']\n",
    "df_ME_2003 = df_ME_2003.loc[np.logical_and(df_ME_2003.iyear >= 2003, df_ME_2003.iyear <= 2007)]\n",
    "\n",
    "m = get_heatmap(df_ME_2003, coord=[32., 25.], zoom=4, min_opacity=0.5, blur=2)\n",
    "m"
   ]
  },
  {
   "cell_type": "markdown",
   "metadata": {},
   "source": [
    "## 3.7 South Asia (2008-2013)\n",
    "\n",
    "1. Northeast India (https://en.wikipedia.org/wiki/Insurgency_in_Northeast_India)\n",
    "2. Afganistan/Pakistan - Alqaida ... \n",
    "3. South east india ?"
   ]
  },
  {
   "cell_type": "code",
   "execution_count": null,
   "metadata": {
    "collapsed": false
   },
   "outputs": [],
   "source": [
    "df_SAsia_2008 = df.loc[df.region_txt=='South Asia']\n",
    "df_SAsia_2008 = df_SAsia_2008.loc[np.logical_and(df_SAsia_2008.iyear >= 2008, df_SAsia_2008.iyear <= 2013)]\n",
    "\n",
    "m = get_heatmap(df_SAsia_2008, coord=[20., 80.], zoom=4, min_opacity=0.3, blur=1)\n",
    "m"
   ]
  },
  {
   "cell_type": "markdown",
   "metadata": {},
   "source": [
    "## 3.8 Middle East (2013-Today)\n",
    "\n",
    "1. Lybia\n",
    "2. Egypt\n",
    "3. Isreal palentine\n",
    "4. ISIS (Syria and Iraq)"
   ]
  },
  {
   "cell_type": "code",
   "execution_count": null,
   "metadata": {
    "collapsed": false
   },
   "outputs": [],
   "source": [
    "df_ME_2013 = df.loc[df.region_txt=='Middle East & North Africa']\n",
    "df_ME_2013 = df_ME_2013.loc[np.logical_and(df_ME_2013.iyear >= 2013, df_ME_2013.iyear <= 2017)]\n",
    "\n",
    "m = get_heatmap(df_ME_2013, coord=[32., 25.], zoom=4, min_opacity=0.5, blur=2)\n",
    "m"
   ]
  },
  {
   "cell_type": "code",
   "execution_count": null,
   "metadata": {
    "collapsed": true
   },
   "outputs": [],
   "source": [
    "def casualties_barplot(x, y, title=''):\n",
    "    plt.title('Evolution of casualties over the year '+title, fontsize=12, fontweight='bold')\n",
    "    plt.xlabel('year'); plt.ylabel('# casualties')\n",
    "    sns.barplot(x=x, y=y, color='blue')\n",
    "    locs, labels = plt.xticks()\n",
    "    plt.setp(labels, rotation=90)"
   ]
  },
  {
   "cell_type": "code",
   "execution_count": null,
   "metadata": {
    "collapsed": false
   },
   "outputs": [],
   "source": [
    "plt.figure(figsize=(16,5))\n",
    "casualties_barplot(df['iyear'].unique(), df['nkill'].dropna().groupby(by=df['iyear']).sum(), 'Worldwide')"
   ]
  },
  {
   "cell_type": "code",
   "execution_count": null,
   "metadata": {
    "collapsed": false,
    "scrolled": false
   },
   "outputs": [],
   "source": [
    "for region in df['region_txt'].unique():\n",
    "    plt.figure(figsize=(16,5))\n",
    "    casualties_barplot(df[df.region_txt == region]['iyear'].unique(), df[df.region_txt == region]['nkill'].fillna(0).groupby(by=df['iyear']).sum(), region)"
   ]
  },
  {
   "cell_type": "code",
   "execution_count": null,
   "metadata": {
    "collapsed": false
   },
   "outputs": [],
   "source": [
    "for region in df['region_txt'].unique():\n",
    "    print(region)\n",
    "\n"
   ]
  },
  {
   "cell_type": "code",
   "execution_count": null,
   "metadata": {
    "collapsed": false
   },
   "outputs": [],
   "source": [
    "df[df.region_txt == 'Eastern Europe']['iyear'].unique()"
   ]
  },
  {
   "cell_type": "code",
   "execution_count": null,
   "metadata": {
    "collapsed": true
   },
   "outputs": [],
   "source": []
  },
  {
   "cell_type": "code",
   "execution_count": null,
   "metadata": {
    "collapsed": true
   },
   "outputs": [],
   "source": []
  }
 ],
 "metadata": {
  "anaconda-cloud": {},
  "kernelspec": {
   "display_name": "Python [conda env:ada]",
   "language": "python",
   "name": "conda-env-ada-py"
  },
  "language_info": {
   "codemirror_mode": {
    "name": "ipython",
    "version": 3
   },
   "file_extension": ".py",
   "mimetype": "text/x-python",
   "name": "python",
   "nbconvert_exporter": "python",
   "pygments_lexer": "ipython3",
   "version": "3.5.4"
  }
 },
 "nbformat": 4,
 "nbformat_minor": 2
}
