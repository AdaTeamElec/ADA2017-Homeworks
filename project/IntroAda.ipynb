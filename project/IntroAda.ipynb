{
 "cells": [
  {
   "cell_type": "markdown",
   "metadata": {},
   "source": [
    "# Intro\n",
    "\n",
    "Terrorism is a subject largely covered in the media, and, unfortunately, we became accustomed to its presence worldwide, particularly over the last decade. Nevertheless, the problem we are facing today is not new. The source of certain conflicts dates from multiple decades, some of which are still lasting today. Our goal is to track and vizualize terrorism evolution through the past 50 years based on \"The Global Terrorism Database\". There are many questions we can ask ourselves about terrorism, such as \"Is EU less safe nowadays ?\", \"Did attack mediums & reasons change over the years ?\" or \"Can we discriminate current/future conflictual zones ?\". It would be presumptuous from us to say that we are going to solve major issues, or even predict futur attacks. However, through the exploration of the dataset, and by trying to answer those interrogations, we aim to grasp an overview and a better understanding to the evolution of terrorism.\n",
    "\n",
    "# 1 Data understanding\n",
    "\n",
    "First of all, we need to take a deep look into the details of our dataset to sort out the relevant data we will be using to conduct our observations. The Global Terrorism Dataset contains 135 features and approximately 170'000 entries. In order to select the label we will keep, we used the official [documentation](http://start.umd.edu/gtd/downloads/Codebook.pdf) from the dataset which describes each features precisely. Let's make a quick summary of the labels from the dataset and the one we decided to use for our project.\n",
    "\n",
    "* `eventid` : this is the id of any entry, written as 12 numbers (first 8 are the date of event and last 4 are a sequential case number for the given day). This will be used as our index too.\n",
    "* `iyear` : Year of the event\n",
    "* `imonth` : Month of the event\n",
    "* `iday` : Day of the event\n",
    "* `country` and `country_txt` : Name of the country where the event took place\n",
    "* `region` and `region_txt` : Region where the event took place\n",
    "* `latitude` and `longitude` : Lattitude and Longitude values where the event took place\n",
    "* `doubtterr` : boolean value set as 1 if there is a doubt to whether the incident is an act of terrorism and 0 if there is none\n",
    "* `success` : boolean value set as 1 if the incident was successful or 0 if it was not. As stated in the documentation, \"Success of a terrorist strike is defined according to the tangible effects of the attack. Success is not judged in terms of the larger goals of the perpetrators. For example, a bomb that exploded in a building would be counted as a success even if it did not succeed in bringing the building down or inducing government repression.\" \n",
    "* `suicide` : boolean value set as 1 if the attack perpetrator did not intend to escape from the attack alive, 0 otherwise.\n",
    "* `attacktype1` and `attacktype1_txt` : This field captures the general method of attack and often reflects the broad class of tactics used. It consists of nine categories, which are defined below :\n",
    "    1. Assassination\n",
    "    2. Armed Assault\n",
    "    3. Bombing/Explosion\n",
    "    4. Hijacking \n",
    "    5. Hostage taking (barricade incident) \n",
    "    6. Hostage taking (kidnapping)\n",
    "    7. Facility/Infrastructure Attack\n",
    "    8. Unarmed Assault\n",
    "    9. Unknown \n",
    "* `targtype1` and `targtype1_txt` : The target/victim type field captures the general type of target/victim. When a victim is attacked specifically because of his or her relationship to a particular person, such as a prominent figure, the target type reflects that motive. For example, if a family member of a government official is attacked because of his or her relationship to that individual, the type of target is “government.” This variable consists of the following 22 categories: <br>\n",
    "    list of 22 categories\n",
    "* `gname` : This field contains the name of the group that carried out the attack. In order to ensure consistency in the usage of group names for the database, the GTD database uses a standardized list of group names that have been established by project staff to serve as a reference for all subsequent entries.  \n",
    "* `gname2` : This field is used to record the name of the second perpetrator when responsibility for the attack is attributed to more than one perpetrator. Conventions follow “Perpetrator Group” field.  \n",
    "* `gname3` : same as for gname2\n",
    "* `nperps` : This field indicates the total number of terrorists participating in the incident. (In the instance of multiple perpetrator groups participating in one case, the total number of perpetrators, across groups, is recorded). There are often discrepancies in information on this value.   \n",
    "* `weaptype1,` and `weaptype1_txt` : This field records the general type of weapon used in the incident. It consists of the following categories: <br>\n",
    "    llist of all weapon type\n",
    "* `nkill` : This field stores the number of total confirmed fatalities for the incident. The number includes all victims and attackers who died as a direct result of the incident.   \n",
    "* `nkillter`: This field stores the number of confirmed terrorists fatalities.\n",
    "* `nwound` : This field records the number of confirmed non-fatal injuries to both perpetrators and victims. \n",
    "* `nwoundte` : This field records the number of confirmed non-fatal terrorists injuries. \n"
   ]
  },
  {
   "cell_type": "code",
   "execution_count": null,
   "metadata": {},
   "outputs": [],
   "source": [
    "import pandas as pd\n",
    "import os\n",
    "import numpy as np\n",
    "import datetime\n",
    "\n",
    "%matplotlib inline"
   ]
  },
  {
   "cell_type": "code",
   "execution_count": null,
   "metadata": {},
   "outputs": [],
   "source": [
    "data_path = 'data'\n",
    "gtd_path = os.path.join(data_path, 'globalterrorismdb_0617dist.csv')"
   ]
  },
  {
   "cell_type": "code",
   "execution_count": null,
   "metadata": {},
   "outputs": [],
   "source": [
    "fields = ['eventid', 'iyear', 'imonth', 'iday', 'country', 'country_txt', 'region', 'region_txt', \n",
    "          'latitude', 'longitude', 'doubtterr', 'attacktype1', 'attacktype1_txt',  'success', \n",
    "          'suicide', 'weaptype1', 'weaptype1_txt', 'targtype1', 'targtype1_txt', 'gname', 'gname2', \n",
    "          'gname3', 'nperps', 'nkill', 'nkillter', 'nwound', 'nwoundte']\n",
    "date_fileds = ['iyear', 'imonth', 'iday']\n",
    "\n",
    "df = pd.read_csv(gtd_path, encoding='latin', usecols=fields, index_col='eventid', low_memory=False)"
   ]
  },
  {
   "cell_type": "code",
   "execution_count": null,
   "metadata": {},
   "outputs": [],
   "source": [
    "print('Is index unique: {}'.format(df.index.is_unique))"
   ]
  },
  {
   "cell_type": "code",
   "execution_count": null,
   "metadata": {},
   "outputs": [],
   "source": [
    "df.dtypes"
   ]
  },
  {
   "cell_type": "code",
   "execution_count": null,
   "metadata": {},
   "outputs": [],
   "source": [
    "# According to documentation both month and day can be 0 (if unknown), we set them to 0\n",
    "def parse_date(row):\n",
    "    return datetime.date(row.iyear, row.imonth if row.imonth > 0 else 1, \n",
    "                         row.iday if row.iday > 0 else 1)"
   ]
  },
  {
   "cell_type": "code",
   "execution_count": null,
   "metadata": {},
   "outputs": [],
   "source": [
    "# Count number entries with uncertain date (either month or day)\n",
    "n_uncertain = np.sum(np.sum(df[date_fileds] == 0, axis=1) != 0 )\n",
    "df['date'] =df.apply(lambda x: parse_date(x), axis=1)\n",
    "print('Uncertain dates: {:.2f}%, ({}/{})'.format(100*n_uncertain/len(df), n_uncertain, len(df)))"
   ]
  },
  {
   "cell_type": "code",
   "execution_count": null,
   "metadata": {},
   "outputs": [],
   "source": [
    "print('Are country codes positive: {}'.format( all(df.country > 0)))\n",
    "print('Are region codes positive: {}'.format( all(df.region > 0)))"
   ]
  },
  {
   "cell_type": "code",
   "execution_count": null,
   "metadata": {},
   "outputs": [],
   "source": [
    "n_geo = len(df)\n",
    "df.dropna(subset=('latitude', 'longitude'), inplace=True)\n",
    "print('Entries without geographic coordinates droped: {:.2f}%, ({}/{})'.format(\n",
    "    100*(n_geo-len(df))/n_geo, n_geo-len(df), n_geo))"
   ]
  },
  {
   "cell_type": "code",
   "execution_count": null,
   "metadata": {},
   "outputs": [],
   "source": [
    "print('Repartition of data in %:\\n{}'.format(100*df.doubtterr.value_counts()/len(df)))\n",
    "df.loc[df.doubtterr < 0, 'doubtterr'] = 0\n",
    "df.doubtterr = df.doubtterr.astype('category')\n",
    "df.doubtterr.cat.categories = ['N_DOUBT', 'DOUBT']\n",
    "print('\\nRepartition of data in %(after cleaning):\\n{}'.format(100*df.doubtterr.value_counts()/len(df)))"
   ]
  },
  {
   "cell_type": "code",
   "execution_count": null,
   "metadata": {},
   "outputs": [],
   "source": [
    "print('Unique values in field: {}'.format(np.unique(df.success)))\n",
    "print('Percentage of sucessful atacks: {:.2f}%'.format(100*df.success.mean()))"
   ]
  },
  {
   "cell_type": "code",
   "execution_count": null,
   "metadata": {},
   "outputs": [],
   "source": [
    "print('Unique values in field: {}'.format(np.unique(df.suicide)))\n",
    "print('Percentage of suicide atacks: {:.2f}%'.format(100*df.suicide.mean()))"
   ]
  },
  {
   "cell_type": "code",
   "execution_count": null,
   "metadata": {},
   "outputs": [],
   "source": [
    "print('Type of attack and repartition in dataset in %')\n",
    "100*df.attacktype1_txt.value_counts()/len(df)"
   ]
  },
  {
   "cell_type": "code",
   "execution_count": null,
   "metadata": {},
   "outputs": [],
   "source": [
    "print('Type of target and repartition in dataset in %')\n",
    "100*df.targtype1_txt.value_counts()/len(df)"
   ]
  },
  {
   "cell_type": "code",
   "execution_count": null,
   "metadata": {},
   "outputs": [],
   "source": [
    "n_group = len(pd.unique(df[['gname', 'gname2', 'gname3']].values.ravel('K')))\n",
    "print('Number of unique group name: {}'.format(n_group))"
   ]
  },
  {
   "cell_type": "code",
   "execution_count": null,
   "metadata": {},
   "outputs": [],
   "source": [
    "df.loc[df.nperps < 0, 'nperps'] = np.nan\n",
    "print('Percentage of entries with unknown # Perpretors {:.2f}%'.format(100*np.sum(df.nperps.isnull())/len(df)))\n",
    "print('Range of # Perpretors: {} upto {}'.format(int(df.nperps.min()), int(df.nperps.max())))"
   ]
  },
  {
   "cell_type": "code",
   "execution_count": null,
   "metadata": {},
   "outputs": [],
   "source": [
    "print('Repartition of weapon type in dataset in %')\n",
    "100*df.weaptype1_txt.value_counts()/len(df)"
   ]
  },
  {
   "cell_type": "code",
   "execution_count": null,
   "metadata": {},
   "outputs": [],
   "source": [
    "df['nkillnter'] = df.nkill-df.nkillter.fillna(0)\n",
    "df.loc[df.nkillnter < 0, 'nkillnter'] = 0\n",
    "\n",
    "print('Range total # of victims: [{}, {}]'.format(df.nkill.min(), df.nkill.max()))\n",
    "print('Range # of non terrorists victims: [{}, {}]'.format(df.nkillnter.min(), df.nkillnter.max()))\n",
    "print('Range # of terrorists victims: [{}, {}]'.format(df.nkillter.min(), df.nkillter.max()))"
   ]
  },
  {
   "cell_type": "code",
   "execution_count": null,
   "metadata": {},
   "outputs": [],
   "source": [
    "df['nwoundnter'] = df.nwound-df.nwoundte.fillna(0)\n",
    "df.loc[df.nwoundnter < 0, 'nwoundnter'] = 0\n",
    "\n",
    "print('Range total # of wounded: [{}, {}]'.format(df.nwound.min(), df.nwound.max()))\n",
    "print('Range # of non terrorists wounded: [{}, {}]'.format(df.nwoundnter.min(), df.nwoundnter.max()))\n",
    "print('Range # of terrorists wounded: [{}, {}]'.format(df.nwoundte.min(), df.nwoundte.max()))"
   ]
  },
  {
   "cell_type": "code",
   "execution_count": null,
   "metadata": {},
   "outputs": [],
   "source": []
  }
 ],
 "metadata": {
  "kernelspec": {
   "display_name": "Python [conda env:ada]",
   "language": "python",
   "name": "conda-env-ada-py"
  },
  "language_info": {
   "codemirror_mode": {
    "name": "ipython",
    "version": 3
   },
   "file_extension": ".py",
   "mimetype": "text/x-python",
   "name": "python",
   "nbconvert_exporter": "python",
   "pygments_lexer": "ipython3",
   "version": "3.5.4"
  }
 },
 "nbformat": 4,
 "nbformat_minor": 2
}
