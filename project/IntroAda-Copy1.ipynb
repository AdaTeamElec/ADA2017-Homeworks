{
 "cells": [
  {
   "cell_type": "markdown",
   "metadata": {},
   "source": [
    "<h1> Use this <a href=\"http://nbviewer.jupyter.org/github/AdaTeamElec/ADA2017-Homeworks/blob/master/project/IntroAda.ipynb\">link</a> to properly display maps </h1>"
   ]
  },
  {
   "cell_type": "markdown",
   "metadata": {},
   "source": [
    "# Intro\n",
    "\n",
    "## Abstract\n",
    "Terrorism is a subject largely covered in the media, and, unfortunately, we became accustomed to its presence worldwide, particularly over the last decade. Nevertheless, the problem we are facing today is not new. The source of certain conflicts dates from multiple decades, some of which are still lasting today. Our goal is to track and vizualize terrorism evolution through the past 50 years based on \"The Global Terrorism Database\". There are many questions we can ask ourselves about terrorism, such as \"Is EU less safe nowadays ?\", \"Did attack mediums & reasons change over the years ?\" or \"Can we discriminate current/future conflictual zones ?\". It would be presumptuous from us to say that we are going to solve major issues, or even predict futur attacks. However, through the exploration of the dataset, and by trying to answer those interrogations, we aim to grasp an overview and a better understanding to the evolution of terrorism.\n",
    "\n",
    "## Plan\n",
    "\n",
    "1. [Raw data understanding and cleaning](#raw_data)\n",
    "    1. [Field selections using documentation](#fields_select)\n",
    "    2. [Data exploration ](#data_exploration)\n",
    "2. [Groups](#groups)\n",
    "\n",
    "---\n",
    "\n",
    "# 1 Raw data understanding  <a id='raw_data'></a>\n",
    "\n",
    "## 1.1 Field selections using documentation  <a id='fields_select'></a>\n",
    "\n",
    "First of all, we need to take a deep look into the details of our dataset to sort out the relevant data we will be using to conduct our observations. The Global Terrorism Dataset contains 135 features and approximately 170'000 entries. In order to select the label we will keep, we used the official [documentation](http://start.umd.edu/gtd/downloads/Codebook.pdf) from the dataset which describes each features precisely. Let's make a quick summary of the labels from the dataset we decided to use for our project.\n",
    "\n",
    "* `eventid` : this is the id of any entry, written as 12 numbers (first 8 digits are the date of event and last 4 digits are a sequential case number for the given day). This will be used as our index too.\n",
    "* `iyear`, `imonth`, `iday` : Year, month and day of the event. In some rare occasion the month or days are unknown.\n",
    "* `country_txt` : id and name of the country where the event took place.\n",
    "* `region_txt` : id and region where the event took place.\n",
    "* `city` : This field contains the name of the city, village, or town in which the incident occurred. If the city, village, or town for an incident is unknown, then this field contains the smallest administrative area below provstate which can be found for the incident (e.g., district).  \n",
    "* `latitude` and `longitude` : Latitude and Longitude values where the event took place.\n",
    "* `doubtterr` : boolean value set as 1 if there is a doubt to whether the incident is an act of terrorism and 0 if there is no doubt of a terrorist attack.\n",
    "* `success` : boolean value set as 1 if the incident was successful or 0 if it was not. As stated in the documentation, \"Success of a terrorist strike is defined according to the tangible effects of the attack. Success is not judged in terms of the larger goals of the perpetrators. For example, a bomb that exploded in a building would be counted as a success even if it did not succeed in bringing the building down or inducing government repression.\" \n",
    "* `suicide` : boolean value set as 1 if the attack perpetrator did not intend to escape from the attack alive, 0 otherwise.\n",
    "* `attacktype1_txt` : This field captures the general method of attack and often reflects the broad class of tactics used. It consists of nine categories, which are defined below :\n",
    "    1. Assassination\n",
    "    2. Armed Assault\n",
    "    3. Bombing/Explosion\n",
    "    4. Hijacking \n",
    "    5. Hostage taking (barricade incident) \n",
    "    6. Hostage taking (kidnapping)\n",
    "    7. Facility/Infrastructure Attack\n",
    "    8. Unarmed Assault\n",
    "    9. Unknown \n",
    "* `targtype1_txt` : The target/victim type field captures the general type of target/victim. When a victim is attacked specifically because of his or her relationship to a particular person, such as a prominent figure, the target type reflects that motive. For example, if a family member of a government official is attacked because of his or her relationship to that individual, the type of target is “government.” This variable consists of the following 22 categories: <br>\n",
    "    1. Business\n",
    "    2. Government (General)\n",
    "    3. Police\n",
    "    4. Military\n",
    "    5. Abortion related\n",
    "    6. Airport & aircraft\n",
    "    7. Government (Diplomatic), differs from the other entry as here are taken into account representation of a gouvernment on a foreign soil (embassy, consulate...)\n",
    "    8. Educational institution\n",
    "    9. Food or water supply\n",
    "    10. Journalist & media\n",
    "    11. Maritime facilities, including ports\n",
    "    12. NGO\n",
    "    13. Other\n",
    "    14. Private citizens & property, include attacks in a public area against private citizens\n",
    "    15. Religious figures/insititutions\n",
    "    16. Telecommunication\n",
    "    17. Terrorists/non-state militias\n",
    "    18. Tourists\n",
    "    19. Transportation (other than aviation)\n",
    "    20. Unknown\n",
    "    21. Utilities, facilities for generation or transmission of energy\n",
    "    22. Violent political parties\n",
    "* `gname` : This field contains the name of the group that carried out the attack. In order to ensure consistency in the usage of group names for the database, the GTD database uses a standardized list of group names that have been established by project staff to serve as a reference for all subsequent entries.  \n",
    "* `gname2` : This field is used to record the name of the second perpetrator when responsibility for the attack is attributed to more than one perpetrator. Conventions follow “Perpetrator Group” field.  \n",
    "* `gname3` : same as for gname2\n",
    "* `nperps` : This field indicates the total number of terrorists participating in the incident. (In the instance of multiple perpetrator groups participating in one case, the total number of perpetrators, across groups, is recorded). There are often discrepancies in information on this value.   \n",
    "* `weaptype1_txt` : This field records the general type of weapon used in the incident. It consists of the following categories: <br>\n",
    "    1. Biological\n",
    "    2. Chemical\n",
    "    3. Radiological\n",
    "    4. Nuclear\n",
    "    5. Firearms\n",
    "    6. Explosive/bonbs/dynamite\n",
    "    7. Fake weapons\n",
    "    8. Incendiary\n",
    "    9. Melee\n",
    "    10. Vehicle\n",
    "    11. Sabotage equipment \n",
    "    12. Other\n",
    "    13. Unknown\n",
    "* `nkill` : This field stores the number of total confirmed fatalities for the incident. The number includes all victims and attackers who died as a direct result of the incident.   \n",
    "* `nkillter`: This field stores the number of confirmed terrorists fatalities.\n",
    "* `nwound` : This field records the number of confirmed non-fatal injuries to both perpetrators and victims. \n",
    "* `nwoundte` : This field records the number of confirmed non-fatal terrorists injuries. \n",
    "\n",
    "\n",
    "We are now reduced to 22 features instead of the original 135 from the dataset. A part from the kept features, we explored some other features such as `weaptype2`, `weapsubtype` or `motive` to see if those would bring added informations thus be relevant to use also. However, we decided to drop them because of a too large amount of NaN or unknown entries. Our choice focused on labels that would allow us to answer the questions asked in the description, as well as labels relevant to get a pertinent visualization of the data.\n",
    "\n",
    "\n",
    "## 1.2 Data exploration  <a id='data_exploration'></a>\n",
    "\n",
    "Let's begin the work by importing the libraries and creating a dataframe to explore the data furthermore. As cautious wannabe data scientist, we will explore in detail each field and check the proportion of non categorized or Unknown-labeled entries to make sure each feature we kept countains relevant data. <br>\n",
    "*NOTE : during this section we are only exploring data without drawing any conclusions nor making assumptions regarding the data. This will come further in our analysis*"
   ]
  },
  {
   "cell_type": "code",
   "execution_count": 1,
   "metadata": {},
   "outputs": [
    {
     "name": "stdout",
     "output_type": "stream",
     "text": [
      "Populating the interactive namespace from numpy and matplotlib\n"
     ]
    }
   ],
   "source": [
    "import pandas as pd\n",
    "import os\n",
    "import numpy as np\n",
    "import datetime\n",
    "import time\n",
    "import seaborn as sns\n",
    "import matplotlib.pyplot as plt\n",
    "from IPython.core.display import display, HTML\n",
    "import warnings\n",
    "\n",
    "%pylab inline\n",
    "%matplotlib inline\n",
    "\n",
    "sns.set_context(\"notebook\")\n",
    "warnings.filterwarnings('ignore')"
   ]
  },
  {
   "cell_type": "code",
   "execution_count": 2,
   "metadata": {},
   "outputs": [],
   "source": [
    "data_path = 'data'\n",
    "gtd_path = os.path.join(data_path, 'globalterrorismdb_0617dist.csv')"
   ]
  },
  {
   "cell_type": "code",
   "execution_count": 3,
   "metadata": {},
   "outputs": [],
   "source": [
    "fields = ['eventid', 'iyear', 'imonth', 'iday', 'country_txt', 'region_txt', 'city', \n",
    "          'latitude', 'longitude', 'doubtterr', 'attacktype1_txt',  'success', \n",
    "          'suicide', 'weaptype1_txt', 'targtype1_txt', 'gname', 'gname2', \n",
    "          'gname3', 'compclaim', 'nperps', 'nkill', 'nkillter', 'nwound', 'nwoundte']\n",
    "date_fileds = ['iyear', 'imonth', 'iday']\n",
    "\n",
    "df = pd.read_csv(gtd_path, encoding='latin', usecols=fields, index_col='eventid', low_memory=False)"
   ]
  },
  {
   "cell_type": "code",
   "execution_count": 4,
   "metadata": {},
   "outputs": [
    {
     "name": "stdout",
     "output_type": "stream",
     "text": [
      "Is index unique: True\n"
     ]
    }
   ],
   "source": [
    "print('Is index unique: {}'.format(df.index.is_unique))"
   ]
  },
  {
   "cell_type": "code",
   "execution_count": 5,
   "metadata": {},
   "outputs": [
    {
     "data": {
      "text/plain": [
       "iyear                int64\n",
       "imonth               int64\n",
       "iday                 int64\n",
       "country_txt         object\n",
       "region_txt          object\n",
       "city                object\n",
       "latitude           float64\n",
       "longitude          float64\n",
       "doubtterr            int64\n",
       "success              int64\n",
       "suicide              int64\n",
       "attacktype1_txt     object\n",
       "targtype1_txt       object\n",
       "gname               object\n",
       "gname2              object\n",
       "gname3              object\n",
       "nperps             float64\n",
       "compclaim          float64\n",
       "weaptype1_txt       object\n",
       "nkill              float64\n",
       "nkillter           float64\n",
       "nwound             float64\n",
       "nwoundte           float64\n",
       "dtype: object"
      ]
     },
     "execution_count": 5,
     "metadata": {},
     "output_type": "execute_result"
    }
   ],
   "source": [
    "df.dtypes"
   ]
  },
  {
   "cell_type": "markdown",
   "metadata": {},
   "source": [
    "According to the documentation, month or day (or both) can be set to 0 if the exact date of the attack is unknown. We created a function to set the value to of the field to 1 in the case of an unknown date. We then count the proportion of unknown date within the dataset, just to make sure it is not too high."
   ]
  },
  {
   "cell_type": "code",
   "execution_count": 6,
   "metadata": {},
   "outputs": [],
   "source": [
    "# According to documentation both month and day can be 0 (if unknown), we set them to 0\n",
    "def parse_date(row):\n",
    "    return datetime.date(row.iyear, int(row.imonth) if not np.isnan(row.imonth) else 1, \n",
    "                         int(row.iday) if not np.isnan(row.iday) else 1)"
   ]
  },
  {
   "cell_type": "code",
   "execution_count": 7,
   "metadata": {},
   "outputs": [
    {
     "name": "stdout",
     "output_type": "stream",
     "text": [
      "Uncertain dates: 0.52%, (891/170350)\n"
     ]
    }
   ],
   "source": [
    "# Count number entries with uncertain date (either month or day)\n",
    "df[date_fileds] = df[date_fileds].replace(0, np.nan)\n",
    "n_uncertain = np.sum(np.sum(df[date_fileds].isnull(), axis=1) != 0 )\n",
    "df['date'] =df.apply(lambda x: parse_date(x), axis=1)\n",
    "print('Uncertain dates: {:.2f}%, ({}/{})'.format(100*n_uncertain/len(df), n_uncertain, len(df)))"
   ]
  },
  {
   "cell_type": "markdown",
   "metadata": {},
   "source": [
    "We check the proportion of entries without geographic coordinates. In the case when the coordinates are unknow, we decided to completely drop the row of data. This is due to the fact that we want to have the location informations in order to represent the data with maps."
   ]
  },
  {
   "cell_type": "code",
   "execution_count": 8,
   "metadata": {},
   "outputs": [
    {
     "name": "stdout",
     "output_type": "stream",
     "text": [
      "Entries without geographic coordinates droped: 2.70%, (4606/170350)\n"
     ]
    }
   ],
   "source": [
    "n_geo = len(df)\n",
    "df.dropna(subset=('latitude', 'longitude'), inplace=True)\n",
    "print('Entries without geographic coordinates droped: {:.2f}%, ({}/{})'.format(\n",
    "    100*(n_geo-len(df))/n_geo, n_geo-len(df), n_geo))"
   ]
  },
  {
   "cell_type": "markdown",
   "metadata": {},
   "source": [
    "We check that each item has a valid entry for city, country or region. We see that it is missing a few entries for city name, but as we will not use this feature often, we won't drop those entries."
   ]
  },
  {
   "cell_type": "code",
   "execution_count": 9,
   "metadata": {},
   "outputs": [
    {
     "name": "stdout",
     "output_type": "stream",
     "text": [
      "Proportion of data without a valid city entry: 0.26%\n",
      "Proportion of data without a valid country entry: 0.00%\n",
      "Proportion of data without a valid region entry: 0.00%\n"
     ]
    }
   ],
   "source": [
    "print('Proportion of data without a valid city entry: {:.2f}%'.format(100*(1-df.city.value_counts().sum()/len(df))))\n",
    "print('Proportion of data without a valid country entry: {:.2f}%'.format(100*(1-df.country_txt.value_counts().sum()/len(df))))\n",
    "print('Proportion of data without a valid region entry: {:.2f}%'.format(100*(1-df.region_txt.value_counts().sum()/len(df))))"
   ]
  },
  {
   "cell_type": "markdown",
   "metadata": {},
   "source": [
    "We are now checking the amount of attacks that are categorized as unsure terror attacks. We wanted to check this particular feature to make sure that in the dataset there is a large majority of attacks that are hundred percent sure to be terror attack. If it would not have been the case, the whole dataset as well as our study would not have been relevant. <br>\n",
    "There is 15% of attacks for which there is a doubt to categorize them as terror attacks. The entry -9 represent cases for which the value was not available at all when the dataset was constructed. We decided to assign them as if it was sure they were terror attacks."
   ]
  },
  {
   "cell_type": "code",
   "execution_count": 10,
   "metadata": {},
   "outputs": [
    {
     "name": "stdout",
     "output_type": "stream",
     "text": [
      "Repartition of data in %:\n",
      " 0    76.668839\n",
      " 1    15.341732\n",
      "-9     7.989429\n",
      "Name: doubtterr, dtype: float64\n",
      "\n",
      "Repartition of data in %(after cleaning):\n",
      "N_DOUBT    84.658268\n",
      "DOUBT      15.341732\n",
      "Name: doubtterr, dtype: float64\n"
     ]
    }
   ],
   "source": [
    "print('Repartition of data in %:\\n{}'.format(100*df.doubtterr.value_counts()/len(df)))\n",
    "df.loc[df.doubtterr < 0, 'doubtterr'] = 0\n",
    "df.doubtterr = df.doubtterr.astype('category')\n",
    "df.doubtterr.cat.categories = ['N_DOUBT', 'DOUBT']\n",
    "print('\\nRepartition of data in %(after cleaning):\\n{}'.format(100*df.doubtterr.value_counts()/len(df)))"
   ]
  },
  {
   "cell_type": "markdown",
   "metadata": {},
   "source": [
    "For the two upcoming fields, data is, as expected, binary and completly categorized."
   ]
  },
  {
   "cell_type": "code",
   "execution_count": 11,
   "metadata": {},
   "outputs": [
    {
     "name": "stdout",
     "output_type": "stream",
     "text": [
      "Unique values in field: [0 1]\n",
      "Percentage of sucessful attacks: 89.48%\n"
     ]
    }
   ],
   "source": [
    "print('Unique values in field: {}'.format(np.unique(df.success)))\n",
    "print('Percentage of sucessful attacks: {:.2f}%'.format(100*df.success.mean()))"
   ]
  },
  {
   "cell_type": "code",
   "execution_count": 12,
   "metadata": {},
   "outputs": [
    {
     "name": "stdout",
     "output_type": "stream",
     "text": [
      "Unique values in field: [0 1]\n",
      "Percentage of suicide attacks: 3.47%\n"
     ]
    }
   ],
   "source": [
    "print('Unique values in field: {}'.format(np.unique(df.suicide)))\n",
    "print('Percentage of suicide attacks: {:.2f}%'.format(100*df.suicide.mean()))"
   ]
  },
  {
   "cell_type": "markdown",
   "metadata": {},
   "source": [
    "Time to explore if the proportion of attack types and see if there are any NaN values."
   ]
  },
  {
   "cell_type": "code",
   "execution_count": 13,
   "metadata": {},
   "outputs": [
    {
     "name": "stdout",
     "output_type": "stream",
     "text": [
      "Type of attack and repartition in dataset in %\n"
     ]
    },
    {
     "data": {
      "text/plain": [
       "Bombing/Explosion                      49.271769\n",
       "Armed Assault                          23.284101\n",
       "Assassination                          10.808838\n",
       "Hostage Taking (Kidnapping)             5.884979\n",
       "Facility/Infrastructure Attack          5.681050\n",
       "Unknown                                 3.666498\n",
       "Unarmed Assault                         0.533353\n",
       "Hostage Taking (Barricade Incident)     0.526716\n",
       "Hijacking                               0.342697\n",
       "Name: attacktype1_txt, dtype: float64"
      ]
     },
     "execution_count": 13,
     "metadata": {},
     "output_type": "execute_result"
    }
   ],
   "source": [
    "print('Type of attack and repartition in dataset in %')\n",
    "100*df.attacktype1_txt.value_counts()/len(df)"
   ]
  },
  {
   "cell_type": "markdown",
   "metadata": {},
   "source": [
    "We do the same for the repartion of target types and the repartion of weapon types."
   ]
  },
  {
   "cell_type": "code",
   "execution_count": 14,
   "metadata": {},
   "outputs": [
    {
     "name": "stdout",
     "output_type": "stream",
     "text": [
      "Type of target and repartition in dataset in %\n"
     ]
    },
    {
     "data": {
      "text/plain": [
       "Private Citizens & Property       23.565861\n",
       "Military                          14.706415\n",
       "Police                            13.615576\n",
       "Government (General)              11.967854\n",
       "Business                          11.754272\n",
       "Transportation                     3.861377\n",
       "Utilities                          3.246573\n",
       "Unknown                            2.900256\n",
       "Religious Figures/Institutions     2.497225\n",
       "Educational Institution            2.477314\n",
       "Government (Diplomatic)            2.035669\n",
       "Terrorists/Non-State Militia       1.684526\n",
       "Journalists & Media                1.641085\n",
       "Violent Political Party            1.019645\n",
       "Airports & Aircraft                0.782532\n",
       "Telecommunication                  0.584033\n",
       "NGO                                0.533353\n",
       "Other                              0.366831\n",
       "Tourists                           0.246163\n",
       "Maritime                           0.181002\n",
       "Food or Water Supply               0.173762\n",
       "Abortion Related                   0.158678\n",
       "Name: targtype1_txt, dtype: float64"
      ]
     },
     "execution_count": 14,
     "metadata": {},
     "output_type": "execute_result"
    }
   ],
   "source": [
    "print('Type of target and repartition in dataset in %')\n",
    "100*df.targtype1_txt.value_counts()/len(df)"
   ]
  },
  {
   "cell_type": "code",
   "execution_count": 15,
   "metadata": {},
   "outputs": [
    {
     "name": "stdout",
     "output_type": "stream",
     "text": [
      "Repartition of weapon type in dataset in %\n"
     ]
    },
    {
     "data": {
      "text/plain": [
       "Explosives/Bombs/Dynamite                                                      51.464910\n",
       "Firearms                                                                       32.129067\n",
       "Unknown                                                                         7.842214\n",
       "Incendiary                                                                      6.193889\n",
       "Melee                                                                           1.958442\n",
       "Chemical                                                                        0.159885\n",
       "Sabotage Equipment                                                              0.072401\n",
       "Vehicle (not to include vehicle-borne explosives, i.e., car or truck bombs)     0.069987\n",
       "Other                                                                           0.062747\n",
       "Biological                                                                      0.019910\n",
       "Fake Weapons                                                                    0.018704\n",
       "Radiological                                                                    0.007843\n",
       "Name: weaptype1_txt, dtype: float64"
      ]
     },
     "execution_count": 15,
     "metadata": {},
     "output_type": "execute_result"
    }
   ],
   "source": [
    "print('Repartition of weapon type in dataset in %')\n",
    "100*df.weaptype1_txt.value_counts()/len(df)"
   ]
  },
  {
   "cell_type": "markdown",
   "metadata": {},
   "source": [
    "We now check the number of unique entries that categorize the name of the group conducting the terror attacks. According to the documentation, a work as been done to standardize the entries within this field by using a specific list of group names established by project staff."
   ]
  },
  {
   "cell_type": "code",
   "execution_count": 16,
   "metadata": {},
   "outputs": [
    {
     "data": {
      "text/plain": [
       "Unknown                                             76999\n",
       "Taliban                                              6590\n",
       "Islamic State of Iraq and the Levant (ISIL)          4317\n",
       "Shining Path (SL)                                    4303\n",
       "Farabundo Marti National Liberation Front (FMLN)     2952\n",
       "Al-Shabaab                                           2675\n",
       "Irish Republican Army (IRA)                          2660\n",
       "Revolutionary Armed Forces of Colombia (FARC)        2349\n",
       "New People's Army (NPA)                              2151\n",
       "Boko Haram                                           2080\n",
       "dtype: int64"
      ]
     },
     "execution_count": 16,
     "metadata": {},
     "output_type": "execute_result"
    }
   ],
   "source": [
    "pd.value_counts(df[['gname', 'gname2', 'gname3']].values.ravel('K')).head(10)"
   ]
  },
  {
   "cell_type": "code",
   "execution_count": 17,
   "metadata": {},
   "outputs": [
    {
     "name": "stdout",
     "output_type": "stream",
     "text": [
      "Number of unique group name: 3449\n"
     ]
    }
   ],
   "source": [
    "df[['gname', 'gname2', 'gname3']] = df[['gname', 'gname2', 'gname3']].replace({'Unknown': np.nan})\n",
    "n_group = len(pd.unique(df[['gname', 'gname2', 'gname3']].values.ravel('K')))\n",
    "print('Number of unique group name: {}'.format(n_group))"
   ]
  },
  {
   "cell_type": "markdown",
   "metadata": {},
   "source": [
    "We will now explore data with numerical values. First we look at field corresponding to the number of perpretrators of an attack. As expected, it countains a large amount of unknown entries as it is not easy to know how many perpetrators of an attack there was. We decided to keep this row anyway as to explore, if possible, the evolution of terror attack, and the number of perpetrators is a value that could give an insight to know this."
   ]
  },
  {
   "cell_type": "code",
   "execution_count": 18,
   "metadata": {},
   "outputs": [
    {
     "name": "stdout",
     "output_type": "stream",
     "text": [
      "Percentage of entries with unknown # Perpretrators 84.50%\n",
      "Range of # Perpretrators: 0 upto 25000\n"
     ]
    }
   ],
   "source": [
    "df.loc[df.nperps < 0, 'nperps'] = np.nan\n",
    "print('Percentage of entries with unknown # Perpretrators {:.2f}%'.format(100*np.sum(df.nperps.isnull())/len(df)))\n",
    "print('Range of # Perpretrators: {} upto {}'.format(int(df.nperps.min()), int(df.nperps.max())))"
   ]
  },
  {
   "cell_type": "markdown",
   "metadata": {},
   "source": [
    "We look now at the number of victims of terror attacks. As the dataset count the total number of fatalities, perpetrators included, we found it relevant to keep also the number of killed terrorists to conduct our analysis. Same logic applies for the number of wounded."
   ]
  },
  {
   "cell_type": "code",
   "execution_count": 19,
   "metadata": {},
   "outputs": [
    {
     "name": "stdout",
     "output_type": "stream",
     "text": [
      "Range total # of victims: [0.0, 1500.0]\n",
      "Range # of non terrorists victims: [0.0, 1500.0]\n",
      "Range # of terrorists victims: [0.0, 500.0]\n"
     ]
    }
   ],
   "source": [
    "df['nkillnter'] = df.nkill-df.nkillter.fillna(0)\n",
    "df.loc[df.nkillnter < 0, 'nkillnter'] = 0\n",
    "\n",
    "print('Range total # of victims: [{}, {}]'.format(df.nkill.min(), df.nkill.max()))\n",
    "print('Range # of non terrorists victims: [{}, {}]'.format(df.nkillnter.min(), df.nkillnter.max()))\n",
    "print('Range # of terrorists victims: [{}, {}]'.format(df.nkillter.min(), df.nkillter.max()))"
   ]
  },
  {
   "cell_type": "code",
   "execution_count": 20,
   "metadata": {},
   "outputs": [
    {
     "name": "stdout",
     "output_type": "stream",
     "text": [
      "Range total # of wounded: [0.0, 7366.0]\n",
      "Range # of non terrorists wounded: [0.0, 7366.0]\n",
      "Range # of terrorists wounded: [0.0, 200.0]\n"
     ]
    }
   ],
   "source": [
    "df['nwoundnter'] = df.nwound-df.nwoundte.fillna(0)\n",
    "df.loc[df.nwoundnter < 0, 'nwoundnter'] = 0\n",
    "\n",
    "print('Range total # of wounded: [{}, {}]'.format(df.nwound.min(), df.nwound.max()))\n",
    "print('Range # of non terrorists wounded: [{}, {}]'.format(df.nwoundnter.min(), df.nwoundnter.max()))\n",
    "print('Range # of terrorists wounded: [{}, {}]'.format(df.nwoundte.min(), df.nwoundte.max()))"
   ]
  },
  {
   "cell_type": "markdown",
   "metadata": {},
   "source": [
    "Now we have a better understanding of our dataset and we are confident to have a dataset we can work with. We can go further in our analysis and do data visualization."
   ]
  },
  {
   "cell_type": "markdown",
   "metadata": {},
   "source": [
    "---\n",
    "\n",
    "# 2. Groups  <a id='groups'></a>\n"
   ]
  },
  {
   "cell_type": "markdown",
   "metadata": {},
   "source": [
    "We can see that we have for each group: the number of attacks (`frequ`), number of casualities (`nkill`), coordinates (`latitude`, `longitude`) and country (`country`)."
   ]
  },
  {
   "cell_type": "code",
   "execution_count": 21,
   "metadata": {},
   "outputs": [
    {
     "data": {
      "text/html": [
       "<div>\n",
       "<style>\n",
       "    .dataframe thead tr:only-child th {\n",
       "        text-align: right;\n",
       "    }\n",
       "\n",
       "    .dataframe thead th {\n",
       "        text-align: left;\n",
       "    }\n",
       "\n",
       "    .dataframe tbody tr th {\n",
       "        vertical-align: top;\n",
       "    }\n",
       "</style>\n",
       "<table border=\"1\" class=\"dataframe\">\n",
       "  <thead>\n",
       "    <tr style=\"text-align: right;\">\n",
       "      <th></th>\n",
       "      <th>frequ</th>\n",
       "      <th>nkill</th>\n",
       "      <th>latitude</th>\n",
       "      <th>longitude</th>\n",
       "      <th>country</th>\n",
       "    </tr>\n",
       "  </thead>\n",
       "  <tbody>\n",
       "    <tr>\n",
       "      <th>Taliban</th>\n",
       "      <td>6590.0</td>\n",
       "      <td>24637.0</td>\n",
       "      <td>34.091128</td>\n",
       "      <td>69.093347</td>\n",
       "      <td>Afghanistan</td>\n",
       "    </tr>\n",
       "    <tr>\n",
       "      <th>Islamic State of Iraq and the Levant (ISIL)</th>\n",
       "      <td>4317.0</td>\n",
       "      <td>31189.0</td>\n",
       "      <td>34.316204</td>\n",
       "      <td>43.868365</td>\n",
       "      <td>Iraq</td>\n",
       "    </tr>\n",
       "    <tr>\n",
       "      <th>Shining Path (SL)</th>\n",
       "      <td>4303.0</td>\n",
       "      <td>10171.0</td>\n",
       "      <td>-12.046378</td>\n",
       "      <td>-77.042791</td>\n",
       "      <td>Peru</td>\n",
       "    </tr>\n",
       "    <tr>\n",
       "      <th>Farabundo Marti National Liberation Front (FMLN)</th>\n",
       "      <td>2952.0</td>\n",
       "      <td>7474.0</td>\n",
       "      <td>13.760003</td>\n",
       "      <td>-88.949766</td>\n",
       "      <td>El Salvador</td>\n",
       "    </tr>\n",
       "    <tr>\n",
       "      <th>Al-Shabaab</th>\n",
       "      <td>2675.0</td>\n",
       "      <td>7347.0</td>\n",
       "      <td>2.046871</td>\n",
       "      <td>45.318141</td>\n",
       "      <td>Somalia</td>\n",
       "    </tr>\n",
       "  </tbody>\n",
       "</table>\n",
       "</div>"
      ],
      "text/plain": [
       "                                                   frequ    nkill   latitude  \\\n",
       "Taliban                                           6590.0  24637.0  34.091128   \n",
       "Islamic State of Iraq and the Levant (ISIL)       4317.0  31189.0  34.316204   \n",
       "Shining Path (SL)                                 4303.0  10171.0 -12.046378   \n",
       "Farabundo Marti National Liberation Front (FMLN)  2952.0   7474.0  13.760003   \n",
       "Al-Shabaab                                        2675.0   7347.0   2.046871   \n",
       "\n",
       "                                                  longitude      country  \n",
       "Taliban                                           69.093347  Afghanistan  \n",
       "Islamic State of Iraq and the Levant (ISIL)       43.868365         Iraq  \n",
       "Shining Path (SL)                                -77.042791         Peru  \n",
       "Farabundo Marti National Liberation Front (FMLN) -88.949766  El Salvador  \n",
       "Al-Shabaab                                        45.318141      Somalia  "
      ]
     },
     "execution_count": 21,
     "metadata": {},
     "output_type": "execute_result"
    }
   ],
   "source": [
    "df_groups = pd.read_csv(os.path.join(data_path, 'groups_stats.csv'), index_col=0)\n",
    "df_groups.head()"
   ]
  },
  {
   "cell_type": "markdown",
   "metadata": {},
   "source": [
    "We define here the basic function to get color accorging to number of casualities and logaritm scale of values (see next cell for explanation)"
   ]
  },
  {
   "cell_type": "code",
   "execution_count": 22,
   "metadata": {},
   "outputs": [
    {
     "data": {
      "text/plain": [
       "365"
      ]
     },
     "execution_count": 22,
     "metadata": {},
     "output_type": "execute_result"
    }
   ],
   "source": [
    "N_min = 20\n",
    "len(df_groups.loc[df_groups.frequ > N_min])"
   ]
  },
  {
   "cell_type": "code",
   "execution_count": 23,
   "metadata": {},
   "outputs": [
    {
     "name": "stdout",
     "output_type": "stream",
     "text": [
      "Number of colaboration/comp: 833\n"
     ]
    },
    {
     "data": {
      "text/html": [
       "<div>\n",
       "<style>\n",
       "    .dataframe thead tr:only-child th {\n",
       "        text-align: right;\n",
       "    }\n",
       "\n",
       "    .dataframe thead th {\n",
       "        text-align: left;\n",
       "    }\n",
       "\n",
       "    .dataframe tbody tr th {\n",
       "        vertical-align: top;\n",
       "    }\n",
       "</style>\n",
       "<table border=\"1\" class=\"dataframe\">\n",
       "  <thead>\n",
       "    <tr style=\"text-align: right;\">\n",
       "      <th></th>\n",
       "      <th>gname</th>\n",
       "      <th>gname2</th>\n",
       "      <th>compclaim</th>\n",
       "    </tr>\n",
       "  </thead>\n",
       "  <tbody>\n",
       "    <tr>\n",
       "      <th>4208</th>\n",
       "      <td>Independent Armed Revolutionary Commandos (CRIA)</td>\n",
       "      <td>Palestine Liberation Organization (PLO)</td>\n",
       "      <td>1.0</td>\n",
       "    </tr>\n",
       "    <tr>\n",
       "      <th>4209</th>\n",
       "      <td>Independent Armed Revolutionary Commandos (CRIA)</td>\n",
       "      <td>Palestine Liberation Organization (PLO)</td>\n",
       "      <td>1.0</td>\n",
       "    </tr>\n",
       "    <tr>\n",
       "      <th>4210</th>\n",
       "      <td>Independent Armed Revolutionary Commandos (CRIA)</td>\n",
       "      <td>Palestine Liberation Organization (PLO)</td>\n",
       "      <td>1.0</td>\n",
       "    </tr>\n",
       "    <tr>\n",
       "      <th>4211</th>\n",
       "      <td>Independent Armed Revolutionary Commandos (CRIA)</td>\n",
       "      <td>Palestine Liberation Organization (PLO)</td>\n",
       "      <td>1.0</td>\n",
       "    </tr>\n",
       "    <tr>\n",
       "      <th>4230</th>\n",
       "      <td>Palestine Liberation Organization (PLO)</td>\n",
       "      <td>Puerto Rican Nationalists</td>\n",
       "      <td>1.0</td>\n",
       "    </tr>\n",
       "  </tbody>\n",
       "</table>\n",
       "</div>"
      ],
      "text/plain": [
       "                                                 gname  \\\n",
       "4208  Independent Armed Revolutionary Commandos (CRIA)   \n",
       "4209  Independent Armed Revolutionary Commandos (CRIA)   \n",
       "4210  Independent Armed Revolutionary Commandos (CRIA)   \n",
       "4211  Independent Armed Revolutionary Commandos (CRIA)   \n",
       "4230           Palestine Liberation Organization (PLO)   \n",
       "\n",
       "                                       gname2  compclaim  \n",
       "4208  Palestine Liberation Organization (PLO)        1.0  \n",
       "4209  Palestine Liberation Organization (PLO)        1.0  \n",
       "4210  Palestine Liberation Organization (PLO)        1.0  \n",
       "4211  Palestine Liberation Organization (PLO)        1.0  \n",
       "4230                Puerto Rican Nationalists        1.0  "
      ]
     },
     "execution_count": 23,
     "metadata": {},
     "output_type": "execute_result"
    }
   ],
   "source": [
    "# Create 2d table with for matching pair-wise groups\n",
    "frames = [ df[['gname', 'gname2', 'compclaim']].values, \n",
    "           df[['gname', 'gname3', 'compclaim']].values, \n",
    "           df[['gname2', 'gname3', 'compclaim']].values ]\n",
    "df_multi = pd.DataFrame(np.array(frames).reshape((-1, 3)))\n",
    "df_multi.columns = ['gname', 'gname2', 'compclaim']\n",
    "df_multi.compclaim = df_multi.compclaim.replace({-9: np.nan})\n",
    "# Drop line with NaN (not relevant matching)\n",
    "df_multi.dropna(subset=('gname', 'gname2', 'compclaim'), inplace=True)\n",
    "print('Number of colaboration/comp:', len(df_multi))\n",
    "df_multi.head()"
   ]
  },
  {
   "cell_type": "code",
   "execution_count": 24,
   "metadata": {},
   "outputs": [
    {
     "data": {
      "text/html": [
       "<div>\n",
       "<style>\n",
       "    .dataframe thead tr:only-child th {\n",
       "        text-align: right;\n",
       "    }\n",
       "\n",
       "    .dataframe thead th {\n",
       "        text-align: left;\n",
       "    }\n",
       "\n",
       "    .dataframe tbody tr th {\n",
       "        vertical-align: top;\n",
       "    }\n",
       "</style>\n",
       "<table border=\"1\" class=\"dataframe\">\n",
       "  <thead>\n",
       "    <tr style=\"text-align: right;\">\n",
       "      <th></th>\n",
       "      <th>gname</th>\n",
       "      <th>gname2</th>\n",
       "      <th>n_coop</th>\n",
       "      <th>n_comp</th>\n",
       "    </tr>\n",
       "  </thead>\n",
       "  <tbody>\n",
       "    <tr>\n",
       "      <th>0</th>\n",
       "      <td>Ahrar Al-Jalil (Free People of the Galilee)</td>\n",
       "      <td>Al-Aqsa Martyrs Brigade</td>\n",
       "      <td>1.0</td>\n",
       "      <td>0.0</td>\n",
       "    </tr>\n",
       "    <tr>\n",
       "      <th>1</th>\n",
       "      <td>Ahrar Al-Jalil (Free People of the Galilee)</td>\n",
       "      <td>Popular Front for the Liberation of Palestine ...</td>\n",
       "      <td>1.0</td>\n",
       "      <td>0.0</td>\n",
       "    </tr>\n",
       "    <tr>\n",
       "      <th>2</th>\n",
       "      <td>Ahrar al-Sham</td>\n",
       "      <td>Al-Nusrah Front</td>\n",
       "      <td>9.0</td>\n",
       "      <td>1.0</td>\n",
       "    </tr>\n",
       "    <tr>\n",
       "      <th>3</th>\n",
       "      <td>Ahrar al-Sham</td>\n",
       "      <td>Al-Sham Legion</td>\n",
       "      <td>5.0</td>\n",
       "      <td>0.0</td>\n",
       "    </tr>\n",
       "    <tr>\n",
       "      <th>4</th>\n",
       "      <td>Ahrar al-Sham</td>\n",
       "      <td>Ansar al-Din Front</td>\n",
       "      <td>1.0</td>\n",
       "      <td>0.0</td>\n",
       "    </tr>\n",
       "  </tbody>\n",
       "</table>\n",
       "</div>"
      ],
      "text/plain": [
       "                                         gname  \\\n",
       "0  Ahrar Al-Jalil (Free People of the Galilee)   \n",
       "1  Ahrar Al-Jalil (Free People of the Galilee)   \n",
       "2                                Ahrar al-Sham   \n",
       "3                                Ahrar al-Sham   \n",
       "4                                Ahrar al-Sham   \n",
       "\n",
       "                                              gname2  n_coop  n_comp  \n",
       "0                            Al-Aqsa Martyrs Brigade     1.0     0.0  \n",
       "1  Popular Front for the Liberation of Palestine ...     1.0     0.0  \n",
       "2                                    Al-Nusrah Front     9.0     1.0  \n",
       "3                                     Al-Sham Legion     5.0     0.0  \n",
       "4                                 Ansar al-Din Front     1.0     0.0  "
      ]
     },
     "execution_count": 24,
     "metadata": {},
     "output_type": "execute_result"
    }
   ],
   "source": [
    "# Set attrbute value to 1\n",
    "df_coop = df_multi.loc[df_multi.compclaim == 0].groupby(['gname', 'gname2']).size().reset_index(name='n_coop')\n",
    "df_comp = df_multi.loc[df_multi.compclaim == 1].groupby(['gname', 'gname2']).size().reset_index(name='n_comp')\n",
    "df_link = pd.merge(df_coop, df_comp, how='outer').fillna(0)\n",
    "df_link.head()"
   ]
  },
  {
   "cell_type": "code",
   "execution_count": 304,
   "metadata": {},
   "outputs": [],
   "source": [
    "from scipy.sparse import csc_matrix\n",
    "import scipy\n",
    "import networkx as nx\n",
    "\n",
    "groups = pd.unique(df_link[['gname', 'gname2']].values.ravel('K'))\n",
    "d = dict(zip(groups, np.arange(len(groups))))\n",
    "\n",
    "# Create Adjacency matrix with # of attack claimed together as weight between links (e.i. groups)\n",
    "W_coop = csc_matrix((df_link['n_coop'], \n",
    "                (df_link['gname'].replace(d), df_link['gname2'].replace(d))), shape=(len(d), len(d)))\n",
    "W_coop = 0.5*(W_coop.T+W_coop)"
   ]
  },
  {
   "cell_type": "code",
   "execution_count": 306,
   "metadata": {},
   "outputs": [
    {
     "name": "stdout",
     "output_type": "stream",
     "text": [
      "17\n"
     ]
    }
   ],
   "source": [
    "G = nx.from_scipy_sparse_matrix(W_coop)\n",
    "largest_cc = max(nx.connected_components(G), key=len)\n",
    "ids_keep = np.array(list(largest_cc))\n",
    "sub_groups_name = groups[ids_keep]\n",
    "print(len(ids_keep))"
   ]
  },
  {
   "cell_type": "code",
   "execution_count": 322,
   "metadata": {},
   "outputs": [
    {
     "name": "stdout",
     "output_type": "stream",
     "text": [
      "Cluster 17:  ['Ahrar Al-Jalil (Free People of the Galilee)' 'Ahrar al-Sham'\n",
      " 'Ajnad al-Sham' 'Al-Aqsa Martyrs Brigade' 'Al-Arifeen'\n",
      " 'Al-Furqan Brigades'\n",
      " \"Al-Mua'qi'oon Biddam Brigade (Those who Sign with Blood)\"\n",
      " 'Al-Nasir Army (Syria)' 'Al-Nasireen Group' 'Al-Nusrah Front' 'Al-Shabaab'\n",
      " 'Al-Sham Legion' 'Animal Liberation Front (ALF)'\n",
      " 'Ansar Al Sunnah (Palestine)' 'Ansar al-Islam' 'Arakan Army (AA)'\n",
      " 'Boricuan Armed Anti-Imperialist Commandos']\n"
     ]
    }
   ],
   "source": [
    "for g in nx.connected_components(G):\n",
    "    if len(g) >= 5:\n",
    "        print('Cluster {}: '.format(len(g)), groups[list(g)])"
   ]
  },
  {
   "cell_type": "code",
   "execution_count": 307,
   "metadata": {},
   "outputs": [],
   "source": [
    "W = W_coop\n",
    "W = W.toarray()[ids_keep, :]\n",
    "W = W[:, ids_keep]\n",
    "W[W > 0] = 1\n",
    "W = scipy.sparse.csr_matrix(W)"
   ]
  },
  {
   "cell_type": "code",
   "execution_count": 309,
   "metadata": {},
   "outputs": [
    {
     "data": {
      "text/plain": [
       "<matplotlib.colorbar.Colorbar at 0x7f0a1f94b908>"
      ]
     },
     "execution_count": 309,
     "metadata": {},
     "output_type": "execute_result"
    },
    {
     "data": {
      "image/png": "[encoded data removed]",
      "text/plain": [
       "<matplotlib.figure.Figure at 0x7f0a20087278>"
      ]
     },
     "metadata": {},
     "output_type": "display_data"
    }
   ],
   "source": [
    "plt.matshow(W.toarray())\n",
    "plt.colorbar()"
   ]
  },
  {
   "cell_type": "code",
   "execution_count": 318,
   "metadata": {},
   "outputs": [
    {
     "name": "stdout",
     "output_type": "stream",
     "text": [
      "[ -3.20349088e-16   4.62485376e-01   5.73840537e-01]\n"
     ]
    }
   ],
   "source": [
    "d = np.power(np.sum(W, axis=1), -0.5)  # normalized laplacian\n",
    "D = scipy.sparse.diags(np.ravel(d), 0).tocsc()\n",
    "L = scipy.sparse.identity(len(ids_keep)) - D * W * D\n",
    "\n",
    "lam, V = scipy.sparse.linalg.eigsh(L, k=3, which='SM')\n",
    "pos = dict(zip(np.arange(len(G.edges)), V[:,1:3]))\n",
    "print(lam)"
   ]
  },
  {
   "cell_type": "code",
   "execution_count": 494,
   "metadata": {},
   "outputs": [
    {
     "data": {
      "image/png": "[encoded data removed]",
      "text/plain": [
       "<matplotlib.figure.Figure at 0x7f0a1d486898>"
      ]
     },
     "metadata": {},
     "output_type": "display_data"
    }
   ],
   "source": [
    "def get_dummy(type_=0):\n",
    "    if type_ == 0:\n",
    "        W = np.zeros((14,14))\n",
    "        np.fill_diagonal(W[1:, 0:], 1, wrap=True)\n",
    "        W[-1, 0] = 1; W[3, 2] = -1; W[7, 6] = -1; W[-1, -2] = -1\n",
    "        W = W + W.T\n",
    "    else:\n",
    "        W = np.zeros((7,7))\n",
    "        np.fill_diagonal(W[1:, 0:], 1, wrap=True)\n",
    "        np.fill_diagonal(W[0:, 1:], 1, wrap=True)\n",
    "        W[0, -1] = -1\n",
    "        W[-1, 0] = -1\n",
    "    W = scipy.sparse.csr_matrix(W) \n",
    "    return W\n",
    "    \n",
    "def draw_graph(W):\n",
    "    base_g = compute_L_base(W, k=3)\n",
    "    G = nx.from_scipy_sparse_matrix(W)\n",
    "    #val = W[np.array(G.edges)[:,0], np.array(G.edges)[:,1]]\n",
    "    val = [-W[g[0],g[1]] for g in G.edges]\n",
    "    plt.figure(figsize=(7,7))\n",
    "    nx.draw_networkx_nodes(G, pos=base_g, node_color='k')\n",
    "    nx.draw_networkx_edges(G, pos=base_g, edge_color=val, width=4, \n",
    "                           edge_cmap=plt.cm.bwr, edges_max=1, edges_min=-1)\n",
    "    nx.draw_networkx_labels(G, base_g, font_color='w')\n",
    "    \n",
    "def compute_L_base(W, k=3):\n",
    "    D = scipy.sparse.diags(np.ravel(np.abs(W).sum(1)), 0)\n",
    "    L = (D - W).tocsc()\n",
    "    lam, V = scipy.sparse.linalg.eigsh(L, k=k, which='SM')\n",
    "    id_first = np.nonzero(lam > 1e-10)[0][0]\n",
    "    base_g = V[:,id_first:id_first+2]\n",
    "    return base_g\n",
    "    \n",
    "W = get_dummy()\n",
    "draw_graph(W)"
   ]
  },
  {
   "cell_type": "code",
   "execution_count": 388,
   "metadata": {},
   "outputs": [
    {
     "data": {
      "text/plain": [
       "array([[ 0.,  1.,  0.,  0.,  0.,  0., -1.],\n",
       "       [ 1.,  0.,  1.,  0.,  0.,  0.,  0.],\n",
       "       [ 0.,  1.,  0.,  1.,  0.,  0.,  0.],\n",
       "       [ 0.,  0.,  1.,  0.,  1.,  0.,  0.],\n",
       "       [ 0.,  0.,  0.,  1.,  0.,  1.,  0.],\n",
       "       [ 0.,  0.,  0.,  0.,  1.,  0.,  1.],\n",
       "       [-1.,  0.,  0.,  0.,  0.,  1.,  0.]])"
      ]
     },
     "execution_count": 388,
     "metadata": {},
     "output_type": "execute_result"
    }
   ],
   "source": [
    "W.toarray()"
   ]
  },
  {
   "cell_type": "code",
   "execution_count": 463,
   "metadata": {},
   "outputs": [
    {
     "data": {
      "text/plain": [
       "array(['Ahrar al-Sham', 'Free Idlib Army', 'Ajnad al-Sham', 'Jund al-Aqsa',\n",
       "       'Al-Furqan Brigades', 'Islamic Front (Syria)', 'Jaish al-Sunnah',\n",
       "       'Islamic State of Iraq and the Levant (ISIL)',\n",
       "       'Jaysh al-Islam (Syria)', 'Al-Nusrah Front', 'Al-Sham Legion',\n",
       "       'Al-Nasir Army (Syria)', 'Ansar al-Islam', 'Ansar al-Din Front',\n",
       "       'Free Syrian Army', 'Shamiya Front', 'Southern Front'], dtype=object)"
      ]
     },
     "execution_count": 463,
     "metadata": {},
     "output_type": "execute_result"
    }
   ],
   "source": [
    "groups[ids_keep]"
   ]
  },
  {
   "cell_type": "code",
   "execution_count": null,
   "metadata": {},
   "outputs": [],
   "source": []
  }
 ],
 "metadata": {
  "anaconda-cloud": {},
  "kernelspec": {
   "display_name": "Python [conda env:ada]",
   "language": "python",
   "name": "conda-env-ada-py"
  },
  "language_info": {
   "codemirror_mode": {
    "name": "ipython",
    "version": 3
   },
   "file_extension": ".py",
   "mimetype": "text/x-python",
   "name": "python",
   "nbconvert_exporter": "python",
   "pygments_lexer": "ipython3",
   "version": "3.5.4"
  }
 },
 "nbformat": 4,
 "nbformat_minor": 2
}
